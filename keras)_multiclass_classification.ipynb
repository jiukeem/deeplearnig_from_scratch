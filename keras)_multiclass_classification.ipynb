{
  "nbformat": 4,
  "nbformat_minor": 0,
  "metadata": {
    "colab": {
      "name": "keras) multiclass classification.ipynb",
      "provenance": [],
      "collapsed_sections": [],
      "authorship_tag": "ABX9TyNuk1NlSF9azN6Qz9xUbwIZ",
      "include_colab_link": true
    },
    "kernelspec": {
      "name": "python3",
      "display_name": "Python 3"
    }
  },
  "cells": [
    {
      "cell_type": "markdown",
      "metadata": {
        "id": "view-in-github",
        "colab_type": "text"
      },
      "source": [
        "<a href=\"https://colab.research.google.com/github/jiukeem/deeplearning_from_scratch/blob/master/keras)_multiclass_classification.ipynb\" target=\"_parent\"><img src=\"https://colab.research.google.com/assets/colab-badge.svg\" alt=\"Open In Colab\"/></a>"
      ]
    },
    {
      "cell_type": "code",
      "metadata": {
        "id": "GRjP4RggjoGs",
        "colab_type": "code",
        "colab": {}
      },
      "source": [
        "import numpy as np\n",
        "import matplotlib.pyplot as plt\n",
        "import tensorflow as tf\n",
        "\n",
        "from sklearn.model_selection import train_test_split"
      ],
      "execution_count": 23,
      "outputs": []
    },
    {
      "cell_type": "code",
      "metadata": {
        "id": "mDhtv2ilj56V",
        "colab_type": "code",
        "colab": {}
      },
      "source": [
        "(x_train_all, y_train_all), (x_test, y_test) = tf.keras.datasets.fashion_mnist.load_data()"
      ],
      "execution_count": 24,
      "outputs": []
    },
    {
      "cell_type": "code",
      "metadata": {
        "id": "NnDVrnlGkJqF",
        "colab_type": "code",
        "colab": {
          "base_uri": "https://localhost:8080/",
          "height": 34
        },
        "outputId": "c2ea6db1-ffa1-4697-86b7-1fce42cc527f"
      },
      "source": [
        "x_train_all.shape, y_train_all.shape"
      ],
      "execution_count": 25,
      "outputs": [
        {
          "output_type": "execute_result",
          "data": {
            "text/plain": [
              "((60000, 28, 28), (60000,))"
            ]
          },
          "metadata": {
            "tags": []
          },
          "execution_count": 25
        }
      ]
    },
    {
      "cell_type": "code",
      "metadata": {
        "id": "hR_a-RxakM7u",
        "colab_type": "code",
        "colab": {
          "base_uri": "https://localhost:8080/",
          "height": 265
        },
        "outputId": "df142909-ca41-40c2-8495-a20003d20db4"
      },
      "source": [
        "plt.imshow(x_train_all[921], cmap='gray')\n",
        "plt.show()"
      ],
      "execution_count": 26,
      "outputs": [
        {
          "output_type": "display_data",
          "data": {
            "image/png": "[encoded data removed]",
            "text/plain": [
              "<Figure size 432x288 with 1 Axes>"
            ]
          },
          "metadata": {
            "tags": [],
            "needs_background": "light"
          }
        }
      ]
    },
    {
      "cell_type": "code",
      "metadata": {
        "id": "wP9cWRYokVnE",
        "colab_type": "code",
        "colab": {}
      },
      "source": [
        "x_train, x_val, y_train, y_val = train_test_split(x_train_all, y_train_all, stratify=y_train_all, test_size=0.2, random_state=42)"
      ],
      "execution_count": 27,
      "outputs": []
    },
    {
      "cell_type": "code",
      "metadata": {
        "id": "YfcDhbubkoHm",
        "colab_type": "code",
        "colab": {
          "base_uri": "https://localhost:8080/",
          "height": 34
        },
        "outputId": "ac11acc6-32b7-4d32-d3f2-f64809311c10"
      },
      "source": [
        "x_train.shape, x_val.shape"
      ],
      "execution_count": 28,
      "outputs": [
        {
          "output_type": "execute_result",
          "data": {
            "text/plain": [
              "((48000, 28, 28), (12000, 28, 28))"
            ]
          },
          "metadata": {
            "tags": []
          },
          "execution_count": 28
        }
      ]
    },
    {
      "cell_type": "code",
      "metadata": {
        "id": "5fTOEcJukrZc",
        "colab_type": "code",
        "colab": {}
      },
      "source": [
        "x_train = x_train / 255\n",
        "x_val = x_val / 255"
      ],
      "execution_count": 29,
      "outputs": []
    },
    {
      "cell_type": "code",
      "metadata": {
        "id": "13ynPwCHk3vt",
        "colab_type": "code",
        "colab": {}
      },
      "source": [
        "x_train = x_train.reshape(-1, 784)\n",
        "x_val = x_val.reshape(-1, 784)"
      ],
      "execution_count": 30,
      "outputs": []
    },
    {
      "cell_type": "code",
      "metadata": {
        "id": "KqkSsQfzlD5w",
        "colab_type": "code",
        "colab": {}
      },
      "source": [
        "y_train_encoded = tf.keras.utils.to_categorical(y_train)\n",
        "y_val_encoded = tf.keras.utils.to_categorical(y_val)"
      ],
      "execution_count": 31,
      "outputs": []
    },
    {
      "cell_type": "code",
      "metadata": {
        "id": "l05J1XXclPpO",
        "colab_type": "code",
        "colab": {}
      },
      "source": [
        "# sequential 클래스와 dense 클래스 두가지를 사용하는데 sequential은 모델을 만들어주고 거기에 dense 클래스를 사용해서\n",
        "# 레이어 설정을 지정할 수 있다 (히든레이어 개수, 각 레이어의 노드 개수, 각 레이어의 액티베이션 함수 지정 등)\n",
        "# 내가 만든 클래스는 뉴럴넷모델과 층이 구분되어 있지 않고 막 섞여있다. 층이 달라지면 꽤나 큰 수정을 해야함\n",
        "# 케라스는 내가 모델을 짜지 않아도 되는 것은 당연하고 두개가 구분되어 있기 때문에 편리하다.\n",
        "# sequential 은 햄버거 위아래 번 같은 거고 dense로 내 입맛에 맞게 치즈두장 피클빼고 등등을 조절할 수 있는거라고 보면 될듯\n",
        "\n",
        "from tensorflow.keras import Sequential\n",
        "from tensorflow.keras.layers import Dense\n",
        "model = Sequential()"
      ],
      "execution_count": 32,
      "outputs": []
    },
    {
      "cell_type": "code",
      "metadata": {
        "id": "RNClcWFOljrF",
        "colab_type": "code",
        "colab": {}
      },
      "source": [
        "model.add(Dense(100, activation='sigmoid', input_shape=(784,)))\n",
        "# 첫번째 히든레이어를 추가했다. 100은 해당레이어의 유닛(노드) 개수, activation은 내가 아는 활성함수들이 전부 가능하며 \n",
        "# 이렇게 각 레이어마다 다르게 설정해줄 수 있다. \n",
        "# 첫번째 히든레이어에는 input_shape 에 대한 값을 넣어줘야 한다. \n",
        "# 신경망 구성에 샘플개수는 영향을 끼치지 않으므로 28 * 28인 784만 넣어주면 된다"
      ],
      "execution_count": 33,
      "outputs": []
    },
    {
      "cell_type": "code",
      "metadata": {
        "id": "yoXlSTbDpbGj",
        "colab_type": "code",
        "colab": {}
      },
      "source": [
        "model.add(Dense(10, activation='softmax'))\n",
        "# 레이어 한개 더 추가. 히든 레이어 한개만 적용해볼거니까 얘는 아웃풋 레이어가 된다. \n",
        "# 다중분류이므로 유닛개수 10개, 활성함수는 소프트맥스"
      ],
      "execution_count": 35,
      "outputs": []
    },
    {
      "cell_type": "code",
      "metadata": {
        "id": "dfCj9Fycp-om",
        "colab_type": "code",
        "colab": {}
      },
      "source": [
        "model.compile(optimizer='sgd', loss='categorical_crossentropy', metrics=['accuracy'])\n",
        "# fit 메소드를 쓰면 훈련하면서 기록한 정보를 History 객체에 담아서 return 한다. \n",
        "# metrics 를 입력하지 않으면 loss 만 기록되고 나는 지금 'accuracy' 도 추가한 것"
      ],
      "execution_count": 42,
      "outputs": []
    },
    {
      "cell_type": "code",
      "metadata": {
        "id": "9O0KMbOyrjNQ",
        "colab_type": "code",
        "colab": {
          "base_uri": "https://localhost:8080/",
          "height": 1000
        },
        "outputId": "b5fee1c6-3df4-4120-8b91-b548bef50b58"
      },
      "source": [
        "history = model.fit(x_train, y_train_encoded, epochs=40, validation_data=(x_val, y_val_encoded))\n",
        "# validation_data는 값을 튜플 형태로 받는 것에 유의\n",
        "# 에포크마다 깔끔하게 로스하고 정확도 다 뜨는 것봐.... 행복ㅜㅜ"
      ],
      "execution_count": 43,
      "outputs": [
        {
          "output_type": "stream",
          "text": [
            "Epoch 1/40\n",
            "1500/1500 [==============================] - 3s 2ms/step - loss: 1.3690 - accuracy: 0.6450 - val_loss: 0.9581 - val_accuracy: 0.7277\n",
            "Epoch 2/40\n",
            "1500/1500 [==============================] - 3s 2ms/step - loss: 0.8420 - accuracy: 0.7385 - val_loss: 0.7504 - val_accuracy: 0.7573\n",
            "Epoch 3/40\n",
            "1500/1500 [==============================] - 3s 2ms/step - loss: 0.7132 - accuracy: 0.7606 - val_loss: 0.6653 - val_accuracy: 0.7771\n",
            "Epoch 4/40\n",
            "1500/1500 [==============================] - 3s 2ms/step - loss: 0.6491 - accuracy: 0.7770 - val_loss: 0.6166 - val_accuracy: 0.7885\n",
            "Epoch 5/40\n",
            "1500/1500 [==============================] - 3s 2ms/step - loss: 0.6076 - accuracy: 0.7911 - val_loss: 0.5786 - val_accuracy: 0.8022\n",
            "Epoch 6/40\n",
            "1500/1500 [==============================] - 3s 2ms/step - loss: 0.5772 - accuracy: 0.8009 - val_loss: 0.5520 - val_accuracy: 0.8106\n",
            "Epoch 7/40\n",
            "1500/1500 [==============================] - 3s 2ms/step - loss: 0.5538 - accuracy: 0.8094 - val_loss: 0.5316 - val_accuracy: 0.8167\n",
            "Epoch 8/40\n",
            "1500/1500 [==============================] - 3s 2ms/step - loss: 0.5353 - accuracy: 0.8155 - val_loss: 0.5154 - val_accuracy: 0.8210\n",
            "Epoch 9/40\n",
            "1500/1500 [==============================] - 3s 2ms/step - loss: 0.5203 - accuracy: 0.8194 - val_loss: 0.5026 - val_accuracy: 0.8248\n",
            "Epoch 10/40\n",
            "1500/1500 [==============================] - 3s 2ms/step - loss: 0.5078 - accuracy: 0.8244 - val_loss: 0.4902 - val_accuracy: 0.8287\n",
            "Epoch 11/40\n",
            "1500/1500 [==============================] - 3s 2ms/step - loss: 0.4975 - accuracy: 0.8277 - val_loss: 0.4813 - val_accuracy: 0.8309\n",
            "Epoch 12/40\n",
            "1500/1500 [==============================] - 3s 2ms/step - loss: 0.4885 - accuracy: 0.8305 - val_loss: 0.4746 - val_accuracy: 0.8332\n",
            "Epoch 13/40\n",
            "1500/1500 [==============================] - 3s 2ms/step - loss: 0.4806 - accuracy: 0.8331 - val_loss: 0.4653 - val_accuracy: 0.8378\n",
            "Epoch 14/40\n",
            "1500/1500 [==============================] - 3s 2ms/step - loss: 0.4733 - accuracy: 0.8354 - val_loss: 0.4591 - val_accuracy: 0.8393\n",
            "Epoch 15/40\n",
            "1500/1500 [==============================] - 3s 2ms/step - loss: 0.4669 - accuracy: 0.8371 - val_loss: 0.4536 - val_accuracy: 0.8397\n",
            "Epoch 16/40\n",
            "1500/1500 [==============================] - 3s 2ms/step - loss: 0.4612 - accuracy: 0.8391 - val_loss: 0.4499 - val_accuracy: 0.8418\n",
            "Epoch 17/40\n",
            "1500/1500 [==============================] - 3s 2ms/step - loss: 0.4560 - accuracy: 0.8419 - val_loss: 0.4438 - val_accuracy: 0.8438\n",
            "Epoch 18/40\n",
            "1500/1500 [==============================] - 3s 2ms/step - loss: 0.4512 - accuracy: 0.8422 - val_loss: 0.4393 - val_accuracy: 0.8453\n",
            "Epoch 19/40\n",
            "1500/1500 [==============================] - 3s 2ms/step - loss: 0.4466 - accuracy: 0.8439 - val_loss: 0.4352 - val_accuracy: 0.8462\n",
            "Epoch 20/40\n",
            "1500/1500 [==============================] - 3s 2ms/step - loss: 0.4425 - accuracy: 0.8454 - val_loss: 0.4325 - val_accuracy: 0.8465\n",
            "Epoch 21/40\n",
            "1500/1500 [==============================] - 3s 2ms/step - loss: 0.4385 - accuracy: 0.8470 - val_loss: 0.4294 - val_accuracy: 0.8506\n",
            "Epoch 22/40\n",
            "1500/1500 [==============================] - 3s 2ms/step - loss: 0.4348 - accuracy: 0.8474 - val_loss: 0.4259 - val_accuracy: 0.8489\n",
            "Epoch 23/40\n",
            "1500/1500 [==============================] - 3s 2ms/step - loss: 0.4314 - accuracy: 0.8484 - val_loss: 0.4214 - val_accuracy: 0.8517\n",
            "Epoch 24/40\n",
            "1500/1500 [==============================] - 3s 2ms/step - loss: 0.4280 - accuracy: 0.8500 - val_loss: 0.4202 - val_accuracy: 0.8496\n",
            "Epoch 25/40\n",
            "1500/1500 [==============================] - 3s 2ms/step - loss: 0.4249 - accuracy: 0.8503 - val_loss: 0.4184 - val_accuracy: 0.8523\n",
            "Epoch 26/40\n",
            "1500/1500 [==============================] - 3s 2ms/step - loss: 0.4217 - accuracy: 0.8516 - val_loss: 0.4142 - val_accuracy: 0.8543\n",
            "Epoch 27/40\n",
            "1500/1500 [==============================] - 3s 2ms/step - loss: 0.4191 - accuracy: 0.8531 - val_loss: 0.4113 - val_accuracy: 0.8556\n",
            "Epoch 28/40\n",
            "1500/1500 [==============================] - 3s 2ms/step - loss: 0.4163 - accuracy: 0.8536 - val_loss: 0.4094 - val_accuracy: 0.8568\n",
            "Epoch 29/40\n",
            "1500/1500 [==============================] - 3s 2ms/step - loss: 0.4138 - accuracy: 0.8539 - val_loss: 0.4078 - val_accuracy: 0.8575\n",
            "Epoch 30/40\n",
            "1500/1500 [==============================] - 3s 2ms/step - loss: 0.4113 - accuracy: 0.8551 - val_loss: 0.4053 - val_accuracy: 0.8560\n",
            "Epoch 31/40\n",
            "1500/1500 [==============================] - 3s 2ms/step - loss: 0.4088 - accuracy: 0.8554 - val_loss: 0.4039 - val_accuracy: 0.8589\n",
            "Epoch 32/40\n",
            "1500/1500 [==============================] - 3s 2ms/step - loss: 0.4065 - accuracy: 0.8569 - val_loss: 0.4012 - val_accuracy: 0.8589\n",
            "Epoch 33/40\n",
            "1500/1500 [==============================] - 3s 2ms/step - loss: 0.4042 - accuracy: 0.8574 - val_loss: 0.3990 - val_accuracy: 0.8582\n",
            "Epoch 34/40\n",
            "1500/1500 [==============================] - 3s 2ms/step - loss: 0.4021 - accuracy: 0.8579 - val_loss: 0.4003 - val_accuracy: 0.8583\n",
            "Epoch 35/40\n",
            "1500/1500 [==============================] - 3s 2ms/step - loss: 0.4000 - accuracy: 0.8584 - val_loss: 0.3964 - val_accuracy: 0.8614\n",
            "Epoch 36/40\n",
            "1500/1500 [==============================] - 3s 2ms/step - loss: 0.3979 - accuracy: 0.8595 - val_loss: 0.3956 - val_accuracy: 0.8596\n",
            "Epoch 37/40\n",
            "1500/1500 [==============================] - 3s 2ms/step - loss: 0.3960 - accuracy: 0.8602 - val_loss: 0.3931 - val_accuracy: 0.8627\n",
            "Epoch 38/40\n",
            "1500/1500 [==============================] - 3s 2ms/step - loss: 0.3940 - accuracy: 0.8611 - val_loss: 0.3920 - val_accuracy: 0.8625\n",
            "Epoch 39/40\n",
            "1500/1500 [==============================] - 3s 2ms/step - loss: 0.3922 - accuracy: 0.8617 - val_loss: 0.3909 - val_accuracy: 0.8619\n",
            "Epoch 40/40\n",
            "1500/1500 [==============================] - 3s 2ms/step - loss: 0.3905 - accuracy: 0.8623 - val_loss: 0.3885 - val_accuracy: 0.8646\n"
          ],
          "name": "stdout"
        }
      ]
    },
    {
      "cell_type": "code",
      "metadata": {
        "id": "DgidTkxGr165",
        "colab_type": "code",
        "colab": {
          "base_uri": "https://localhost:8080/",
          "height": 34
        },
        "outputId": "e302211a-07c9-44aa-a721-f6e417df6a65"
      },
      "source": [
        "history.history.keys() \n",
        "# history 에 들어있는 값들\n",
        "# 근데 왜 history 를 두번 쳐야햄?"
      ],
      "execution_count": 45,
      "outputs": [
        {
          "output_type": "execute_result",
          "data": {
            "text/plain": [
              "dict_keys(['loss', 'accuracy', 'val_loss', 'val_accuracy'])"
            ]
          },
          "metadata": {
            "tags": []
          },
          "execution_count": 45
        }
      ]
    },
    {
      "cell_type": "code",
      "metadata": {
        "id": "XP3_latxsj9g",
        "colab_type": "code",
        "colab": {
          "base_uri": "https://localhost:8080/",
          "height": 266
        },
        "outputId": "caf12d11-42c7-48dc-c045-eaa4044b80b0"
      },
      "source": [
        "plt.plot(history.history['loss'])\n",
        "plt.plot(history.history['val_loss'])\n",
        "plt.show()"
      ],
      "execution_count": 46,
      "outputs": [
        {
          "output_type": "display_data",
          "data": {
            "image/png": "[encoded data removed]",
            "text/plain": [
              "<Figure size 432x288 with 1 Axes>"
            ]
          },
          "metadata": {
            "tags": [],
            "needs_background": "light"
          }
        }
      ]
    },
    {
      "cell_type": "code",
      "metadata": {
        "id": "CFV5FTQws4hC",
        "colab_type": "code",
        "colab": {
          "base_uri": "https://localhost:8080/",
          "height": 265
        },
        "outputId": "603625ed-b366-438a-adc8-bd815780e0a6"
      },
      "source": [
        "plt.plot(history.history['accuracy'])\n",
        "plt.plot(history.history['val_accuracy'])\n",
        "plt.show()"
      ],
      "execution_count": 47,
      "outputs": [
        {
          "output_type": "display_data",
          "data": {
            "image/png": "[encoded data removed]",
            "text/plain": [
              "<Figure size 432x288 with 1 Axes>"
            ]
          },
          "metadata": {
            "tags": [],
            "needs_background": "light"
          }
        }
      ]
    },
    {
      "cell_type": "code",
      "metadata": {
        "id": "3r4ueGzItB9C",
        "colab_type": "code",
        "colab": {
          "base_uri": "https://localhost:8080/",
          "height": 34
        },
        "outputId": "471f4e3e-8e53-4b38-9992-9fad12402312"
      },
      "source": [
        "loss, accuracy = model.evaluate(x_val, y_val_encoded, verbose=0)\n",
        "accuracy\n",
        "# evaluate 는 로스와 내가 추가한 metrics를 return한다"
      ],
      "execution_count": 49,
      "outputs": [
        {
          "output_type": "execute_result",
          "data": {
            "text/plain": [
              "0.8645833134651184"
            ]
          },
          "metadata": {
            "tags": []
          },
          "execution_count": 49
        }
      ]
    },
    {
      "cell_type": "code",
      "metadata": {
        "id": "u5TpS0XEtMnj",
        "colab_type": "code",
        "colab": {}
      },
      "source": [
        ""
      ],
      "execution_count": null,
      "outputs": []
    }
  ]
}