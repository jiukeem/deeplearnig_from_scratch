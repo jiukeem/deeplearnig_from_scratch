{
  "nbformat": 4,
  "nbformat_minor": 0,
  "metadata": {
    "colab": {
      "name": "normalization.ipynb",
      "provenance": [],
      "collapsed_sections": [],
      "authorship_tag": "ABX9TyPr17DK4gRoadrEoa+qv+V3",
      "include_colab_link": true
    },
    "kernelspec": {
      "name": "python3",
      "display_name": "Python 3"
    }
  },
  "cells": [
    {
      "cell_type": "markdown",
      "metadata": {
        "id": "view-in-github",
        "colab_type": "text"
      },
      "source": [
        "<a href=\"https://colab.research.google.com/github/jiukeem/deeplearning_from_scratch/blob/master/normalization.ipynb\" target=\"_parent\"><img src=\"https://colab.research.google.com/assets/colab-badge.svg\" alt=\"Open In Colab\"/></a>"
      ]
    },
    {
      "cell_type": "code",
      "metadata": {
        "id": "h4CCgbIgsNMd",
        "colab_type": "code",
        "colab": {}
      },
      "source": [
        "from sklearn.datasets import load_breast_cancer\n",
        "from sklearn.model_selection import train_test_split\n",
        "from sklearn.linear_model import SGDClassifier\n",
        "import numpy as np"
      ],
      "execution_count": 20,
      "outputs": []
    },
    {
      "cell_type": "code",
      "metadata": {
        "id": "fdIpaM8csSMa",
        "colab_type": "code",
        "colab": {}
      },
      "source": [
        "cancer = load_breast_cancer()\n",
        "x = cancer.data\n",
        "y = cancer.target"
      ],
      "execution_count": 21,
      "outputs": []
    },
    {
      "cell_type": "code",
      "metadata": {
        "id": "pXsABrqfslGE",
        "colab_type": "code",
        "colab": {}
      },
      "source": [
        "x_train, x_test, y_train, y_test = train_test_split(x, y, test_size=0.2, stratify=y, random_state=42)"
      ],
      "execution_count": 22,
      "outputs": []
    },
    {
      "cell_type": "code",
      "metadata": {
        "id": "Nzetc_5as0lz",
        "colab_type": "code",
        "colab": {}
      },
      "source": [
        "sgd = SGDClassifier(loss='log', max_iter=200, tol=1e-3, random_state=42)"
      ],
      "execution_count": 23,
      "outputs": []
    },
    {
      "cell_type": "code",
      "metadata": {
        "id": "sN-TcRh8tHA8",
        "colab_type": "code",
        "colab": {
          "base_uri": "https://localhost:8080/",
          "height": 34
        },
        "outputId": "bb04bbd0-0581-4b97-aaed-e98a2bdd4de0"
      },
      "source": [
        "sgd.fit(x_train, y_train)\n",
        "sgd.score(x_test, y_test)\n",
        "# 83프로에서 향상시키고 싶다면? 첫번째로 loss 파라미터를 바꿔보자"
      ],
      "execution_count": 24,
      "outputs": [
        {
          "output_type": "execute_result",
          "data": {
            "text/plain": [
              "0.8333333333333334"
            ]
          },
          "metadata": {
            "tags": []
          },
          "execution_count": 24
        }
      ]
    },
    {
      "cell_type": "code",
      "metadata": {
        "id": "fnNM4fEvtNL-",
        "colab_type": "code",
        "colab": {}
      },
      "source": [
        "sgd2 = SGDClassifier(loss='hinge', max_iter=200, tol=1e-3, random_state=42)"
      ],
      "execution_count": 25,
      "outputs": []
    },
    {
      "cell_type": "code",
      "metadata": {
        "id": "PCDMU2i3zuS0",
        "colab_type": "code",
        "colab": {
          "base_uri": "https://localhost:8080/",
          "height": 34
        },
        "outputId": "dc4c201c-a2e5-4a92-a948-9c75e09da800"
      },
      "source": [
        "sgd2.fit(x_train, y_train)\n",
        "sgd2.score(x_test, y_test)\n",
        "# 퍼포먼스를 더 늘리고 싶으면? 이제 하이퍼파라미터를 조정해보자"
      ],
      "execution_count": 26,
      "outputs": [
        {
          "output_type": "execute_result",
          "data": {
            "text/plain": [
              "0.9385964912280702"
            ]
          },
          "metadata": {
            "tags": []
          },
          "execution_count": 26
        }
      ]
    },
    {
      "cell_type": "code",
      "metadata": {
        "id": "6ixwIjCXzz2E",
        "colab_type": "code",
        "colab": {}
      },
      "source": [
        "# 기존의 Logistic Unit에서 learning rate 추가\n",
        "class LogisticUnit:\n",
        "  def __init__(self, learning_rate = 0.1):\n",
        "    self.w = None\n",
        "    self.b = None\n",
        "    self.cost_change = []\n",
        "    self.w_history = []\n",
        "    self.lr = learning_rate\n",
        "\n",
        "  def initialize_para(self, x):\n",
        "    self.w = np.ones(x.shape[1])\n",
        "    self.b = 0\n",
        "    return self.w, self.b\n",
        "\n",
        "  def forward_prop(self, x):\n",
        "    z = np.sum(x * self.w) + self.b # x.shape = (1, nx), w.shape = (1, nx), b.shape = (1, 1) 아니면 float 이라고 쓰는게 맞나?\n",
        "    a = self.sigmoid(z) # z와 a, y 모두 실수\n",
        "    return a\n",
        "\n",
        "  def sigmoid(self, z):\n",
        "    a = 1 / (1 + np.exp(-z))\n",
        "    return a\n",
        "\n",
        "  def back_prop(self, x, y, a):\n",
        "    dw = x * (a - y)\n",
        "    db = 1 * (a - y)\n",
        "    return dw, db\n",
        "\n",
        "  def fit(self, x, y, epoch=100):\n",
        "    self.w, self.b = self.initialize_para(x)\n",
        "    for i in range(epoch):\n",
        "      cost = 0\n",
        "      for x_i, y_i in zip(x, y):        \n",
        "        a = self.forward_prop(x_i)\n",
        "        dw, db = self.back_prop(x_i, y_i, a)\n",
        "        self.w = self.w - self.lr * dw\n",
        "        self.b = self.b - self.lr * db\n",
        "        a = np.clip(a, 1e-10, 1-1e-10)\n",
        "        loss = -(y_i * np.log(a) + (1 - y_i) * np.log(1 - a))\n",
        "        cost += loss\n",
        "        self.w_history.append(self.w.copy()) # 넘파이 배열을 리스트에 추가하면 실제 값이 복사되는게 아니라 배열을 참조하기 때문에 복사해서 추가\n",
        "      cost = cost / x.shape[0]\n",
        "      self.cost_change.append(cost)\n",
        "\n",
        "\n",
        "  def predict(self, x, y):\n",
        "    a = [self.forward_prop(x_i) for x_i in x]\n",
        "    y_hat = [i > 0.5 for i in a]\n",
        "    accuracy = np.mean([y_hat == y])\n",
        "    return accuracy"
      ],
      "execution_count": 53,
      "outputs": []
    },
    {
      "cell_type": "code",
      "metadata": {
        "id": "v9UgRrLX1e7K",
        "colab_type": "code",
        "colab": {}
      },
      "source": [
        "unit = LogisticUnit()"
      ],
      "execution_count": 54,
      "outputs": []
    },
    {
      "cell_type": "code",
      "metadata": {
        "id": "J04OWJae1ju5",
        "colab_type": "code",
        "colab": {
          "base_uri": "https://localhost:8080/",
          "height": 34
        },
        "outputId": "80e05ad9-d0cb-404c-b59b-3b0ee0b968a9"
      },
      "source": [
        "unit.fit(x_train, y_train)"
      ],
      "execution_count": 55,
      "outputs": [
        {
          "output_type": "stream",
          "text": [
            "/usr/local/lib/python3.6/dist-packages/ipykernel_launcher.py:21: RuntimeWarning: overflow encountered in exp\n"
          ],
          "name": "stderr"
        }
      ]
    },
    {
      "cell_type": "code",
      "metadata": {
        "id": "dTfHnKng1mSQ",
        "colab_type": "code",
        "colab": {
          "base_uri": "https://localhost:8080/",
          "height": 51
        },
        "outputId": "05e1c489-c6d3-4737-a3be-6f3549476e6b"
      },
      "source": [
        "unit.predict(x_test, y_test)"
      ],
      "execution_count": 56,
      "outputs": [
        {
          "output_type": "stream",
          "text": [
            "/usr/local/lib/python3.6/dist-packages/ipykernel_launcher.py:21: RuntimeWarning: overflow encountered in exp\n"
          ],
          "name": "stderr"
        },
        {
          "output_type": "execute_result",
          "data": {
            "text/plain": [
              "0.8157894736842105"
            ]
          },
          "metadata": {
            "tags": []
          },
          "execution_count": 56
        }
      ]
    },
    {
      "cell_type": "code",
      "metadata": {
        "id": "mbzH68Rh14ec",
        "colab_type": "code",
        "colab": {}
      },
      "source": [
        "w2 = [w[2] for w in unit.w_history]\n",
        "w3 = [w[3] for w in unit.w_history]"
      ],
      "execution_count": 58,
      "outputs": []
    },
    {
      "cell_type": "code",
      "metadata": {
        "id": "s5kA5idK2FKC",
        "colab_type": "code",
        "colab": {
          "base_uri": "https://localhost:8080/",
          "height": 279
        },
        "outputId": "5759c1a5-2828-428c-e218-aefccfa8c8f2"
      },
      "source": [
        "import matplotlib.pyplot as plt\n",
        "\n",
        "plt.plot(w2, w3)\n",
        "plt.xlabel('w[2]')\n",
        "plt.ylabel('w[3]')\n",
        "plt.show()\n",
        "# input normalization 을 해줍시다"
      ],
      "execution_count": 62,
      "outputs": [
        {
          "output_type": "display_data",
          "data": {
            "image/png": "[encoded data removed]",
            "text/plain": [
              "<Figure size 432x288 with 1 Axes>"
            ]
          },
          "metadata": {
            "tags": [],
            "needs_background": "light"
          }
        }
      ]
    },
    {
      "cell_type": "code",
      "metadata": {
        "id": "_3tP1JKR3Nfi",
        "colab_type": "code",
        "colab": {
          "base_uri": "https://localhost:8080/",
          "height": 35
        },
        "outputId": "c6fe5b93-f676-41ea-d206-81840cd27374"
      },
      "source": [
        "cancer.feature_names[2]"
      ],
      "execution_count": 63,
      "outputs": [
        {
          "output_type": "execute_result",
          "data": {
            "application/vnd.google.colaboratory.intrinsic": {
              "type": "string"
            },
            "text/plain": [
              "'mean perimeter'"
            ]
          },
          "metadata": {
            "tags": []
          },
          "execution_count": 63
        }
      ]
    },
    {
      "cell_type": "code",
      "metadata": {
        "id": "lZ5nQtVX4IUa",
        "colab_type": "code",
        "colab": {}
      },
      "source": [
        "x_mean = np.mean(x, axis=0) # 열끼리 더하고 싶으니까 axis=0\n",
        "x_std = np.std(x, axis=0)"
      ],
      "execution_count": 65,
      "outputs": []
    },
    {
      "cell_type": "code",
      "metadata": {
        "id": "VqsZAgKq5ojv",
        "colab_type": "code",
        "colab": {}
      },
      "source": [
        "x_scaled = (x - x_mean) / x_std"
      ],
      "execution_count": 66,
      "outputs": []
    },
    {
      "cell_type": "code",
      "metadata": {
        "id": "OcHFp2LE5-8R",
        "colab_type": "code",
        "colab": {}
      },
      "source": [
        "x_train, x_test, y_train, y_test = train_test_split(x_scaled, y, test_size=0.2)"
      ],
      "execution_count": 67,
      "outputs": []
    },
    {
      "cell_type": "code",
      "metadata": {
        "id": "PZJxWXof6M2h",
        "colab_type": "code",
        "colab": {}
      },
      "source": [
        "unit.fit(x_train, y_train)"
      ],
      "execution_count": 68,
      "outputs": []
    },
    {
      "cell_type": "code",
      "metadata": {
        "id": "uB_K602c6VXy",
        "colab_type": "code",
        "colab": {
          "base_uri": "https://localhost:8080/",
          "height": 34
        },
        "outputId": "fa22341f-2d5d-402f-df3b-4b11cbdcac48"
      },
      "source": [
        "unit.predict(x_test, y_test)\n",
        "# 와우 성능이 어마무시하게 좋아졌네요"
      ],
      "execution_count": 69,
      "outputs": [
        {
          "output_type": "execute_result",
          "data": {
            "text/plain": [
              "0.956140350877193"
            ]
          },
          "metadata": {
            "tags": []
          },
          "execution_count": 69
        }
      ]
    },
    {
      "cell_type": "code",
      "metadata": {
        "id": "7T4DU5Fz6YQX",
        "colab_type": "code",
        "colab": {}
      },
      "source": [
        ""
      ],
      "execution_count": null,
      "outputs": []
    }
  ]
}