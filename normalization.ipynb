{
  "nbformat": 4,
  "nbformat_minor": 0,
  "metadata": {
    "colab": {
      "name": "normalization.ipynb",
      "provenance": [],
      "collapsed_sections": [],
      "authorship_tag": "ABX9TyMODeCpDM9hD1DR16sEsT4c",
      "include_colab_link": true
    },
    "kernelspec": {
      "name": "python3",
      "display_name": "Python 3"
    }
  },
  "cells": [
    {
      "cell_type": "markdown",
      "metadata": {
        "id": "view-in-github",
        "colab_type": "text"
      },
      "source": [
        "<a href=\"https://colab.research.google.com/github/jiukeem/deeplearning_from_scratch/blob/master/normalization.ipynb\" target=\"_parent\"><img src=\"https://colab.research.google.com/assets/colab-badge.svg\" alt=\"Open In Colab\"/></a>"
      ]
    },
    {
      "cell_type": "code",
      "metadata": {
        "id": "rs-xwHuIh9yu",
        "colab_type": "code",
        "colab": {}
      },
      "source": [
        "import numpy as np\n",
        "from sklearn.datasets import load_breast_cancer\n",
        "from sklearn.model_selection import train_test_split\n",
        "import matplotlib.pyplot as plt"
      ],
      "execution_count": 1,
      "outputs": []
    },
    {
      "cell_type": "code",
      "metadata": {
        "id": "KYaCU4a3iADx",
        "colab_type": "code",
        "colab": {}
      },
      "source": [
        "cancer = load_breast_cancer()\n",
        "x = cancer.data\n",
        "y = cancer.target\n",
        "x_train_all, x_test, y_train_all, y_test = train_test_split(x, y, stratify=y, test_size=0.2, random_state=42)"
      ],
      "execution_count": 2,
      "outputs": []
    },
    {
      "cell_type": "code",
      "metadata": {
        "id": "amAXLSUOiUs2",
        "colab_type": "code",
        "colab": {}
      },
      "source": [
        "x_train, x_val, y_train, y_val = train_test_split(x_train_all, y_train_all, stratify=y_train_all, test_size=0.2, random_state=42)"
      ],
      "execution_count": 3,
      "outputs": []
    },
    {
      "cell_type": "code",
      "metadata": {
        "id": "GIcy9hxcikxB",
        "colab_type": "code",
        "colab": {
          "base_uri": "https://localhost:8080/",
          "height": 34
        },
        "outputId": "7f202a31-98e4-4277-fb6d-4694e616a3be"
      },
      "source": [
        "x_train.shape, x_val.shape"
      ],
      "execution_count": 4,
      "outputs": [
        {
          "output_type": "execute_result",
          "data": {
            "text/plain": [
              "((364, 30), (91, 30))"
            ]
          },
          "metadata": {
            "tags": []
          },
          "execution_count": 4
        }
      ]
    },
    {
      "cell_type": "code",
      "metadata": {
        "id": "jdalWm62ingh",
        "colab_type": "code",
        "colab": {}
      },
      "source": [
        "# normalization \n",
        "train_mean = np.mean(x_train, axis=0)\n",
        "train_std = np.std(x_train, axis=0)\n",
        "x_train_scaled = (x_train - train_mean) / train_std"
      ],
      "execution_count": 5,
      "outputs": []
    },
    {
      "cell_type": "code",
      "metadata": {
        "id": "azV0XysfmOOW",
        "colab_type": "code",
        "colab": {}
      },
      "source": [
        "class SingleLayer:\n",
        "  def __init__(self):\n",
        "    self.w = None\n",
        "    self.b = None\n",
        "    self.cost_history = []\n",
        "    self.w_history = []\n",
        "    \n",
        "  def initialization(self, x):\n",
        "    self.w = np.ones(x.shape[1]) # 이렇게 설정하면 (1, nx) 일지 (nx, 1) 일지 어떻게 알지?\n",
        "    self.b = 0\n",
        "    return self.w, self.b\n",
        "\n",
        "  def sigmoid(self, z):\n",
        "    a = 1 / (1 + np.exp(-z))\n",
        "    return a\n",
        "\n",
        "  def forward_prop(self, x):\n",
        "    z = np.sum(x * self.w) + self.b\n",
        "    a = self.sigmoid(z)\n",
        "    return a\n",
        "\n",
        "  def calcul_loss(self, a, y):\n",
        "    a = np.clip(a, 1e-10, 1-1e-10)\n",
        "    loss = -(y * np.log(a) + (1 - y) * np.log(1 - a))\n",
        "    return loss\n",
        "\n",
        "  def backward_prop(self, x, y, a):\n",
        "    dw = (a - y) * x\n",
        "    db = (a - y) * 1 \n",
        "    return dw, db\n",
        "\n",
        "  def fit(self, x, y, epoches=100):\n",
        "    self.w, self.b = self.initialization(x)\n",
        "    for i in range(epoches):\n",
        "      loss = 0\n",
        "      index = np.random.permutation(np.arange(len(x)))\n",
        "      for i in index:\n",
        "        a = self.forward_prop(x[i])\n",
        "        dw, db = self.backward_prop(x[i], y[i], a)\n",
        "        self.w -= dw\n",
        "        self.b -= db\n",
        "        loss += self.calcul_loss(a, y[i])\n",
        "        self.w_history.append(self.w.copy())\n",
        "      self.cost_history.append(loss / x.shape[0])\n",
        "\n",
        "  def predict(self, x): # 여기 x는 2차원 행렬로 들어온다\n",
        "    a = [self.forward_prop(x_row) for x_row in x] # 이렇게 하면 각 row가 요소가 되는 듯?\n",
        "    y_hat = [i > 0.5 for i in a]\n",
        "    return y_hat\n",
        "      \n",
        "  def score(self, x, y):\n",
        "    y_hat = self.predict(x)\n",
        "    score = np.mean(y_hat == y)\n",
        "    return score      "
      ],
      "execution_count": 6,
      "outputs": []
    },
    {
      "cell_type": "code",
      "metadata": {
        "id": "G2XIc46rtgBO",
        "colab_type": "code",
        "colab": {
          "base_uri": "https://localhost:8080/",
          "height": 51
        },
        "outputId": "1ca3b89d-5266-4989-a98f-6a34312be6c0"
      },
      "source": [
        "layer = SingleLayer()\n",
        "layer.fit(x_train_all, y_train_all)"
      ],
      "execution_count": 7,
      "outputs": [
        {
          "output_type": "stream",
          "text": [
            "/usr/local/lib/python3.6/dist-packages/ipykernel_launcher.py:14: RuntimeWarning: overflow encountered in exp\n",
            "  \n"
          ],
          "name": "stderr"
        }
      ]
    },
    {
      "cell_type": "code",
      "metadata": {
        "id": "eqsfkQh6trw9",
        "colab_type": "code",
        "colab": {
          "base_uri": "https://localhost:8080/",
          "height": 265
        },
        "outputId": "3bd6ffad-1596-4f07-de9c-f9cc643345ac"
      },
      "source": [
        "w2 = []\n",
        "w3 = []\n",
        "for w in layer.w_history:\n",
        "  w2.append(w[2])\n",
        "  w3.append(w[3])\n",
        "plt.plot(w2, w3)\n",
        "plt.show()\n",
        "\n",
        "# normalization 을 하지 않은 경우"
      ],
      "execution_count": 8,
      "outputs": [
        {
          "output_type": "display_data",
          "data": {
            "image/png": "[encoded data removed]",
            "text/plain": [
              "<Figure size 432x288 with 1 Axes>"
            ]
          },
          "metadata": {
            "tags": [],
            "needs_background": "light"
          }
        }
      ]
    },
    {
      "cell_type": "code",
      "metadata": {
        "id": "xY-VMZd8ujPv",
        "colab_type": "code",
        "colab": {
          "base_uri": "https://localhost:8080/",
          "height": 68
        },
        "outputId": "ec6dce11-2c20-4186-b6e9-78617eed8409"
      },
      "source": [
        "layer.score(x_test, y_test)"
      ],
      "execution_count": 9,
      "outputs": [
        {
          "output_type": "stream",
          "text": [
            "/usr/local/lib/python3.6/dist-packages/ipykernel_launcher.py:14: RuntimeWarning: overflow encountered in exp\n",
            "  \n"
          ],
          "name": "stderr"
        },
        {
          "output_type": "execute_result",
          "data": {
            "text/plain": [
              "0.9385964912280702"
            ]
          },
          "metadata": {
            "tags": []
          },
          "execution_count": 9
        }
      ]
    },
    {
      "cell_type": "code",
      "metadata": {
        "id": "tw9xLzbNw3Z0",
        "colab_type": "code",
        "colab": {}
      },
      "source": [
        "layer2 = SingleLayer()\n",
        "layer2.fit(x_train_scaled, y_train)"
      ],
      "execution_count": 18,
      "outputs": []
    },
    {
      "cell_type": "code",
      "metadata": {
        "id": "FfoqOblJyoAc",
        "colab_type": "code",
        "colab": {
          "base_uri": "https://localhost:8080/",
          "height": 269
        },
        "outputId": "310ffde4-e741-438f-ab86-8a7b13311814"
      },
      "source": [
        "w2 = []\n",
        "w3 = []\n",
        "for w in layer2.w_history:\n",
        "  w2.append(w[2])\n",
        "  w3.append(w[3])\n",
        "plt.plot(w2, w3)\n",
        "plt.ylim(-10, 10)\n",
        "plt.xlim(-6, 10)\n",
        "plt.show()"
      ],
      "execution_count": 23,
      "outputs": [
        {
          "output_type": "display_data",
          "data": {
            "image/png": "[encoded data removed]",
            "text/plain": [
              "<Figure size 432x288 with 1 Axes>"
            ]
          },
          "metadata": {
            "tags": [],
            "needs_background": "light"
          }
        }
      ]
    },
    {
      "cell_type": "code",
      "metadata": {
        "id": "25Um4zgqxgPE",
        "colab_type": "code",
        "colab": {
          "base_uri": "https://localhost:8080/",
          "height": 34
        },
        "outputId": "647eb0b4-d364-4a47-c8c7-01a8cb31e336"
      },
      "source": [
        "x_val_scaled = (x_val - train_mean) / train_std\n",
        "layer2.score(x_val_scaled, y_val)"
      ],
      "execution_count": 20,
      "outputs": [
        {
          "output_type": "execute_result",
          "data": {
            "text/plain": [
              "0.945054945054945"
            ]
          },
          "metadata": {
            "tags": []
          },
          "execution_count": 20
        }
      ]
    },
    {
      "cell_type": "code",
      "metadata": {
        "id": "j7lzVYQjx7Uj",
        "colab_type": "code",
        "colab": {
          "base_uri": "https://localhost:8080/",
          "height": 34
        },
        "outputId": "a03f76fd-89ef-41a4-f409-a3733d6d7ef2"
      },
      "source": [
        "x_test_scaled = (x_test - train_mean) / train_std\n",
        "layer2.score(x_test_scaled, y_test)"
      ],
      "execution_count": 21,
      "outputs": [
        {
          "output_type": "execute_result",
          "data": {
            "text/plain": [
              "0.9385964912280702"
            ]
          },
          "metadata": {
            "tags": []
          },
          "execution_count": 21
        }
      ]
    },
    {
      "cell_type": "code",
      "metadata": {
        "id": "YC3agkiLyCn6",
        "colab_type": "code",
        "colab": {}
      },
      "source": [
        ""
      ],
      "execution_count": null,
      "outputs": []
    }
  ]
}