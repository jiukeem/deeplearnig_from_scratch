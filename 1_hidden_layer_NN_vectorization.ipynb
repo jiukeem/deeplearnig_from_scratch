{
  "nbformat": 4,
  "nbformat_minor": 0,
  "metadata": {
    "colab": {
      "name": "1 hidden layer NN_vectorization.ipynb",
      "provenance": [],
      "collapsed_sections": [],
      "authorship_tag": "ABX9TyMUhEo2qneFWFNIjNNr44lr",
      "include_colab_link": true
    },
    "kernelspec": {
      "name": "python3",
      "display_name": "Python 3"
    }
  },
  "cells": [
    {
      "cell_type": "markdown",
      "metadata": {
        "id": "view-in-github",
        "colab_type": "text"
      },
      "source": [
        "<a href=\"https://colab.research.google.com/github/jiukeem/deeplearning_from_scratch/blob/master/1_hidden_layer_NN_vectorization.ipynb\" target=\"_parent\"><img src=\"https://colab.research.google.com/assets/colab-badge.svg\" alt=\"Open In Colab\"/></a>"
      ]
    },
    {
      "cell_type": "code",
      "metadata": {
        "id": "I1KvO7fh-qfA",
        "colab_type": "code",
        "colab": {}
      },
      "source": [
        "import numpy as np\n",
        "import matplotlib.pyplot as plt"
      ],
      "execution_count": 1,
      "outputs": []
    },
    {
      "cell_type": "code",
      "metadata": {
        "id": "uTao-3J0-xEF",
        "colab_type": "code",
        "colab": {}
      },
      "source": [
        "from sklearn.datasets import load_breast_cancer\n",
        "from sklearn.model_selection import train_test_split"
      ],
      "execution_count": 2,
      "outputs": []
    },
    {
      "cell_type": "code",
      "metadata": {
        "id": "M1CeQy0__Tm-",
        "colab_type": "code",
        "colab": {
          "base_uri": "https://localhost:8080/",
          "height": 34
        },
        "outputId": "49714524-0696-4c3f-9a24-b98d7b9fade2"
      },
      "source": [
        "cancer = load_breast_cancer()\n",
        "x = cancer.data\n",
        "y = cancer.target\n",
        "y = y.reshape(-1, 1)\n",
        "y.shape"
      ],
      "execution_count": 3,
      "outputs": [
        {
          "output_type": "execute_result",
          "data": {
            "text/plain": [
              "(569, 1)"
            ]
          },
          "metadata": {
            "tags": []
          },
          "execution_count": 3
        }
      ]
    },
    {
      "cell_type": "code",
      "metadata": {
        "id": "R27zd8YP_aC-",
        "colab_type": "code",
        "colab": {}
      },
      "source": [
        "x_train_all, x_test, y_train_all, y_test = train_test_split(x, y, stratify=y, test_size=0.2, random_state=42)\n",
        "x_train, x_val, y_train, y_val = train_test_split(x_train_all, y_train_all, stratify=y_train_all, test_size=0.2, random_state=42)"
      ],
      "execution_count": 4,
      "outputs": []
    },
    {
      "cell_type": "code",
      "metadata": {
        "id": "MyVLiUSUAIZR",
        "colab_type": "code",
        "colab": {
          "base_uri": "https://localhost:8080/",
          "height": 85
        },
        "outputId": "fa566a65-cefb-44c0-a03e-6b0b29684149"
      },
      "source": [
        "print('shape of x_train: {}'.format(x_train.shape))\n",
        "print('shape of y_train: {}'.format(y_train.shape))\n",
        "print('shape of x_val: {}'.format(x_val.shape))\n",
        "print('shape of x_test: {}'.format(x_test.shape))"
      ],
      "execution_count": 5,
      "outputs": [
        {
          "output_type": "stream",
          "text": [
            "shape of x_train: (364, 30)\n",
            "shape of y_train: (364, 1)\n",
            "shape of x_val: (91, 30)\n",
            "shape of x_test: (114, 30)\n"
          ],
          "name": "stdout"
        }
      ]
    },
    {
      "cell_type": "code",
      "metadata": {
        "id": "pEdvfgiTAOPR",
        "colab_type": "code",
        "colab": {}
      },
      "source": [
        "mean = np.mean(x_train, axis=0)\n",
        "std = np.std(x_train, axis=0)"
      ],
      "execution_count": 6,
      "outputs": []
    },
    {
      "cell_type": "code",
      "metadata": {
        "id": "EmQ1wMPxArS9",
        "colab_type": "code",
        "colab": {}
      },
      "source": [
        "x_train_scaled = (x_train - mean) / std\n",
        "x_val_scaled = (x_val - mean) / std\n",
        "x_test_scaled = (x_test - mean) / std\n"
      ],
      "execution_count": 7,
      "outputs": []
    },
    {
      "cell_type": "code",
      "metadata": {
        "id": "ylMcULnWA6zC",
        "colab_type": "code",
        "colab": {}
      },
      "source": [
        "class DualLayer:\n",
        "  def __init__(self, learning_rate=0.1, num_of_node=10, l2_lambda=0):\n",
        "    self.W1 = None\n",
        "    self.b1 = None\n",
        "    self.W2 = None\n",
        "    self.b2 = None\n",
        "    self.lr = learning_rate\n",
        "    self.node = num_of_node\n",
        "    self.cost_history = []\n",
        "    self.l2 = l2_lambda\n",
        "    self.val_cost_history = []\n",
        "\n",
        "  def initialization(self, X):\n",
        "    np.random.seed(42) # 실전에서는 필요없따\n",
        "    self.W1 = np.random.normal(0, 1, (X.shape[1], self.node))\n",
        "    self.b1 = np.zeros((1, self.node))\n",
        "    self.W2 = np.random.normal(0, 1, (self.node, 1))\n",
        "    self.b2 = 0\n",
        "    return self.W1, self.b1, self.W2, self.b2 \n",
        "\n",
        "  def sigmoid(self, Z):\n",
        "    A = 1 / (1 + np.exp(-Z))\n",
        "    return A\n",
        "\n",
        "  def forward_prop(self, X):\n",
        "    Z1 = np.dot(X, self.W1) + self.b1\n",
        "    A1 = self.sigmoid(Z1)\n",
        "    Z2 = np.dot(A1, self.W2) + self.b2\n",
        "    A2 = self.sigmoid(Z2)\n",
        "    cache = (Z1, A1, Z2)\n",
        "    return A2, cache\n",
        "\n",
        "  def backward_prop(self, X, Y, A2, cache):\n",
        "    Z1, A1, Z2 = cache\n",
        "    m = X.shape[0]\n",
        "    dW2 = np.dot(A1.T, A2 - Y) / m + self.l2 * self.W2\n",
        "    db2 = np.sum(A2 - Y) / m\n",
        "    temp = np.dot(A2 - Y, self.W2.T) * A1 * (1 - A1)\n",
        "    dW1 = np.dot(X.T, temp) / m + self.l2 * self.W1\n",
        "    db1 = np.sum(temp, axis=0) / m\n",
        "    gradient = (dW2, db2, dW1, db1)\n",
        "    return gradient\n",
        "\n",
        "  def undate_parameter(self, gradient):\n",
        "    dW2, db2, dW1, db1 = gradient\n",
        "    self.W2 -= dW2\n",
        "    self.b2 -= db2\n",
        "    self.W1 -= dW1\n",
        "    self.b1 -= db1\n",
        "\n",
        "  def calcul_cost(self, Y, A2):\n",
        "    A2 = np.clip(A2, 1e-10, 1-1e-10)\n",
        "    L = -(Y * np.log(A2) + (1 - Y) * np.log(1 - A2)) + self.l2\n",
        "    regul = self.l2 / 2 * (np.sum(self.W1 ** 2) + np.sum(self.W2 ** 2))\n",
        "    L += regul\n",
        "    cost = np.sum(L) / Y.shape[0]\n",
        "    return cost\n",
        "\n",
        "  def fit(self, X, Y, epoch=100, X_val=None, Y_val=None):\n",
        "    self.W1, self.b1, self.W2, self.b2 = self.initialization(X)\n",
        "    for i in range(epoch):\n",
        "      A2, cache = self.forward_prop(X)\n",
        "      gradient = self.backward_prop(X, Y, A2, cache)\n",
        "      self.undate_parameter(gradient)\n",
        "      cost = self.calcul_cost(Y, A2)\n",
        "      self.cost_history.append(cost)\n",
        "      self.update_val(X_val, Y_val)\n",
        "\n",
        "  def update_val(self, X_val, Y_val):\n",
        "    A2, _ = self.forward_prop(X_val)\n",
        "    cost = self.calcul_cost(Y_val, A2)\n",
        "    self.val_cost_history.append(cost)\n",
        "\n",
        "  def predict(self, X, Y):\n",
        "    A2, _ = self.forward_prop(X)\n",
        "    return A2 > 0.5\n",
        "\n",
        "  def score(self, X, Y):\n",
        "    Y_hat = self.predict(X, Y)\n",
        "    score = np.mean(Y_hat == Y)\n",
        "    return score"
      ],
      "execution_count": 8,
      "outputs": []
    },
    {
      "cell_type": "code",
      "metadata": {
        "id": "aXQnHahKNCp6",
        "colab_type": "code",
        "colab": {}
      },
      "source": [
        "dual_layer = DualLayer(l2_lambda=0)\n",
        "dual_layer.fit(x_train_scaled, y_train, X_val=x_val_scaled, Y_val=y_val, epoch=20000)"
      ],
      "execution_count": 9,
      "outputs": []
    },
    {
      "cell_type": "code",
      "metadata": {
        "id": "snAQruIGOHz8",
        "colab_type": "code",
        "colab": {
          "base_uri": "https://localhost:8080/",
          "height": 34
        },
        "outputId": "fa81609c-0236-47ac-cf28-cb039d83847a"
      },
      "source": [
        "dual_layer.score(x_val_scaled, y_val)"
      ],
      "execution_count": 10,
      "outputs": [
        {
          "output_type": "execute_result",
          "data": {
            "text/plain": [
              "0.978021978021978"
            ]
          },
          "metadata": {
            "tags": []
          },
          "execution_count": 10
        }
      ]
    },
    {
      "cell_type": "code",
      "metadata": {
        "id": "crucqsrebRvz",
        "colab_type": "code",
        "colab": {
          "base_uri": "https://localhost:8080/",
          "height": 269
        },
        "outputId": "3e4dc5c8-2e68-406f-e2ed-1c8e09594ea8"
      },
      "source": [
        "plt.ylim(0, 0.3)\n",
        "plt.plot(dual_layer.cost_history)\n",
        "plt.plot(dual_layer.val_cost_history)\n",
        "plt.show()"
      ],
      "execution_count": 11,
      "outputs": [
        {
          "output_type": "display_data",
          "data": {
            "image/png": "[encoded data removed]",
            "text/plain": [
              "<Figure size 432x288 with 1 Axes>"
            ]
          },
          "metadata": {
            "tags": [],
            "needs_background": "light"
          }
        }
      ]
    },
    {
      "cell_type": "code",
      "metadata": {
        "id": "rvmB11nWbjfc",
        "colab_type": "code",
        "colab": {
          "base_uri": "https://localhost:8080/",
          "height": 34
        },
        "outputId": "b1584589-6b9a-4b90-b215-50f5deefded8"
      },
      "source": [
        "dual_layer2 = DualLayer(l2_lambda=0.001)\n",
        "dual_layer2.fit(x_train_scaled, y_train, X_val=x_val_scaled, Y_val=y_val, epoch=500)\n",
        "dual_layer2.score(x_val_scaled, y_val)"
      ],
      "execution_count": 23,
      "outputs": [
        {
          "output_type": "execute_result",
          "data": {
            "text/plain": [
              "0.978021978021978"
            ]
          },
          "metadata": {
            "tags": []
          },
          "execution_count": 23
        }
      ]
    },
    {
      "cell_type": "code",
      "metadata": {
        "id": "xWjLPdlTb7ui",
        "colab_type": "code",
        "colab": {
          "base_uri": "https://localhost:8080/",
          "height": 269
        },
        "outputId": "032e2b77-f849-4a32-c1d6-17312237cb8a"
      },
      "source": [
        "plt.ylim(0, 0.7)\n",
        "plt.plot(dual_layer2.cost_history)\n",
        "plt.plot(dual_layer2.val_cost_history)\n",
        "plt.show()"
      ],
      "execution_count": 24,
      "outputs": [
        {
          "output_type": "display_data",
          "data": {
            "image/png": "[encoded data removed]",
            "text/plain": [
              "<Figure size 432x288 with 1 Axes>"
            ]
          },
          "metadata": {
            "tags": [],
            "needs_background": "light"
          }
        }
      ]
    },
    {
      "cell_type": "code",
      "metadata": {
        "id": "cvywjYFMcRBo",
        "colab_type": "code",
        "colab": {}
      },
      "source": [
        ""
      ],
      "execution_count": null,
      "outputs": []
    }
  ]
}