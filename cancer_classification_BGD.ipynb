{
  "nbformat": 4,
  "nbformat_minor": 0,
  "metadata": {
    "colab": {
      "name": "cancer_classification_BGD.ipynb",
      "provenance": [],
      "collapsed_sections": [],
      "authorship_tag": "ABX9TyPRxZeFfb/0wkFurHxv902g",
      "include_colab_link": true
    },
    "kernelspec": {
      "name": "python3",
      "display_name": "Python 3"
    }
  },
  "cells": [
    {
      "cell_type": "markdown",
      "metadata": {
        "id": "view-in-github",
        "colab_type": "text"
      },
      "source": [
        "<a href=\"https://colab.research.google.com/github/jiukeem/deeplearning_from_scratch/blob/master/cancer_classification_BGD.ipynb\" target=\"_parent\"><img src=\"https://colab.research.google.com/assets/colab-badge.svg\" alt=\"Open In Colab\"/></a>"
      ]
    },
    {
      "cell_type": "code",
      "metadata": {
        "id": "2AI0RMcl8IDL",
        "colab_type": "code",
        "colab": {}
      },
      "source": [
        "import numpy as np\n",
        "import matplotlib.pyplot as plt\n",
        "from sklearn.datasets import load_breast_cancer\n",
        "from sklearn.model_selection import train_test_split"
      ],
      "execution_count": 1,
      "outputs": []
    },
    {
      "cell_type": "code",
      "metadata": {
        "id": "_V2ObTYJ8M-T",
        "colab_type": "code",
        "colab": {}
      },
      "source": [
        "cancer = load_breast_cancer()"
      ],
      "execution_count": 2,
      "outputs": []
    },
    {
      "cell_type": "code",
      "metadata": {
        "id": "C-_qim8m8Pae",
        "colab_type": "code",
        "colab": {
          "base_uri": "https://localhost:8080/",
          "height": 51
        },
        "outputId": "98a2c134-8d51-44f5-cdd8-1ea563322f7a"
      },
      "source": [
        "X = cancer.data\n",
        "Y = cancer.target\n",
        "\n",
        "print('shape of X:', X.shape)\n",
        "print('shape of Y:', Y.shape)"
      ],
      "execution_count": 3,
      "outputs": [
        {
          "output_type": "stream",
          "text": [
            "shape of X: (569, 30)\n",
            "shape of Y: (569,)\n"
          ],
          "name": "stdout"
        }
      ]
    },
    {
      "cell_type": "code",
      "metadata": {
        "id": "JTSOj58g8Qid",
        "colab_type": "code",
        "colab": {
          "base_uri": "https://localhost:8080/",
          "height": 51
        },
        "outputId": "6f529037-152d-40d8-ff57-9c00ccce72f6"
      },
      "source": [
        "print('num of feature:', X.shape[1])\n",
        "print('num of examples:', X.shape[0])"
      ],
      "execution_count": 4,
      "outputs": [
        {
          "output_type": "stream",
          "text": [
            "num of feature: 30\n",
            "num of examples: 569\n"
          ],
          "name": "stdout"
        }
      ]
    },
    {
      "cell_type": "code",
      "metadata": {
        "id": "gt0SrLqH8RnN",
        "colab_type": "code",
        "colab": {}
      },
      "source": [
        "X_train, X_test, Y_train, Y_test = train_test_split(X, Y, test_size=0.2)"
      ],
      "execution_count": 5,
      "outputs": []
    },
    {
      "cell_type": "code",
      "metadata": {
        "id": "LbmRJZ-h8S4n",
        "colab_type": "code",
        "colab": {
          "base_uri": "https://localhost:8080/",
          "height": 85
        },
        "outputId": "d642cb3a-ec9d-4904-c820-0de95a0a7cc2"
      },
      "source": [
        "print('shape of X_train:', X_train.shape)\n",
        "print('shape of Y_train:', Y_train.shape)\n",
        "print('shape of X_test:', X_test.shape)\n",
        "print('shape of Y_test:', Y_test.shape)"
      ],
      "execution_count": 6,
      "outputs": [
        {
          "output_type": "stream",
          "text": [
            "shape of X_train: (455, 30)\n",
            "shape of Y_train: (455,)\n",
            "shape of X_test: (114, 30)\n",
            "shape of Y_test: (114,)\n"
          ],
          "name": "stdout"
        }
      ]
    },
    {
      "cell_type": "code",
      "metadata": {
        "id": "ipot2Sav8UAX",
        "colab_type": "code",
        "colab": {}
      },
      "source": [
        "class LogisticUnit:\n",
        "  def __init__(self):\n",
        "    self.w = None\n",
        "    self.b = None\n",
        "    self.cost_change = []\n",
        "\n",
        "  def initialize_para(self, x):\n",
        "    self.w = np.ones((1, x.shape[1]))\n",
        "    self.b = 0\n",
        "    return self.w, self.b\n",
        "\n",
        "  def forward_prop(self, x):\n",
        "    z = np.sum(x * self.w) + self.b # x.shape = (1, nx), w.shape = (1, nx)\n",
        "    a = self.sigmoid(z) # z와 a, y 모두 실수\n",
        "    return a\n",
        "\n",
        "  def sigmoid(self, z):\n",
        "    a = 1 / (1 + np.exp(-z))\n",
        "    return a\n",
        "\n",
        "  def back_prop(self, x, y, a):\n",
        "    dw = x * (a - y)\n",
        "    db = 1 * (a - y)\n",
        "    return dw, db\n",
        "\n",
        "  def fit(self, x, y, iteration=100):\n",
        "    self.w, self.b = self.initialize_para(x)\n",
        "    for _ in range(iteration):  # iteration 한번마다 parameter 업데이트\n",
        "      cost = 0\n",
        "      dw_total = 0\n",
        "      db_total = 0\n",
        "      for x_i, y_i in zip(x, y):\n",
        "        a = self.forward_prop(x_i)\n",
        "        dw, db = self.back_prop(x_i, y_i, a)\n",
        "        dw_total += dw\n",
        "        db_total += db\n",
        "        a = np.clip(a, 1e-10, 1-1e-10) # 로그 계산 안정성을 위해 클리핑 후 로스 계산\n",
        "        loss = -(y_i * np.log(a) + (1 - y_i) * np.log(1 - a))\n",
        "        cost += loss\n",
        "\n",
        "      cost = cost / x.shape[0]\n",
        "      self.cost_change.append(cost)\n",
        "      dw_result = dw_total / x.shape[0]\n",
        "      db_result = db_total / x.shape[0]\n",
        "      self.w -= 0.001 * dw_result\n",
        "      self.b -= 0.001 * db_result   \n",
        "      \n",
        "  def predict(self, x, y):\n",
        "    a = [self.forward_prop(x_i) for x_i in x]\n",
        "    y_hat = [i > 0.5 for i in a]\n",
        "    accuracy = np.mean([y_hat == y])\n",
        "    return accuracy"
      ],
      "execution_count": 82,
      "outputs": []
    },
    {
      "cell_type": "code",
      "metadata": {
        "id": "metWcMnQmA4l",
        "colab_type": "code",
        "colab": {}
      },
      "source": [
        "unit = LogisticUnit()"
      ],
      "execution_count": 83,
      "outputs": []
    },
    {
      "cell_type": "code",
      "metadata": {
        "id": "BKnaZr9imDJ5",
        "colab_type": "code",
        "colab": {
          "base_uri": "https://localhost:8080/",
          "height": 34
        },
        "outputId": "d5351f63-1a43-47a2-a3c0-2f79c04a4873"
      },
      "source": [
        "unit.fit(X_train, Y_train, iteration = 200)"
      ],
      "execution_count": 84,
      "outputs": [
        {
          "output_type": "stream",
          "text": [
            "/usr/local/lib/python3.6/dist-packages/ipykernel_launcher.py:18: RuntimeWarning: overflow encountered in exp\n"
          ],
          "name": "stderr"
        }
      ]
    },
    {
      "cell_type": "code",
      "metadata": {
        "id": "RhIM3WZomHfW",
        "colab_type": "code",
        "colab": {
          "base_uri": "https://localhost:8080/",
          "height": 51
        },
        "outputId": "98dc2d03-b94e-47cf-de74-af9965f9fab1"
      },
      "source": [
        "unit.predict(X_test, Y_test)"
      ],
      "execution_count": 85,
      "outputs": [
        {
          "output_type": "stream",
          "text": [
            "/usr/local/lib/python3.6/dist-packages/ipykernel_launcher.py:18: RuntimeWarning: overflow encountered in exp\n"
          ],
          "name": "stderr"
        },
        {
          "output_type": "execute_result",
          "data": {
            "text/plain": [
              "0.8421052631578947"
            ]
          },
          "metadata": {
            "tags": []
          },
          "execution_count": 85
        }
      ]
    },
    {
      "cell_type": "code",
      "metadata": {
        "id": "YdEKM-YumNLs",
        "colab_type": "code",
        "colab": {
          "base_uri": "https://localhost:8080/",
          "height": 279
        },
        "outputId": "4fae9704-a1d7-45c2-8589-18db6122ec41"
      },
      "source": [
        "plt.plot(unit.cost_change)\n",
        "plt.xlabel('iteration')\n",
        "plt.ylabel('cost')\n",
        "plt.show()\n",
        "# converge 하긴 하는데.. 왜 이렇게 noise가 클까?"
      ],
      "execution_count": 86,
      "outputs": [
        {
          "output_type": "display_data",
          "data": {
            "image/png": "[encoded data removed]",
            "text/plain": [
              "<Figure size 432x288 with 1 Axes>"
            ]
          },
          "metadata": {
            "tags": [],
            "needs_background": "light"
          }
        }
      ]
    },
    {
      "cell_type": "code",
      "metadata": {
        "id": "PIZIL-Fvm-ZK",
        "colab_type": "code",
        "colab": {}
      },
      "source": [
        ""
      ],
      "execution_count": null,
      "outputs": []
    }
  ]
}