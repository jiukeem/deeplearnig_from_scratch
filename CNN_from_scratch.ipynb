{
  "nbformat": 4,
  "nbformat_minor": 0,
  "metadata": {
    "colab": {
      "name": "convolution NN_2.ipynb",
      "provenance": [],
      "authorship_tag": "ABX9TyMqOTsJFg6gmZ7HMmkW2xI1",
      "include_colab_link": true
    },
    "kernelspec": {
      "name": "python3",
      "display_name": "Python 3"
    }
  },
  "cells": [
    {
      "cell_type": "markdown",
      "metadata": {
        "id": "view-in-github",
        "colab_type": "text"
      },
      "source": [
        "<a href=\"https://colab.research.google.com/github/jiukeem/deeplearning_from_scratch/blob/master/convolution_NN_2.ipynb\" target=\"_parent\"><img src=\"https://colab.research.google.com/assets/colab-badge.svg\" alt=\"Open In Colab\"/></a>"
      ]
    },
    {
      "cell_type": "code",
      "metadata": {
        "id": "Zah3lDw13VDo",
        "colab_type": "code",
        "colab": {}
      },
      "source": [
        "import tensorflow as tf\n",
        "import numpy as np\n"
      ],
      "execution_count": 1,
      "outputs": []
    },
    {
      "cell_type": "code",
      "metadata": {
        "id": "A0RQgdT_29st",
        "colab_type": "code",
        "colab": {}
      },
      "source": [
        "class ConvolutionNetwork:\n",
        "  def __init__(self, learning_rate=0.1, n_kernels=10, units=10, batch_size=32):\n",
        "    self.n_kernels = n_kernels\n",
        "    self.kernel_size = 3\n",
        "    self.optimizer = None\n",
        "    self.conv_w = None\n",
        "    self.conv_b = None\n",
        "    self.units = units\n",
        "    self.batch_size = batch_size\n",
        "    self.w1 = None\n",
        "    self.b1 = None\n",
        "    self.w2 = None\n",
        "    self.b2 = None\n",
        "    self.a1 = None\n",
        "    self.losses = []\n",
        "    self.val_losses = []\n",
        "    self.lr = learning_rate\n",
        "\n",
        "  def forpass(self, x):\n",
        "    c_out = tf.nn.conv2d(x, self.conv_w, strides=1, padding='SAME') + self.conv_b # 합성곱\n",
        "    r_out = tf.nn.relu(c_out) # 활성화단계(렐루)\n",
        "    p_out = tf.nn.max_pool2d(r_out, ksize=2, strides=2, padding='VALID') # 풀링 단계. 결과물은 (sample, 14, 14, 10)\n",
        "    f_out = tf.reshape(p_out, [x.shape[0], -1]) # 넘파이 어레이로 바꾸지 않더라도 tf.reshape 이 있음\n",
        "    z1 = tf.matmul(f_out, self.w1) + self.b1 # 계속 텐서 객체를 다루기 때문에 변환 후 np.dot을 사용하지 않고 tf.matmul 사용\n",
        "    a1 = tf.nn.relu(z1) # 렐루는 위에서랑 똑같이 쓰는 걸 보니 디멘션은 상관 없는 듯\n",
        "    z2 = tf.matmul(a1, self.w2) + self.b2\n",
        "    return z2    \n",
        "    \n",
        "  def init_weights(self, input_shape, n_classes):\n",
        "    g = tf.initializers.glorot_uniform()\n",
        "    # xavier 풀네임이 xavier glorot 임ㅋㅋㅋ 좋겠다 이름붙인거 많아서...\n",
        "    # 즉 이 함수는 xavier initialization을 실행해줌\n",
        "    self.conv_w = tf.Variable(g((3, 3, 1, self.n_kernels))) # g 안에는 튜플 형식으로 넣어줘야하기 때문에 괄호가 한번 더 싸인 것 유의\n",
        "    self.conv_b = tf.Variable(np.zeros(self.n_kernels), dtype=float)\n",
        "    # 책에서는 np.zeros(self.n_kernel) 이렇게 했는데 이래도 되나? 계속 요 부분이 헷갈린다.\n",
        "    # zeros() takes at most 3 arguments (4 given) 라고 에러뜸 np.zeros(1, 1, 1, self.n_kernel)는 안되나보다\n",
        "    n_features = self.n_kernels * 14 * 14  # 풀링레이어를 펼칠 때\n",
        "    self.w1 = tf.Variable(g((n_features, self.units)))\n",
        "    self.b1 = tf.Variable(np.zeros(self.units), dtype=float)\n",
        "    self.w2 = tf.Variable(g((self.units, n_classes)))\n",
        "    self.b2 = tf.Variable(np.zeros(n_classes), dtype=float) \n",
        "    # tf.Variable 함수로 선언할 때 입력값에 따라 자료'형이 결정된다. tf는 32비트 실수로 나오고 np는 64비트 실수로 나오기 때문에 통일해주기 위하여 \n",
        "    # np.zero들을 dtype=float 으로 지정했다.  \n",
        "\n",
        "  def fit(self, x, y, epochs=100, x_val=None, y_val=None):\n",
        "    self.init_weights(x.shape, y.shape[1])\n",
        "    self.optimizer = tf.optimizers.SGD(learning_rate=self.lr)\n",
        "    for i in range(epochs):\n",
        "      print('에포크', i+1, end='')\n",
        "      batch_losses = []\n",
        "      for x_batch, y_batch in self.gen_batch(x, y):\n",
        "        self.training(x_batch, y_batch)\n",
        "        batch_losses.append(self.get_loss(x_batch, y_batch))\n",
        "      self.losses.append(np.mean(batch_losses))\n",
        "      self.val_losses.append(self.get_loss(x_val, y_val))\n",
        "      print()\n",
        "\n",
        "  def gen_batch(self, x, y):\n",
        "    bins = len(x) // self.batch_size\n",
        "    index = np.random.permutation(np.arange(len(x)))\n",
        "    x = x[index]\n",
        "    y = y[index]\n",
        "    for i in range(bins):\n",
        "      start = self.batch_size * i\n",
        "      end = self.batch_size * (i + 1)\n",
        "      yield x[start: end], y[start: end]\n",
        "\n",
        "  def training(self, x, y):\n",
        "   m = len(x)\n",
        "   with tf.GradientTape() as tape: \n",
        "     # with 로 감싼 부분의 연산을 기록함. 즉 내가 원하는 gradient의 forward_prop이 여기에 적혀야 함\n",
        "     # 그리고 tf.Variable 로 지정된 객체를 추적함 즉 y를 x로 미분하고 싶다면 with 안에 x와 y의 관계식이 적혀야하고 x는 tf.Variable로 지정해줘야함\n",
        "     z = self.forpass(x)\n",
        "     loss = tf.nn.softmax_cross_entropy_with_logits(y, z) \n",
        "     # 각 샘플에 대해 로스를 계산하므로 코스트를 원하면 합쳐서 평균 내줘야함\n",
        "     # softmax를 진행하고 나서 A와 Y로 로스를 계산하는게 아니라 소프트맥스와 크로스 엔트로피 두 개가 합쳐져 있다. \n",
        "     # 소프트맥스는 Z 유닛간의 비율이기 때문에 Z값이 전체적으로 어떻게 변화하든지 그레디언트 값에는 영향을 주지 않기 때문\n",
        "     loss = tf.reduce_mean(loss)\n",
        "\n",
        "   weights_list = [self.conv_w, self.conv_b, self.w1, self.b1, self.w2, self.b2] # 이 웨이트들은 미분계산의 객체로 들어가기 때문에 tf.Variable() 함수로 initialization 해줘야 함\n",
        "   grads = tape.gradient(loss, weights_list) # 각 가중치의 그레디언트들 리스트로 나오는지 텐서로 나오는지 모르겠음\n",
        "   self.optimizer.apply_gradients(zip(grads, weights_list)) # 그레디언트와 가중치를 튜플로 묶은 리스트를 입력값으로 받음\n",
        "\n",
        "  def get_loss(self, x, y):\n",
        "    z = self.forpass(x) # 텐서플로로 진행하기 때문에 소프트맥스 함수 만들어서 A2 계산해줄 필요 없다.\n",
        "    loss = tf.nn.softmax_cross_entropy_with_logits(y, z) \n",
        "    cost = tf.reduce_mean(loss)\n",
        "    return cost.numpy() # 넘파이 어레이로 변환해서 return\n",
        "\n",
        "  def predict(self, x):\n",
        "    z = self.forpass(x)\n",
        "    return np.argmax(z.numpy(), axis=1) \n",
        "    # Z 중 가장 큰 값의 인덱스를 반환함. \n",
        "    # 정확한 값이 필요한게 아니라 가장 큰 값을 가지는 노드의 정보가 필요하므로 역시 A2 계산할 필요 없음\n",
        "\n",
        "  def score(self, x, y):\n",
        "    score = np.mean(self.predict(x) == np.argmax(y, axis=1))\n",
        "    return score"
      ],
      "execution_count": 64,
      "outputs": []
    },
    {
      "cell_type": "code",
      "metadata": {
        "id": "A3BYqY-dLAOM",
        "colab_type": "code",
        "colab": {}
      },
      "source": [
        "(x_train_all, y_train_all), (x_test, y_test) = tf.keras.datasets.fashion_mnist.load_data()"
      ],
      "execution_count": 53,
      "outputs": []
    },
    {
      "cell_type": "code",
      "metadata": {
        "id": "ncF5PRjOLVMl",
        "colab_type": "code",
        "colab": {}
      },
      "source": [
        "from sklearn.model_selection import train_test_split\n",
        "x_train, x_val, y_train, y_val = train_test_split(x_train_all, y_train_all, stratify=y_train_all,test_size=0.2, random_state=42)"
      ],
      "execution_count": 54,
      "outputs": []
    },
    {
      "cell_type": "code",
      "metadata": {
        "id": "Rdah36wJLnc3",
        "colab_type": "code",
        "colab": {}
      },
      "source": [
        "y_train_encoded = tf.keras.utils.to_categorical(y_train)\n",
        "y_val_encoded = tf.keras.utils.to_categorical(y_val)"
      ],
      "execution_count": 55,
      "outputs": []
    },
    {
      "cell_type": "code",
      "metadata": {
        "id": "tzb5RfuELzQA",
        "colab_type": "code",
        "colab": {}
      },
      "source": [
        "x_train = x_train.reshape(-1, 28, 28, 1) # 예전처럼 펼칠 필요없음. 다만 컬러채널 디멘션을 추가해줬다\n",
        "x_val = x_val.reshape(-1, 28, 28, 1)"
      ],
      "execution_count": 56,
      "outputs": []
    },
    {
      "cell_type": "code",
      "metadata": {
        "id": "a0T7PLgAMC1r",
        "colab_type": "code",
        "colab": {
          "base_uri": "https://localhost:8080/",
          "height": 34
        },
        "outputId": "2edb713f-c46d-43f9-af71-5f55dca0f98e"
      },
      "source": [
        "x_train.shape"
      ],
      "execution_count": 57,
      "outputs": [
        {
          "output_type": "execute_result",
          "data": {
            "text/plain": [
              "(48000, 28, 28, 1)"
            ]
          },
          "metadata": {
            "tags": []
          },
          "execution_count": 57
        }
      ]
    },
    {
      "cell_type": "code",
      "metadata": {
        "id": "YYj_HdCcMEsk",
        "colab_type": "code",
        "colab": {}
      },
      "source": [
        "x_train = x_train / 255\n",
        "x_val = x_val / 255"
      ],
      "execution_count": 58,
      "outputs": []
    },
    {
      "cell_type": "code",
      "metadata": {
        "id": "2NPjM42vMKhS",
        "colab_type": "code",
        "colab": {
          "base_uri": "https://localhost:8080/",
          "height": 357
        },
        "outputId": "44933d57-8612-48f7-fe85-d3fa9982a80d"
      },
      "source": [
        "cn = ConvolutionNetwork(n_kernels=10, units=100, batch_size=128, learning_rate=0.01)\n",
        "cn.fit(x_train, y_train_encoded, x_val=x_val, y_val=y_val_encoded, epochs=20)"
      ],
      "execution_count": 65,
      "outputs": [
        {
          "output_type": "stream",
          "text": [
            "에포크 1\n",
            "에포크 2\n",
            "에포크 3\n",
            "에포크 4\n",
            "에포크 5\n",
            "에포크 6\n",
            "에포크 7\n",
            "에포크 8\n",
            "에포크 9\n",
            "에포크 10\n",
            "에포크 11\n",
            "에포크 12\n",
            "에포크 13\n",
            "에포크 14\n",
            "에포크 15\n",
            "에포크 16\n",
            "에포크 17\n",
            "에포크 18\n",
            "에포크 19\n",
            "에포크 20\n"
          ],
          "name": "stdout"
        }
      ]
    },
    {
      "cell_type": "code",
      "metadata": {
        "id": "GMF8AlPtMTzo",
        "colab_type": "code",
        "colab": {
          "base_uri": "https://localhost:8080/",
          "height": 279
        },
        "outputId": "1cca66d7-ed2e-42d8-f3d1-16ee3a43e089"
      },
      "source": [
        "import matplotlib.pyplot as plt\n",
        "\n",
        "plt.plot(cn.losses)\n",
        "plt.plot(cn.val_losses)\n",
        "plt.ylabel('cost')\n",
        "plt.xlabel('epoch')\n",
        "plt.legend(['train cost', 'val cost'])\n",
        "plt.show()"
      ],
      "execution_count": 66,
      "outputs": [
        {
          "output_type": "display_data",
          "data": {
            "image/png": "[encoded data removed]",
            "text/plain": [
              "<Figure size 432x288 with 1 Axes>"
            ]
          },
          "metadata": {
            "tags": [],
            "needs_background": "light"
          }
        }
      ]
    },
    {
      "cell_type": "code",
      "metadata": {
        "id": "-jBEeM0bSOAO",
        "colab_type": "code",
        "colab": {
          "base_uri": "https://localhost:8080/",
          "height": 34
        },
        "outputId": "e5c690b2-75aa-4c9c-ee9a-a09c4ca21a89"
      },
      "source": [
        "cn.score(x_val, y_val_encoded)"
      ],
      "execution_count": 67,
      "outputs": [
        {
          "output_type": "execute_result",
          "data": {
            "text/plain": [
              "0.87675"
            ]
          },
          "metadata": {
            "tags": []
          },
          "execution_count": 67
        }
      ]
    }
  ]
}
