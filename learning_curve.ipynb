{
  "nbformat": 4,
  "nbformat_minor": 0,
  "metadata": {
    "colab": {
      "name": "learning curve.ipynb",
      "provenance": [],
      "collapsed_sections": [],
      "authorship_tag": "ABX9TyOo/KZukG43c7yuFjFvZpdK",
      "include_colab_link": true
    },
    "kernelspec": {
      "name": "python3",
      "display_name": "Python 3"
    }
  },
  "cells": [
    {
      "cell_type": "markdown",
      "metadata": {
        "id": "view-in-github",
        "colab_type": "text"
      },
      "source": [
        "<a href=\"https://colab.research.google.com/github/jiukeem/deeplearning_from_scratch/blob/master/learning_curve.ipynb\" target=\"_parent\"><img src=\"https://colab.research.google.com/assets/colab-badge.svg\" alt=\"Open In Colab\"/></a>"
      ]
    },
    {
      "cell_type": "code",
      "metadata": {
        "id": "rs-xwHuIh9yu",
        "colab_type": "code",
        "colab": {}
      },
      "source": [
        "import numpy as np\n",
        "from sklearn.datasets import load_breast_cancer\n",
        "from sklearn.model_selection import train_test_split\n",
        "import matplotlib.pyplot as plt"
      ],
      "execution_count": 1,
      "outputs": []
    },
    {
      "cell_type": "code",
      "metadata": {
        "id": "KYaCU4a3iADx",
        "colab_type": "code",
        "colab": {}
      },
      "source": [
        "cancer = load_breast_cancer()\n",
        "x = cancer.data\n",
        "y = cancer.target\n",
        "x_train_all, x_test, y_train_all, y_test = train_test_split(x, y, stratify=y, test_size=0.2, random_state=42)"
      ],
      "execution_count": 2,
      "outputs": []
    },
    {
      "cell_type": "code",
      "metadata": {
        "id": "amAXLSUOiUs2",
        "colab_type": "code",
        "colab": {}
      },
      "source": [
        "x_train, x_val, y_train, y_val = train_test_split(x_train_all, y_train_all, stratify=y_train_all, test_size=0.2, random_state=42)"
      ],
      "execution_count": 3,
      "outputs": []
    },
    {
      "cell_type": "code",
      "metadata": {
        "id": "GIcy9hxcikxB",
        "colab_type": "code",
        "colab": {
          "base_uri": "https://localhost:8080/",
          "height": 34
        },
        "outputId": "e8945de7-d391-4f9a-ff44-84a95ad97b3c"
      },
      "source": [
        "x_train.shape, x_val.shape"
      ],
      "execution_count": 4,
      "outputs": [
        {
          "output_type": "execute_result",
          "data": {
            "text/plain": [
              "((364, 30), (91, 30))"
            ]
          },
          "metadata": {
            "tags": []
          },
          "execution_count": 4
        }
      ]
    },
    {
      "cell_type": "code",
      "metadata": {
        "id": "jdalWm62ingh",
        "colab_type": "code",
        "colab": {}
      },
      "source": [
        "# normalization \n",
        "train_mean = np.mean(x_train, axis=0)\n",
        "train_std = np.std(x_train, axis=0)\n",
        "x_train_scaled = (x_train - train_mean) / train_std"
      ],
      "execution_count": 5,
      "outputs": []
    },
    {
      "cell_type": "code",
      "metadata": {
        "id": "iHoe3WCG8ZUa",
        "colab_type": "code",
        "colab": {}
      },
      "source": [
        "x_val_scaled = (x_val - train_mean) / train_std"
      ],
      "execution_count": 12,
      "outputs": []
    },
    {
      "cell_type": "code",
      "metadata": {
        "id": "azV0XysfmOOW",
        "colab_type": "code",
        "colab": {}
      },
      "source": [
        "class SingleLayer:\n",
        "  def __init__(self, learning_rate=0.1):\n",
        "    self.w = None\n",
        "    self.b = None\n",
        "    self.cost_history = []\n",
        "    self.lr = learning_rate\n",
        "    self.val_cost_history = [] # 러닝커브를 보기 위함\n",
        "        \n",
        "  def initialization(self, x):\n",
        "    self.w = np.ones(x.shape[1]) # 이렇게 설정하면 (1, nx) 일지 (nx, 1) 일지 어떻게 알지?\n",
        "    self.b = 0\n",
        "    return self.w, self.b\n",
        "\n",
        "  def sigmoid(self, z):\n",
        "    a = 1 / (1 + np.exp(-z))\n",
        "    return a\n",
        "\n",
        "  def forward_prop(self, x):\n",
        "    z = np.sum(x * self.w) + self.b\n",
        "    a = self.sigmoid(z)\n",
        "    return a\n",
        "\n",
        "  def calcul_loss(self, a, y):\n",
        "    a = np.clip(a, 1e-10, 1-1e-10)\n",
        "    loss = -(y * np.log(a) + (1 - y) * np.log(1 - a))\n",
        "    return loss\n",
        "\n",
        "  def backward_prop(self, x, y, a):\n",
        "    dw = (a - y) * x\n",
        "    db = (a - y) * 1 \n",
        "    return dw, db\n",
        "\n",
        "  def fit(self, x, y, epoches=100, x_val=None, y_val=None):\n",
        "    self.w, self.b = self.initialization(x)\n",
        "    for i in range(epoches):\n",
        "      loss = 0\n",
        "      index = np.random.permutation(np.arange(len(x)))\n",
        "      for i in index:\n",
        "        a = self.forward_prop(x[i])\n",
        "        dw, db = self.backward_prop(x[i], y[i], a)\n",
        "        self.w -= dw * self.lr\n",
        "        self.b -= db * self.lr\n",
        "        loss += self.calcul_loss(a, y[i])        \n",
        "      self.cost_history.append(loss / x.shape[0])\n",
        "      self.update_val_loss(x_val, y_val) # 얘는 cost 와 다르게 에포크 한번 돌고나면 그 파라미터를 가지고 로스 계산 (스토케스틱이라 트레이닝 셋은 모든 이그젬플에 대해 각각 다른 파라미터로 로스 계산해서 평균)\n",
        "\n",
        "  def update_val_loss(self, x_val, y_val):\n",
        "    if x_val is None:\n",
        "      return\n",
        "    val_loss = 0\n",
        "    for i in range(x_val.shape[0]):\n",
        "      a_val = self.forward_prop(x_val[i])\n",
        "      val_loss += self.calcul_loss(a_val, y_val[i])\n",
        "    self.val_cost_history.append(val_loss / x_val.shape[0])\n",
        "\n",
        "  def predict(self, x): # 여기 x는 2차원 행렬로 들어온다\n",
        "    a = [self.forward_prop(x_row) for x_row in x] # 이렇게 하면 각 row가 요소가 되는 듯?\n",
        "    y_hat = [i > 0.5 for i in a]\n",
        "    return y_hat\n",
        "      \n",
        "  def score(self, x, y):\n",
        "    y_hat = self.predict(x)\n",
        "    score = np.mean(y_hat == y)\n",
        "    return score      "
      ],
      "execution_count": 53,
      "outputs": []
    },
    {
      "cell_type": "code",
      "metadata": {
        "id": "G2XIc46rtgBO",
        "colab_type": "code",
        "colab": {}
      },
      "source": [
        "layer = SingleLayer()\n",
        "layer.fit(x_train_scaled, y_train, x_val=x_val_scaled, y_val=y_val )"
      ],
      "execution_count": 47,
      "outputs": []
    },
    {
      "cell_type": "code",
      "metadata": {
        "id": "YC3agkiLyCn6",
        "colab_type": "code",
        "colab": {
          "base_uri": "https://localhost:8080/",
          "height": 265
        },
        "outputId": "04741cc5-faa7-46ba-9a5b-41f811cde43e"
      },
      "source": [
        "plt.plot(layer.cost_history)\n",
        "plt.plot(layer.val_cost_history)\n",
        "plt.legend(['train cost', 'val cost'])\n",
        "plt.show()\n",
        "# 25에포크 쯤이 최적점이고 그 이후로는 오버피팅"
      ],
      "execution_count": 51,
      "outputs": [
        {
          "output_type": "display_data",
          "data": {
            "image/png": "[encoded data removed]",
            "text/plain": [
              "<Figure size 432x288 with 1 Axes>"
            ]
          },
          "metadata": {
            "tags": [],
            "needs_background": "light"
          }
        }
      ]
    },
    {
      "cell_type": "code",
      "metadata": {
        "id": "mIwSN4sL9RDU",
        "colab_type": "code",
        "colab": {
          "base_uri": "https://localhost:8080/",
          "height": 34
        },
        "outputId": "a3428462-955e-4120-a374-2fc6b2ff5408"
      },
      "source": [
        "layer.score(x_test_scaled, y_test)"
      ],
      "execution_count": 52,
      "outputs": [
        {
          "output_type": "execute_result",
          "data": {
            "text/plain": [
              "0.9736842105263158"
            ]
          },
          "metadata": {
            "tags": []
          },
          "execution_count": 52
        }
      ]
    },
    {
      "cell_type": "code",
      "metadata": {
        "id": "DZW0M9SCIWnz",
        "colab_type": "code",
        "colab": {}
      },
      "source": [
        "layer2 = SingleLayer()"
      ],
      "execution_count": 58,
      "outputs": []
    },
    {
      "cell_type": "code",
      "metadata": {
        "id": "vmCE9GZ4IeJv",
        "colab_type": "code",
        "colab": {}
      },
      "source": [
        "layer2.fit(x_train_scaled, y_train, epoches=30)"
      ],
      "execution_count": 61,
      "outputs": []
    },
    {
      "cell_type": "code",
      "metadata": {
        "id": "T0qbDaMoIiGF",
        "colab_type": "code",
        "colab": {
          "base_uri": "https://localhost:8080/",
          "height": 34
        },
        "outputId": "685f92f5-7a12-4aa9-ea5b-c843c5961b3b"
      },
      "source": [
        "layer2.score(x_test_scaled, y_test)\n",
        "# 오 성능 약간 향상됐다!"
      ],
      "execution_count": 62,
      "outputs": [
        {
          "output_type": "execute_result",
          "data": {
            "text/plain": [
              "0.9824561403508771"
            ]
          },
          "metadata": {
            "tags": []
          },
          "execution_count": 62
        }
      ]
    },
    {
      "cell_type": "code",
      "metadata": {
        "id": "TGvo2CQIIk_f",
        "colab_type": "code",
        "colab": {}
      },
      "source": [
        ""
      ],
      "execution_count": null,
      "outputs": []
    }
  ]
}