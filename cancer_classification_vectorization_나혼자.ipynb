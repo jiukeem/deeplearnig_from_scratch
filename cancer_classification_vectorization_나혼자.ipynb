{
  "nbformat": 4,
  "nbformat_minor": 0,
  "metadata": {
    "colab": {
      "name": "cancer_classification_vectorization_나혼자.ipynb",
      "provenance": [],
      "collapsed_sections": [],
      "authorship_tag": "ABX9TyMhzABw5KuqNn/PWbtFLLpX",
      "include_colab_link": true
    },
    "kernelspec": {
      "name": "python3",
      "display_name": "Python 3"
    }
  },
  "cells": [
    {
      "cell_type": "markdown",
      "metadata": {
        "id": "view-in-github",
        "colab_type": "text"
      },
      "source": [
        "<a href=\"https://colab.research.google.com/github/jiukeem/deeplearning_from_scratch/blob/master/cancer_classification_vectorization_%EB%82%98%ED%98%BC%EC%9E%90.ipynb\" target=\"_parent\"><img src=\"https://colab.research.google.com/assets/colab-badge.svg\" alt=\"Open In Colab\"/></a>"
      ]
    },
    {
      "cell_type": "code",
      "metadata": {
        "id": "fsylj3gbuj1D",
        "colab_type": "code",
        "colab": {}
      },
      "source": [
        "import numpy as np\n",
        "import matplotlib.pyplot as plt\n",
        "from sklearn.datasets import load_breast_cancer\n",
        "from sklearn.model_selection import train_test_split"
      ],
      "execution_count": null,
      "outputs": []
    },
    {
      "cell_type": "code",
      "metadata": {
        "id": "CS3V92rTvAHr",
        "colab_type": "code",
        "colab": {}
      },
      "source": [
        "cancer = load_breast_cancer()"
      ],
      "execution_count": null,
      "outputs": []
    },
    {
      "cell_type": "code",
      "metadata": {
        "id": "y0-mbxE8vFDM",
        "colab_type": "code",
        "colab": {
          "base_uri": "https://localhost:8080/",
          "height": 51
        },
        "outputId": "34590351-75ea-4ed9-af8c-dd97e6f9dbd3"
      },
      "source": [
        "X = cancer.data\n",
        "Y = cancer.target\n",
        "\n",
        "print('shape of X:', X.shape)\n",
        "print('shape of Y:', Y.shape)"
      ],
      "execution_count": null,
      "outputs": [
        {
          "output_type": "stream",
          "text": [
            "shape of X: (569, 30)\n",
            "shape of Y: (569,)\n"
          ],
          "name": "stdout"
        }
      ]
    },
    {
      "cell_type": "code",
      "metadata": {
        "id": "3DPygk6OvWdf",
        "colab_type": "code",
        "colab": {
          "base_uri": "https://localhost:8080/",
          "height": 51
        },
        "outputId": "df14880a-a859-4c1d-9cc9-3b1df0f08ecd"
      },
      "source": [
        "print('num of feature:', X.shape[1])\n",
        "print('num of examples:', X.shape[0])"
      ],
      "execution_count": null,
      "outputs": [
        {
          "output_type": "stream",
          "text": [
            "num of feature: 30\n",
            "num of examples: 569\n"
          ],
          "name": "stdout"
        }
      ]
    },
    {
      "cell_type": "code",
      "metadata": {
        "id": "1MZJXHOfvhr0",
        "colab_type": "code",
        "colab": {}
      },
      "source": [
        "X_train, X_test, Y_train, Y_test = train_test_split(X, Y, test_size=0.2)"
      ],
      "execution_count": null,
      "outputs": []
    },
    {
      "cell_type": "code",
      "metadata": {
        "id": "K0_N1fYywBgJ",
        "colab_type": "code",
        "colab": {
          "base_uri": "https://localhost:8080/",
          "height": 85
        },
        "outputId": "5b6ccf7f-38c8-4243-e6aa-7fd37e0b881c"
      },
      "source": [
        "print('shape of X_train:', X_train.shape)\n",
        "print('shape of Y_train:', Y_train.shape)\n",
        "print('shape of X_test:', X_test.shape)\n",
        "print('shape of Y_test:', Y_test.shape)"
      ],
      "execution_count": null,
      "outputs": [
        {
          "output_type": "stream",
          "text": [
            "shape of X_train: (455, 30)\n",
            "shape of Y_train: (455,)\n",
            "shape of X_test: (114, 30)\n",
            "shape of Y_test: (114,)\n"
          ],
          "name": "stdout"
        }
      ]
    },
    {
      "cell_type": "code",
      "metadata": {
        "id": "L8xO4rsPwTVH",
        "colab_type": "code",
        "colab": {}
      },
      "source": [
        "class LogisticUnit:\n",
        "  def __init__(self):\n",
        "    self.W = None\n",
        "    self.b = None\n",
        "\n",
        "  def random_init(self, X):\n",
        "    self.W = np.random.randn((X.shape[1], 1))\n",
        "    self.b = 0\n",
        "    return self.W, self.b\n",
        "\n",
        "  def sigmoid(self, Z):\n",
        "    A = 1 / (1 + np.exp(-Z))\n",
        "    return A\n",
        "\n",
        "  def forward_prop(self, X):\n",
        "    Z = np.dot(X, self.W) + self.b\n",
        "    A = self.sigmoid(Z)\n",
        "    return A # A.shape = (m, 1)\n",
        "\n",
        "  def back_prop(self, Y, A):\n",
        "    cost = np.sum(-(Y * np.log(A) + (1-Y) * np.log(1-A))) / Y.shape[0]\n",
        "    \n"
      ],
      "execution_count": null,
      "outputs": []
    }
  ]
}