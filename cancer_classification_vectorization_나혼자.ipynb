{
  "nbformat": 4,
  "nbformat_minor": 0,
  "metadata": {
    "colab": {
      "name": "cancer_classification_vectorization_나혼자.ipynb",
      "provenance": [],
      "collapsed_sections": [],
      "authorship_tag": "ABX9TyOQkDE4yHCVgNX9Yc/Jjgbb",
      "include_colab_link": true
    },
    "kernelspec": {
      "name": "python3",
      "display_name": "Python 3"
    }
  },
  "cells": [
    {
      "cell_type": "markdown",
      "metadata": {
        "id": "view-in-github",
        "colab_type": "text"
      },
      "source": [
        "<a href=\"https://colab.research.google.com/github/jiukeem/deeplearning_from_scratch/blob/master/cancer_classification_vectorization_%EB%82%98%ED%98%BC%EC%9E%90.ipynb\" target=\"_parent\"><img src=\"https://colab.research.google.com/assets/colab-badge.svg\" alt=\"Open In Colab\"/></a>"
      ]
    },
    {
      "cell_type": "code",
      "metadata": {
        "id": "fsylj3gbuj1D",
        "colab_type": "code",
        "colab": {}
      },
      "source": [
        "import numpy as np\n",
        "import matplotlib.pyplot as plt\n",
        "from sklearn.datasets import load_breast_cancer\n",
        "from sklearn.model_selection import train_test_split"
      ],
      "execution_count": null,
      "outputs": []
    },
    {
      "cell_type": "code",
      "metadata": {
        "id": "CS3V92rTvAHr",
        "colab_type": "code",
        "colab": {}
      },
      "source": [
        "cancer = load_breast_cancer()"
      ],
      "execution_count": null,
      "outputs": []
    },
    {
      "cell_type": "code",
      "metadata": {
        "id": "y0-mbxE8vFDM",
        "colab_type": "code",
        "colab": {
          "base_uri": "https://localhost:8080/",
          "height": 51
        },
        "outputId": "c1158338-603c-4b41-f0b0-808f1185aa37"
      },
      "source": [
        "X = cancer.data\n",
        "Y = cancer.target\n",
        "\n",
        "print('shape of X:', X.shape)\n",
        "print('shape of Y:', Y.shape)"
      ],
      "execution_count": null,
      "outputs": [
        {
          "output_type": "stream",
          "text": [
            "shape of X: (569, 30)\n",
            "shape of Y: (569,)\n"
          ],
          "name": "stdout"
        }
      ]
    },
    {
      "cell_type": "code",
      "metadata": {
        "id": "3DPygk6OvWdf",
        "colab_type": "code",
        "colab": {
          "base_uri": "https://localhost:8080/",
          "height": 51
        },
        "outputId": "096ff4f6-f6e4-4c03-8737-a82d38d299d9"
      },
      "source": [
        "print('num of feature:', X.shape[1])\n",
        "print('num of examples:', X.shape[0])"
      ],
      "execution_count": null,
      "outputs": [
        {
          "output_type": "stream",
          "text": [
            "num of feature: 30\n",
            "num of examples: 569\n"
          ],
          "name": "stdout"
        }
      ]
    },
    {
      "cell_type": "code",
      "metadata": {
        "id": "1MZJXHOfvhr0",
        "colab_type": "code",
        "colab": {}
      },
      "source": [
        "X_train, X_test, Y_train, Y_test = train_test_split(X, Y, test_size=0.2)"
      ],
      "execution_count": null,
      "outputs": []
    },
    {
      "cell_type": "code",
      "metadata": {
        "id": "K0_N1fYywBgJ",
        "colab_type": "code",
        "colab": {
          "base_uri": "https://localhost:8080/",
          "height": 85
        },
        "outputId": "b714eefe-240d-4502-abf5-aee0c79a4dea"
      },
      "source": [
        "print('shape of X_train:', X_train.shape)\n",
        "print('shape of Y_train:', Y_train.shape)\n",
        "print('shape of X_test:', X_test.shape)\n",
        "print('shape of Y_test:', Y_test.shape)"
      ],
      "execution_count": null,
      "outputs": [
        {
          "output_type": "stream",
          "text": [
            "shape of X_train: (455, 30)\n",
            "shape of Y_train: (455,)\n",
            "shape of X_test: (114, 30)\n",
            "shape of Y_test: (114,)\n"
          ],
          "name": "stdout"
        }
      ]
    },
    {
      "cell_type": "code",
      "metadata": {
        "id": "L8xO4rsPwTVH",
        "colab_type": "code",
        "colab": {}
      },
      "source": [
        "class LogisticUnit:\n",
        "  def __init__(self):\n",
        "    self.W = None\n",
        "    self.b = None\n",
        "\n",
        "  def random_init(self, X):\n",
        "    self.W = np.random.randn(X.shape[1], 1)\n",
        "    self.b = 0\n",
        "    return self.W, self.b\n",
        "\n",
        "  def sigmoid(self, Z):\n",
        "    A = 1 / (1 + np.exp(-Z))\n",
        "    return A\n",
        "\n",
        "  def forward_prop(self, X):\n",
        "    Z = np.dot(X, self.W) + self.b\n",
        "    A = self.sigmoid(Z)\n",
        "    A = np.clip(A, 1e-10, 1-1e-10)\n",
        "    return A # A.shape = (m, 1)\n",
        "\n",
        "  def calcul_cost(self, Y, A):\n",
        "    cost = np.sum(-(Y * np.log(A) + (1-Y) * np.log(1-A))) / Y.shape[0]\n",
        "    return cost\n",
        "\n",
        "  def back_prop(self, X, Y, A):\n",
        "    dW = np.dot(X.T, A - Y) / X.shape[0] # dW.shape = (nx, 1)\n",
        "    db = np.sum(A - Y) / X.shape[0]\n",
        "    return dW, db\n",
        "\n",
        "  def fit(self, X, Y, iteration=100):\n",
        "    self.W, self.b = self.random_init(X)\n",
        "    for i in range(iteration):\n",
        "      A = self.forward_prop(X)\n",
        "      cost = self.calcul_cost(Y, A)\n",
        "      dW, db = self.back_prop(X, Y, A)\n",
        "      self.W = self.W - dW\n",
        "      self.b = self.b - db\n",
        "      if i%10 == 0:\n",
        "        print(cost)\n",
        "\n",
        "  def predict(self, X, Y):\n",
        "    A = self.forward_prop(X)\n",
        "    Y_hat = [a > 0.5 for a in A]\n",
        "    accuracy = np.mean([Y_hat == Y])\n",
        "    return accuracy"
      ],
      "execution_count": 13,
      "outputs": []
    },
    {
      "cell_type": "code",
      "metadata": {
        "id": "hYE0z7Wm-QIn",
        "colab_type": "code",
        "colab": {}
      },
      "source": [
        "unit = LogisticUnit()"
      ],
      "execution_count": 14,
      "outputs": []
    },
    {
      "cell_type": "code",
      "metadata": {
        "id": "JoOBXggD-awT",
        "colab_type": "code",
        "colab": {
          "base_uri": "https://localhost:8080/",
          "height": 221
        },
        "outputId": "d60f93c1-7623-4018-c44e-292eab4bb85d"
      },
      "source": [
        "unit.fit(X_train, Y_train)"
      ],
      "execution_count": 15,
      "outputs": [
        {
          "output_type": "stream",
          "text": [
            "/usr/local/lib/python3.6/dist-packages/ipykernel_launcher.py:12: RuntimeWarning: overflow encountered in exp\n",
            "  if sys.path[0] == '':\n"
          ],
          "name": "stderr"
        },
        {
          "output_type": "stream",
          "text": [
            "6539.341664120188\n",
            "4.550000376696185e-08\n",
            "4.550000376696185e-08\n",
            "4.550000376696185e-08\n",
            "4.550000376696185e-08\n",
            "4.550000376696185e-08\n",
            "4.550000376696185e-08\n",
            "4.550000376696185e-08\n",
            "4.550000376696185e-08\n",
            "4.550000376696185e-08\n"
          ],
          "name": "stdout"
        }
      ]
    },
    {
      "cell_type": "code",
      "metadata": {
        "id": "9Ytpr_yf-eyO",
        "colab_type": "code",
        "colab": {}
      },
      "source": [
        "# 결과값도 nan으로 뜨고 runtimewarning 이 난다...ㅜㅜ 뭐가 문제인걸까\n",
        "# a -> 1 일 때 loga 가 0으로 가니 그 부분이 문제인 것 같아서 np.clip을 썼더니 nan은 안나온다(제대로 된 값은 아니지만)"
      ],
      "execution_count": null,
      "outputs": []
    }
  ]
}