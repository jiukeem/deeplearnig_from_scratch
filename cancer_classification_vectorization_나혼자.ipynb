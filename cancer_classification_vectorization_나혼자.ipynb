{
  "nbformat": 4,
  "nbformat_minor": 0,
  "metadata": {
    "colab": {
      "name": "cancer_classification_vectorization_나혼자.ipynb",
      "provenance": [],
      "collapsed_sections": [],
      "authorship_tag": "ABX9TyMY8BNw4vnmbn21Oc+mWOBm",
      "include_colab_link": true
    },
    "kernelspec": {
      "name": "python3",
      "display_name": "Python 3"
    }
  },
  "cells": [
    {
      "cell_type": "markdown",
      "metadata": {
        "id": "view-in-github",
        "colab_type": "text"
      },
      "source": [
        "<a href=\"https://colab.research.google.com/github/jiukeem/deeplearning_from_scratch/blob/master/cancer_classification_vectorization_%EB%82%98%ED%98%BC%EC%9E%90.ipynb\" target=\"_parent\"><img src=\"https://colab.research.google.com/assets/colab-badge.svg\" alt=\"Open In Colab\"/></a>"
      ]
    },
    {
      "cell_type": "code",
      "metadata": {
        "id": "fsylj3gbuj1D",
        "colab_type": "code",
        "colab": {}
      },
      "source": [
        "import numpy as np\n",
        "import matplotlib.pyplot as plt\n",
        "from sklearn.datasets import load_breast_cancer\n",
        "from sklearn.model_selection import train_test_split"
      ],
      "execution_count": 1,
      "outputs": []
    },
    {
      "cell_type": "code",
      "metadata": {
        "id": "CS3V92rTvAHr",
        "colab_type": "code",
        "colab": {}
      },
      "source": [
        "cancer = load_breast_cancer()"
      ],
      "execution_count": 2,
      "outputs": []
    },
    {
      "cell_type": "code",
      "metadata": {
        "id": "y0-mbxE8vFDM",
        "colab_type": "code",
        "colab": {
          "base_uri": "https://localhost:8080/",
          "height": 51
        },
        "outputId": "c1158338-603c-4b41-f0b0-808f1185aa37"
      },
      "source": [
        "X = cancer.data\n",
        "Y = cancer.target\n",
        "\n",
        "print('shape of X:', X.shape)\n",
        "print('shape of Y:', Y.shape)"
      ],
      "execution_count": 3,
      "outputs": [
        {
          "output_type": "stream",
          "text": [
            "shape of X: (569, 30)\n",
            "shape of Y: (569,)\n"
          ],
          "name": "stdout"
        }
      ]
    },
    {
      "cell_type": "code",
      "metadata": {
        "id": "3DPygk6OvWdf",
        "colab_type": "code",
        "colab": {
          "base_uri": "https://localhost:8080/",
          "height": 51
        },
        "outputId": "096ff4f6-f6e4-4c03-8737-a82d38d299d9"
      },
      "source": [
        "print('num of feature:', X.shape[1])\n",
        "print('num of examples:', X.shape[0])"
      ],
      "execution_count": 4,
      "outputs": [
        {
          "output_type": "stream",
          "text": [
            "num of feature: 30\n",
            "num of examples: 569\n"
          ],
          "name": "stdout"
        }
      ]
    },
    {
      "cell_type": "code",
      "metadata": {
        "id": "1MZJXHOfvhr0",
        "colab_type": "code",
        "colab": {}
      },
      "source": [
        "X_train, X_test, Y_train, Y_test = train_test_split(X, Y, test_size=0.2)"
      ],
      "execution_count": 5,
      "outputs": []
    },
    {
      "cell_type": "code",
      "metadata": {
        "id": "K0_N1fYywBgJ",
        "colab_type": "code",
        "colab": {
          "base_uri": "https://localhost:8080/",
          "height": 85
        },
        "outputId": "b714eefe-240d-4502-abf5-aee0c79a4dea"
      },
      "source": [
        "print('shape of X_train:', X_train.shape)\n",
        "print('shape of Y_train:', Y_train.shape)\n",
        "print('shape of X_test:', X_test.shape)\n",
        "print('shape of Y_test:', Y_test.shape)"
      ],
      "execution_count": 6,
      "outputs": [
        {
          "output_type": "stream",
          "text": [
            "shape of X_train: (455, 30)\n",
            "shape of Y_train: (455,)\n",
            "shape of X_test: (114, 30)\n",
            "shape of Y_test: (114,)\n"
          ],
          "name": "stdout"
        }
      ]
    },
    {
      "cell_type": "code",
      "metadata": {
        "id": "L8xO4rsPwTVH",
        "colab_type": "code",
        "colab": {}
      },
      "source": [
        "class LogisticUnit:\n",
        "  def __init__(self):\n",
        "    self.W = None\n",
        "    self.b = None\n",
        "\n",
        "  def random_init(self, X):\n",
        "    self.W = np.random.randn(X.shape[1], 1)\n",
        "    self.b = 0\n",
        "    return self.W, self.b\n",
        "\n",
        "  def sigmoid(self, Z):\n",
        "    A = 1 / (1 + np.exp(-Z))\n",
        "    return A\n",
        "\n",
        "  def forward_prop(self, X):\n",
        "    Z = np.dot(X, self.W) + self.b\n",
        "    A = self.sigmoid(Z)\n",
        "    return A # A.shape = (m, 1)\n",
        "\n",
        "  def calcul_cost(self, Y, A):\n",
        "    cost = np.sum(-(Y * np.log(A) + (1-Y) * np.log(1-A))) / Y.shape[0]\n",
        "    return cost\n",
        "\n",
        "  def back_prop(self, X, Y, A):\n",
        "    dW = np.dot(X.T, A - Y) / X.shape[0] # dW.shape = (nx, 1)\n",
        "    db = np.sum(A - Y) / X.shape[0]\n",
        "    return dW, db\n",
        "\n",
        "  def fit(self, X, Y, iteration=500):\n",
        "    self.W, self.b = self.random_init(X)\n",
        "    for i in range(iteration):\n",
        "      A = self.forward_prop(X)\n",
        "      cost = self.calcul_cost(Y, A)\n",
        "      dW, db = self.back_prop(X, Y, A)\n",
        "      self.W = self.W - dW\n",
        "      self.b = self.b - db\n",
        "      if i%100 == 0:\n",
        "        print(cost)\n",
        "\n",
        "  def predict(self, X, Y):\n",
        "    A = self.forward_prop(X)\n",
        "    Y_hat = [a > 0.5 for a in A]\n",
        "    accuracy = np.mean([Y_hat == Y])\n",
        "    return accuracy"
      ],
      "execution_count": 7,
      "outputs": []
    },
    {
      "cell_type": "code",
      "metadata": {
        "id": "hYE0z7Wm-QIn",
        "colab_type": "code",
        "colab": {}
      },
      "source": [
        "unit = LogisticUnit()"
      ],
      "execution_count": 8,
      "outputs": []
    },
    {
      "cell_type": "code",
      "metadata": {
        "id": "JoOBXggD-awT",
        "colab_type": "code",
        "colab": {
          "base_uri": "https://localhost:8080/",
          "height": 170
        },
        "outputId": "233ffe8b-a4e7-4d1c-9f23-23cad4d1cbd4"
      },
      "source": [
        "unit.fit(X_train, Y_train)"
      ],
      "execution_count": 9,
      "outputs": [
        {
          "output_type": "stream",
          "text": [
            "nan\n"
          ],
          "name": "stdout"
        },
        {
          "output_type": "stream",
          "text": [
            "/usr/local/lib/python3.6/dist-packages/ipykernel_launcher.py:21: RuntimeWarning: divide by zero encountered in log\n",
            "/usr/local/lib/python3.6/dist-packages/ipykernel_launcher.py:21: RuntimeWarning: invalid value encountered in multiply\n",
            "/usr/local/lib/python3.6/dist-packages/ipykernel_launcher.py:12: RuntimeWarning: overflow encountered in exp\n",
            "  if sys.path[0] == '':\n"
          ],
          "name": "stderr"
        },
        {
          "output_type": "stream",
          "text": [
            "nan\n",
            "nan\n",
            "nan\n",
            "nan\n"
          ],
          "name": "stdout"
        }
      ]
    },
    {
      "cell_type": "code",
      "metadata": {
        "id": "9Ytpr_yf-eyO",
        "colab_type": "code",
        "colab": {}
      },
      "source": [
        "# 결과값도 nan으로 뜨고 runtimewarning 이 난다...ㅜㅜ 뭐가 문제인걸까"
      ],
      "execution_count": 9,
      "outputs": []
    }
  ]
}