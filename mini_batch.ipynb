{
  "nbformat": 4,
  "nbformat_minor": 0,
  "metadata": {
    "colab": {
      "name": "mini batch.ipynb",
      "provenance": [],
      "collapsed_sections": [],
      "authorship_tag": "ABX9TyNyNSj+akb34ZFzgI16dG5Y",
      "include_colab_link": true
    },
    "kernelspec": {
      "name": "python3",
      "display_name": "Python 3"
    }
  },
  "cells": [
    {
      "cell_type": "markdown",
      "metadata": {
        "id": "view-in-github",
        "colab_type": "text"
      },
      "source": [
        "<a href=\"https://colab.research.google.com/github/jiukeem/deeplearning_from_scratch/blob/master/mini_batch.ipynb\" target=\"_parent\"><img src=\"https://colab.research.google.com/assets/colab-badge.svg\" alt=\"Open In Colab\"/></a>"
      ]
    },
    {
      "cell_type": "code",
      "metadata": {
        "id": "I1KvO7fh-qfA",
        "colab_type": "code",
        "colab": {}
      },
      "source": [
        "import numpy as np\n",
        "import matplotlib.pyplot as plt"
      ],
      "execution_count": 1,
      "outputs": []
    },
    {
      "cell_type": "code",
      "metadata": {
        "id": "uTao-3J0-xEF",
        "colab_type": "code",
        "colab": {}
      },
      "source": [
        "from sklearn.datasets import load_breast_cancer\n",
        "from sklearn.model_selection import train_test_split"
      ],
      "execution_count": 2,
      "outputs": []
    },
    {
      "cell_type": "code",
      "metadata": {
        "id": "M1CeQy0__Tm-",
        "colab_type": "code",
        "colab": {
          "base_uri": "https://localhost:8080/",
          "height": 34
        },
        "outputId": "6ae9dc20-ba96-4530-d01f-ceaf8e100ed6"
      },
      "source": [
        "cancer = load_breast_cancer()\n",
        "x = cancer.data\n",
        "y = cancer.target\n",
        "y = y.reshape(-1, 1)\n",
        "y.shape"
      ],
      "execution_count": 3,
      "outputs": [
        {
          "output_type": "execute_result",
          "data": {
            "text/plain": [
              "(569, 1)"
            ]
          },
          "metadata": {
            "tags": []
          },
          "execution_count": 3
        }
      ]
    },
    {
      "cell_type": "code",
      "metadata": {
        "id": "R27zd8YP_aC-",
        "colab_type": "code",
        "colab": {}
      },
      "source": [
        "x_train_all, x_test, y_train_all, y_test = train_test_split(x, y, stratify=y, test_size=0.2, random_state=42)\n",
        "x_train, x_val, y_train, y_val = train_test_split(x_train_all, y_train_all, stratify=y_train_all, test_size=0.2, random_state=42)"
      ],
      "execution_count": 4,
      "outputs": []
    },
    {
      "cell_type": "code",
      "metadata": {
        "id": "MyVLiUSUAIZR",
        "colab_type": "code",
        "colab": {
          "base_uri": "https://localhost:8080/",
          "height": 85
        },
        "outputId": "2e6e2ab1-34f6-4758-d985-94bb52f5a83c"
      },
      "source": [
        "print('shape of x_train: {}'.format(x_train.shape))\n",
        "print('shape of y_train: {}'.format(y_train.shape))\n",
        "print('shape of x_val: {}'.format(x_val.shape))\n",
        "print('shape of x_test: {}'.format(x_test.shape))"
      ],
      "execution_count": 5,
      "outputs": [
        {
          "output_type": "stream",
          "text": [
            "shape of x_train: (364, 30)\n",
            "shape of y_train: (364, 1)\n",
            "shape of x_val: (91, 30)\n",
            "shape of x_test: (114, 30)\n"
          ],
          "name": "stdout"
        }
      ]
    },
    {
      "cell_type": "code",
      "metadata": {
        "id": "pEdvfgiTAOPR",
        "colab_type": "code",
        "colab": {}
      },
      "source": [
        "mean = np.mean(x_train, axis=0)\n",
        "std = np.std(x_train, axis=0)"
      ],
      "execution_count": 6,
      "outputs": []
    },
    {
      "cell_type": "code",
      "metadata": {
        "id": "EmQ1wMPxArS9",
        "colab_type": "code",
        "colab": {}
      },
      "source": [
        "x_train_scaled = (x_train - mean) / std\n",
        "x_val_scaled = (x_val - mean) / std\n",
        "x_test_scaled = (x_test - mean) / std\n"
      ],
      "execution_count": 7,
      "outputs": []
    },
    {
      "cell_type": "code",
      "metadata": {
        "id": "ylMcULnWA6zC",
        "colab_type": "code",
        "colab": {}
      },
      "source": [
        "class DualLayer:\n",
        "  def __init__(self, learning_rate=0.1, num_of_node=10, l2_lambda=0, batch_size=32):\n",
        "    self.W1 = None\n",
        "    self.b1 = None\n",
        "    self.W2 = None\n",
        "    self.b2 = None\n",
        "    self.lr = learning_rate\n",
        "    self.node = num_of_node\n",
        "    self.cost_history = []\n",
        "    self.l2 = l2_lambda\n",
        "    self.val_cost_history = []\n",
        "    self.batch = batch_size\n",
        "\n",
        "  def initialization(self, X):\n",
        "    np.random.seed(42) # 실전에서는 필요없따\n",
        "    self.W1 = np.random.normal(0, 1, (X.shape[1], self.node))\n",
        "    self.b1 = np.zeros((1, self.node))\n",
        "    self.W2 = np.random.normal(0, 1, (self.node, 1))\n",
        "    self.b2 = 0\n",
        "    return self.W1, self.b1, self.W2, self.b2 \n",
        "\n",
        "  def gen_batch(self, X, Y):\n",
        "    num = X.shape[0] // self.batch\n",
        "    if X.shape[0] % self.batch:\n",
        "      num += 1\n",
        "    index = np.random.permutation(np.arange(X.shape[0]))\n",
        "    X = X[index]\n",
        "    Y = Y[index]\n",
        "    for i in range(num):\n",
        "      start = i * self.batch\n",
        "      end = (i + 1) * self.batch \n",
        "      yield X[start: end], Y[start: end] # 명시적으로 리스트를 만들지 않고 이터러블 가능한 무언가를 돌려줌\n",
        "      # 아마도 메모리를 덜 잡아먹나? O\n",
        "      # 리스트를 만들지 않으면서 필요한만큼 데이터를 추출할 수 있다.\n",
        "            \n",
        "  def sigmoid(self, Z):\n",
        "    A = 1 / (1 + np.exp(-Z))\n",
        "    return A\n",
        "\n",
        "  def forward_prop(self, X):\n",
        "    Z1 = np.dot(X, self.W1) + self.b1\n",
        "    A1 = self.sigmoid(Z1)\n",
        "    Z2 = np.dot(A1, self.W2) + self.b2\n",
        "    A2 = self.sigmoid(Z2)\n",
        "    cache = (Z1, A1, Z2)\n",
        "    return A2, cache\n",
        "\n",
        "  def backward_prop(self, X, Y, A2, cache):\n",
        "    Z1, A1, Z2 = cache\n",
        "    m = X.shape[0]\n",
        "    dW2 = np.dot(A1.T, A2 - Y) / m + self.l2 * self.W2\n",
        "    db2 = np.sum(A2 - Y) / m\n",
        "    temp = np.dot(A2 - Y, self.W2.T) * A1 * (1 - A1)\n",
        "    dW1 = np.dot(X.T, temp) / m + self.l2 * self.W1\n",
        "    db1 = np.sum(temp, axis=0) / m\n",
        "    gradient = (dW2, db2, dW1, db1)\n",
        "    return gradient\n",
        "\n",
        "  def undate_parameter(self, gradient):\n",
        "    dW2, db2, dW1, db1 = gradient\n",
        "    self.W2 -= dW2\n",
        "    self.b2 -= db2\n",
        "    self.W1 -= dW1\n",
        "    self.b1 -= db1\n",
        "\n",
        "  def calcul_cost(self, Y, A2):\n",
        "    A2 = np.clip(A2, 1e-10, 1-1e-10)\n",
        "    L = -(Y * np.log(A2) + (1 - Y) * np.log(1 - A2)) + self.l2\n",
        "    regul = self.l2 / 2 * (np.sum(self.W1 ** 2) + np.sum(self.W2 ** 2))\n",
        "    L += regul\n",
        "    cost = np.sum(L) / Y.shape[0]\n",
        "    return cost\n",
        "\n",
        "  def fit(self, X, Y, epoch=100, X_val=None, Y_val=None):\n",
        "    self.W1, self.b1, self.W2, self.b2 = self.initialization(X)\n",
        "    for i in range(epoch):\n",
        "      for X_batch, Y_batch in self.gen_batch(X, Y):\n",
        "        A2, cache = self.forward_prop(X_batch)\n",
        "        gradient = self.backward_prop(X_batch, Y_batch, A2, cache)\n",
        "        self.undate_parameter(gradient)\n",
        "        cost = self.calcul_cost(Y_batch, A2)\n",
        "        self.cost_history.append(cost)\n",
        "        self.update_val(X_val, Y_val)\n",
        "\n",
        "  def update_val(self, X_val, Y_val):\n",
        "    A2, _ = self.forward_prop(X_val)\n",
        "    cost = self.calcul_cost(Y_val, A2)\n",
        "    self.val_cost_history.append(cost)\n",
        "\n",
        "  def predict(self, X, Y):\n",
        "    A2, _ = self.forward_prop(X)\n",
        "    return A2 > 0.5\n",
        "\n",
        "  def score(self, X, Y):\n",
        "    Y_hat = self.predict(X, Y)\n",
        "    score = np.mean(Y_hat == Y)\n",
        "    return score"
      ],
      "execution_count": 17,
      "outputs": []
    },
    {
      "cell_type": "code",
      "metadata": {
        "id": "cvywjYFMcRBo",
        "colab_type": "code",
        "colab": {}
      },
      "source": [
        "layer = DualLayer(l2_lambda=0.001)\n",
        "layer.fit(x_train_scaled, y_train, X_val=x_val_scaled, Y_val=y_val, epoch=500)"
      ],
      "execution_count": 18,
      "outputs": []
    },
    {
      "cell_type": "code",
      "metadata": {
        "id": "L2-Q7sBJ0woO",
        "colab_type": "code",
        "colab": {
          "base_uri": "https://localhost:8080/",
          "height": 34
        },
        "outputId": "a9f44327-fc9f-4110-dde0-bd617cf7ad70"
      },
      "source": [
        "layer.score(x_val_scaled, y_val)"
      ],
      "execution_count": 19,
      "outputs": [
        {
          "output_type": "execute_result",
          "data": {
            "text/plain": [
              "0.978021978021978"
            ]
          },
          "metadata": {
            "tags": []
          },
          "execution_count": 19
        }
      ]
    },
    {
      "cell_type": "code",
      "metadata": {
        "id": "2gOQpRv80668",
        "colab_type": "code",
        "colab": {
          "base_uri": "https://localhost:8080/",
          "height": 265
        },
        "outputId": "0de686a8-394e-43d0-ae9a-e85d12ebdcd2"
      },
      "source": [
        "plt.plot(layer.cost_history)\n",
        "plt.plot(layer.val_cost_history)\n",
        "plt.show()"
      ],
      "execution_count": 20,
      "outputs": [
        {
          "output_type": "display_data",
          "data": {
            "image/png": "[encoded data removed]",
            "text/plain": [
              "<Figure size 432x288 with 1 Axes>"
            ]
          },
          "metadata": {
            "tags": [],
            "needs_background": "light"
          }
        }
      ]
    },
    {
      "cell_type": "code",
      "metadata": {
        "id": "Hcon3rzG1DU2",
        "colab_type": "code",
        "colab": {
          "base_uri": "https://localhost:8080/",
          "height": 34
        },
        "outputId": "73592165-2090-439a-8fc9-5d3f5119715c"
      },
      "source": [
        "layer2 = DualLayer(l2_lambda=0.001, batch_size=128)\n",
        "layer2.fit(x_train_scaled, y_train, X_val=x_val_scaled, Y_val=y_val, epoch=500)\n",
        "layer2.score(x_val_scaled, y_val)"
      ],
      "execution_count": 22,
      "outputs": [
        {
          "output_type": "execute_result",
          "data": {
            "text/plain": [
              "0.978021978021978"
            ]
          },
          "metadata": {
            "tags": []
          },
          "execution_count": 22
        }
      ]
    },
    {
      "cell_type": "code",
      "metadata": {
        "id": "wbs5bNfx1Xwm",
        "colab_type": "code",
        "colab": {
          "base_uri": "https://localhost:8080/",
          "height": 265
        },
        "outputId": "5fad8b2c-452f-4797-8610-90a0bdcb66dd"
      },
      "source": [
        "plt.plot(layer2.cost_history)\n",
        "plt.plot(layer2.val_cost_history)\n",
        "plt.show()"
      ],
      "execution_count": 23,
      "outputs": [
        {
          "output_type": "display_data",
          "data": {
            "image/png": "[encoded data removed]",
            "text/plain": [
              "<Figure size 432x288 with 1 Axes>"
            ]
          },
          "metadata": {
            "tags": [],
            "needs_background": "light"
          }
        }
      ]
    },
    {
      "cell_type": "code",
      "metadata": {
        "id": "7aB4GHt-1bqh",
        "colab_type": "code",
        "colab": {}
      },
      "source": [
        "# 사이킷런으로 하려면\n",
        "from sklearn.neural_network import MLPClassifier\n",
        "mlp = MLPClassifier(hidden_layer_sizes=(10, ), activation='logistic', solver='sgd', alpha=0.01, batch_size=32,\\\n",
        "                    learning_rate_init=0.1, max_iter=500)"
      ],
      "execution_count": 26,
      "outputs": []
    },
    {
      "cell_type": "code",
      "metadata": {
        "id": "pJi7BIDy2HCH",
        "colab_type": "code",
        "colab": {
          "base_uri": "https://localhost:8080/",
          "height": 88
        },
        "outputId": "ed37886c-017c-470b-9240-894bc7c09945"
      },
      "source": [
        "mlp.fit(x_train_scaled, y_train)\n",
        "mlp.score(x_val_scaled, y_val)"
      ],
      "execution_count": 27,
      "outputs": [
        {
          "output_type": "stream",
          "text": [
            "/usr/local/lib/python3.6/dist-packages/sklearn/neural_network/_multilayer_perceptron.py:934: DataConversionWarning: A column-vector y was passed when a 1d array was expected. Please change the shape of y to (n_samples, ), for example using ravel().\n",
            "  y = column_or_1d(y, warn=True)\n"
          ],
          "name": "stderr"
        },
        {
          "output_type": "execute_result",
          "data": {
            "text/plain": [
              "0.989010989010989"
            ]
          },
          "metadata": {
            "tags": []
          },
          "execution_count": 27
        }
      ]
    },
    {
      "cell_type": "code",
      "metadata": {
        "id": "xFph2J2i2lgJ",
        "colab_type": "code",
        "colab": {}
      },
      "source": [
        ""
      ],
      "execution_count": null,
      "outputs": []
    }
  ]
}