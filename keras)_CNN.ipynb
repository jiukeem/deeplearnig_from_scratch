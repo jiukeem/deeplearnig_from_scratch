{
  "nbformat": 4,
  "nbformat_minor": 0,
  "metadata": {
    "colab": {
      "name": "keras) CNN.ipynb",
      "provenance": [],
      "collapsed_sections": [],
      "authorship_tag": "ABX9TyPYnx2MMP2cyPaamrObk6RD",
      "include_colab_link": true
    },
    "kernelspec": {
      "name": "python3",
      "display_name": "Python 3"
    }
  },
  "cells": [
    {
      "cell_type": "markdown",
      "metadata": {
        "id": "view-in-github",
        "colab_type": "text"
      },
      "source": [
        "<a href=\"https://colab.research.google.com/github/jiukeem/deeplearning_from_scratch/blob/master/keras)_CNN.ipynb\" target=\"_parent\"><img src=\"https://colab.research.google.com/assets/colab-badge.svg\" alt=\"Open In Colab\"/></a>"
      ]
    },
    {
      "cell_type": "code",
      "metadata": {
        "id": "Zah3lDw13VDo",
        "colab_type": "code",
        "colab": {}
      },
      "source": [
        "import tensorflow as tf\n",
        "import numpy as np"
      ],
      "execution_count": 1,
      "outputs": []
    },
    {
      "cell_type": "code",
      "metadata": {
        "id": "A3BYqY-dLAOM",
        "colab_type": "code",
        "colab": {}
      },
      "source": [
        "(x_train_all, y_train_all), (x_test, y_test) = tf.keras.datasets.fashion_mnist.load_data()"
      ],
      "execution_count": 2,
      "outputs": []
    },
    {
      "cell_type": "code",
      "metadata": {
        "id": "01uCNJnDjlpy",
        "colab_type": "code",
        "colab": {
          "base_uri": "https://localhost:8080/",
          "height": 265
        },
        "outputId": "e71befef-e2e7-41a6-8902-bbf6f8ca2fd7"
      },
      "source": [
        "import matplotlib.pyplot as plt\n",
        "\n",
        "plt.imshow(x_train_all[21], cmap='gray')\n",
        "plt.show()"
      ],
      "execution_count": 3,
      "outputs": [
        {
          "output_type": "display_data",
          "data": {
            "image/png": "[encoded data removed]",
            "text/plain": [
              "<Figure size 432x288 with 1 Axes>"
            ]
          },
          "metadata": {
            "tags": [],
            "needs_background": "light"
          }
        }
      ]
    },
    {
      "cell_type": "code",
      "metadata": {
        "id": "ncF5PRjOLVMl",
        "colab_type": "code",
        "colab": {}
      },
      "source": [
        "from sklearn.model_selection import train_test_split\n",
        "x_train, x_val, y_train, y_val = train_test_split(x_train_all, y_train_all, stratify=y_train_all,test_size=0.2, random_state=42)"
      ],
      "execution_count": 4,
      "outputs": []
    },
    {
      "cell_type": "code",
      "metadata": {
        "id": "Rdah36wJLnc3",
        "colab_type": "code",
        "colab": {}
      },
      "source": [
        "y_train_encoded = tf.keras.utils.to_categorical(y_train)\n",
        "y_val_encoded = tf.keras.utils.to_categorical(y_val)"
      ],
      "execution_count": 5,
      "outputs": []
    },
    {
      "cell_type": "code",
      "metadata": {
        "id": "tzb5RfuELzQA",
        "colab_type": "code",
        "colab": {}
      },
      "source": [
        "x_train = x_train.reshape(-1, 28, 28, 1) # 예전처럼 펼칠 필요없음. 다만 컬러채널 디멘션을 추가해줬다\n",
        "x_val = x_val.reshape(-1, 28, 28, 1)"
      ],
      "execution_count": 6,
      "outputs": []
    },
    {
      "cell_type": "code",
      "metadata": {
        "id": "a0T7PLgAMC1r",
        "colab_type": "code",
        "colab": {
          "base_uri": "https://localhost:8080/",
          "height": 34
        },
        "outputId": "2215ca40-c6ac-41dc-b85c-ea852e479eab"
      },
      "source": [
        "x_train.shape"
      ],
      "execution_count": 7,
      "outputs": [
        {
          "output_type": "execute_result",
          "data": {
            "text/plain": [
              "(48000, 28, 28, 1)"
            ]
          },
          "metadata": {
            "tags": []
          },
          "execution_count": 7
        }
      ]
    },
    {
      "cell_type": "code",
      "metadata": {
        "id": "YYj_HdCcMEsk",
        "colab_type": "code",
        "colab": {}
      },
      "source": [
        "x_train = x_train / 255\n",
        "x_val = x_val / 255"
      ],
      "execution_count": 8,
      "outputs": []
    },
    {
      "cell_type": "code",
      "metadata": {
        "id": "LBewCDoCgJHJ",
        "colab_type": "code",
        "colab": {}
      },
      "source": [
        "from tensorflow.keras.layers import Conv2D, MaxPooling2D, Flatten, Dense, Dropout"
      ],
      "execution_count": 9,
      "outputs": []
    },
    {
      "cell_type": "code",
      "metadata": {
        "id": "L4iNJ1yZgUFF",
        "colab_type": "code",
        "colab": {
          "base_uri": "https://localhost:8080/",
          "height": 357
        },
        "outputId": "4d04fb0d-2dba-4a6e-d4b8-0d2384511f50"
      },
      "source": [
        "conv1 = tf.keras.Sequential()\n",
        "conv1.add(Conv2D(10, (3,3), activation='relu', padding='same', input_shape=(28, 28, 1))) \n",
        "# Conv2D는 커널의 개수, 커널의 크기(높이, 너비)를 받음. 첫 층이기 때문에 샘플개수를 뺀 input shape을 지정해줬다.\n",
        "conv1.add(MaxPooling2D((2,2)))\n",
        "# 튜플 형태로 매개변수(풀링 높이와 너비)를 받기 때문에 괄호가 두 개인 것에 유의\n",
        "conv1.add(Flatten())\n",
        "conv1.add(Dropout(0.5))\n",
        "# 탈락시킬 뉴런의 비율 학습시키는 가중치가 없다는 말이 조금 헷갈리는데,\n",
        "# 앤드류 응 수업에서처럼 한개의 fc레이어에 결합시키는게 아니라 일부 뉴런 출력을 0으로 만들고 나머지 뉴런의 출력을 드롭되지 않은 비율로 나누어 증가시키는 레이어라고 생각하면 될 듯\n",
        "# flatten 도 앤드류 응 강의에서는 한개의 개별적인 레이어로 취급하지 않았었는데 여기서는 온전한 레이어인 것 처럼!\n",
        "conv1.add(Dense(100, activation='relu'))\n",
        "conv1.add(Dense(10, activation='softmax'))\n",
        "\n",
        "conv1.summary()"
      ],
      "execution_count": 10,
      "outputs": [
        {
          "output_type": "stream",
          "text": [
            "Model: \"sequential\"\n",
            "_________________________________________________________________\n",
            "Layer (type)                 Output Shape              Param #   \n",
            "=================================================================\n",
            "conv2d (Conv2D)              (None, 28, 28, 10)        100       \n",
            "_________________________________________________________________\n",
            "max_pooling2d (MaxPooling2D) (None, 14, 14, 10)        0         \n",
            "_________________________________________________________________\n",
            "flatten (Flatten)            (None, 1960)              0         \n",
            "_________________________________________________________________\n",
            "dropout (Dropout)            (None, 1960)              0         \n",
            "_________________________________________________________________\n",
            "dense (Dense)                (None, 100)               196100    \n",
            "_________________________________________________________________\n",
            "dense_1 (Dense)              (None, 10)                1010      \n",
            "=================================================================\n",
            "Total params: 197,210\n",
            "Trainable params: 197,210\n",
            "Non-trainable params: 0\n",
            "_________________________________________________________________\n"
          ],
          "name": "stdout"
        }
      ]
    },
    {
      "cell_type": "code",
      "metadata": {
        "id": "PtfuOEA8gYns",
        "colab_type": "code",
        "colab": {}
      },
      "source": [
        "conv1.compile(optimizer='adam', loss='categorical_crossentropy', metrics=['accuracy'])"
      ],
      "execution_count": 11,
      "outputs": []
    },
    {
      "cell_type": "code",
      "metadata": {
        "id": "6LpgYntsiUb7",
        "colab_type": "code",
        "colab": {
          "base_uri": "https://localhost:8080/",
          "height": 697
        },
        "outputId": "cbf2a098-de9e-4e4e-d2f6-11df99bbcd51"
      },
      "source": [
        "history = conv1.fit(x_train, y_train_encoded, epochs=20, validation_data=(x_val, y_val_encoded))"
      ],
      "execution_count": 12,
      "outputs": [
        {
          "output_type": "stream",
          "text": [
            "Epoch 1/20\n",
            "1500/1500 [==============================] - 22s 15ms/step - loss: 0.5213 - accuracy: 0.8111 - val_loss: 0.3568 - val_accuracy: 0.8728\n",
            "Epoch 2/20\n",
            "1500/1500 [==============================] - 22s 15ms/step - loss: 0.3804 - accuracy: 0.8608 - val_loss: 0.3142 - val_accuracy: 0.8855\n",
            "Epoch 3/20\n",
            "1500/1500 [==============================] - 22s 15ms/step - loss: 0.3377 - accuracy: 0.8754 - val_loss: 0.2869 - val_accuracy: 0.8978\n",
            "Epoch 4/20\n",
            "1500/1500 [==============================] - 22s 15ms/step - loss: 0.3070 - accuracy: 0.8872 - val_loss: 0.2643 - val_accuracy: 0.9042\n",
            "Epoch 5/20\n",
            "1500/1500 [==============================] - 22s 15ms/step - loss: 0.2859 - accuracy: 0.8959 - val_loss: 0.2551 - val_accuracy: 0.9074\n",
            "Epoch 6/20\n",
            "1500/1500 [==============================] - 22s 14ms/step - loss: 0.2687 - accuracy: 0.8997 - val_loss: 0.2570 - val_accuracy: 0.9077\n",
            "Epoch 7/20\n",
            "1500/1500 [==============================] - 22s 15ms/step - loss: 0.2566 - accuracy: 0.9049 - val_loss: 0.2371 - val_accuracy: 0.9149\n",
            "Epoch 8/20\n",
            "1500/1500 [==============================] - 22s 14ms/step - loss: 0.2462 - accuracy: 0.9078 - val_loss: 0.2315 - val_accuracy: 0.9149\n",
            "Epoch 9/20\n",
            "1500/1500 [==============================] - 22s 14ms/step - loss: 0.2356 - accuracy: 0.9110 - val_loss: 0.2382 - val_accuracy: 0.9137\n",
            "Epoch 10/20\n",
            "1500/1500 [==============================] - 22s 14ms/step - loss: 0.2287 - accuracy: 0.9144 - val_loss: 0.2287 - val_accuracy: 0.9182\n",
            "Epoch 11/20\n",
            "1500/1500 [==============================] - 22s 14ms/step - loss: 0.2178 - accuracy: 0.9169 - val_loss: 0.2260 - val_accuracy: 0.9194\n",
            "Epoch 12/20\n",
            "1500/1500 [==============================] - 22s 14ms/step - loss: 0.2115 - accuracy: 0.9192 - val_loss: 0.2357 - val_accuracy: 0.9160\n",
            "Epoch 13/20\n",
            "1500/1500 [==============================] - 22s 14ms/step - loss: 0.2064 - accuracy: 0.9216 - val_loss: 0.2266 - val_accuracy: 0.9205\n",
            "Epoch 14/20\n",
            "1500/1500 [==============================] - 22s 14ms/step - loss: 0.2013 - accuracy: 0.9237 - val_loss: 0.2271 - val_accuracy: 0.9210\n",
            "Epoch 15/20\n",
            "1500/1500 [==============================] - 22s 14ms/step - loss: 0.1946 - accuracy: 0.9273 - val_loss: 0.2210 - val_accuracy: 0.9232\n",
            "Epoch 16/20\n",
            "1500/1500 [==============================] - 22s 14ms/step - loss: 0.1891 - accuracy: 0.9291 - val_loss: 0.2238 - val_accuracy: 0.9203\n",
            "Epoch 17/20\n",
            "1500/1500 [==============================] - 22s 15ms/step - loss: 0.1865 - accuracy: 0.9294 - val_loss: 0.2258 - val_accuracy: 0.9216\n",
            "Epoch 18/20\n",
            "1500/1500 [==============================] - 22s 15ms/step - loss: 0.1820 - accuracy: 0.9311 - val_loss: 0.2298 - val_accuracy: 0.9197\n",
            "Epoch 19/20\n",
            "1500/1500 [==============================] - 21s 14ms/step - loss: 0.1798 - accuracy: 0.9326 - val_loss: 0.2265 - val_accuracy: 0.9243\n",
            "Epoch 20/20\n",
            "1500/1500 [==============================] - 22s 14ms/step - loss: 0.1757 - accuracy: 0.9334 - val_loss: 0.2344 - val_accuracy: 0.9183\n"
          ],
          "name": "stdout"
        }
      ]
    },
    {
      "cell_type": "code",
      "metadata": {
        "id": "wluyZpKmi5qZ",
        "colab_type": "code",
        "colab": {
          "base_uri": "https://localhost:8080/",
          "height": 265
        },
        "outputId": "31b2089f-b210-4340-8ef5-c83f273e792f"
      },
      "source": [
        "\n",
        "\n",
        "plt.plot(history.history['loss'])\n",
        "plt.plot(history.history['val_loss'])\n",
        "plt.legend(['train_loss', 'val_loss'])\n",
        "plt.show()"
      ],
      "execution_count": 13,
      "outputs": [
        {
          "output_type": "display_data",
          "data": {
            "image/png": "[encoded data removed]",
            "text/plain": [
              "<Figure size 432x288 with 1 Axes>"
            ]
          },
          "metadata": {
            "tags": [],
            "needs_background": "light"
          }
        }
      ]
    },
    {
      "cell_type": "code",
      "metadata": {
        "id": "VykiexahihiP",
        "colab_type": "code",
        "colab": {
          "base_uri": "https://localhost:8080/",
          "height": 323
        },
        "outputId": "7d93b5a6-74a2-4aff-ffe0-c21e2ce2971d"
      },
      "source": [
        "# 드롭아웃 없이는 같은 에포크 수에도 오버피팅이 된다\n",
        "conv2 = tf.keras.Sequential()\n",
        "conv2.add(Conv2D(10, (3,3), activation='relu', padding='same', input_shape=(28, 28, 1)))\n",
        "conv2.add(MaxPooling2D((2,2)))\n",
        "conv2.add(Flatten())\n",
        "conv2.add(Dense(100, activation='relu'))\n",
        "conv2.add(Dense(10, activation='softmax'))\n",
        "\n",
        "conv2.summary()"
      ],
      "execution_count": 14,
      "outputs": [
        {
          "output_type": "stream",
          "text": [
            "Model: \"sequential_1\"\n",
            "_________________________________________________________________\n",
            "Layer (type)                 Output Shape              Param #   \n",
            "=================================================================\n",
            "conv2d_1 (Conv2D)            (None, 28, 28, 10)        100       \n",
            "_________________________________________________________________\n",
            "max_pooling2d_1 (MaxPooling2 (None, 14, 14, 10)        0         \n",
            "_________________________________________________________________\n",
            "flatten_1 (Flatten)          (None, 1960)              0         \n",
            "_________________________________________________________________\n",
            "dense_2 (Dense)              (None, 100)               196100    \n",
            "_________________________________________________________________\n",
            "dense_3 (Dense)              (None, 10)                1010      \n",
            "=================================================================\n",
            "Total params: 197,210\n",
            "Trainable params: 197,210\n",
            "Non-trainable params: 0\n",
            "_________________________________________________________________\n"
          ],
          "name": "stdout"
        }
      ]
    },
    {
      "cell_type": "code",
      "metadata": {
        "id": "XHT-usdDjTWQ",
        "colab_type": "code",
        "colab": {
          "base_uri": "https://localhost:8080/",
          "height": 697
        },
        "outputId": "0d92226e-3ce3-457a-e6ab-9a67c9ceebb8"
      },
      "source": [
        "conv2.compile(optimizer='adam', loss='categorical_crossentropy', metrics=['accuracy'])\n",
        "history2 = conv2.fit(x_train, y_train_encoded, epochs=20, validation_data=(x_val, y_val_encoded))"
      ],
      "execution_count": 15,
      "outputs": [
        {
          "output_type": "stream",
          "text": [
            "Epoch 1/20\n",
            "1500/1500 [==============================] - 21s 14ms/step - loss: 0.4396 - accuracy: 0.8461 - val_loss: 0.3165 - val_accuracy: 0.8867\n",
            "Epoch 2/20\n",
            "1500/1500 [==============================] - 21s 14ms/step - loss: 0.2985 - accuracy: 0.8921 - val_loss: 0.2869 - val_accuracy: 0.8981\n",
            "Epoch 3/20\n",
            "1500/1500 [==============================] - 21s 14ms/step - loss: 0.2564 - accuracy: 0.9070 - val_loss: 0.2763 - val_accuracy: 0.9020\n",
            "Epoch 4/20\n",
            "1500/1500 [==============================] - 21s 14ms/step - loss: 0.2273 - accuracy: 0.9177 - val_loss: 0.2534 - val_accuracy: 0.9092\n",
            "Epoch 5/20\n",
            "1500/1500 [==============================] - 21s 14ms/step - loss: 0.2043 - accuracy: 0.9251 - val_loss: 0.2616 - val_accuracy: 0.9092\n",
            "Epoch 6/20\n",
            "1500/1500 [==============================] - 21s 14ms/step - loss: 0.1832 - accuracy: 0.9337 - val_loss: 0.2506 - val_accuracy: 0.9127\n",
            "Epoch 7/20\n",
            "1500/1500 [==============================] - 21s 14ms/step - loss: 0.1642 - accuracy: 0.9398 - val_loss: 0.2635 - val_accuracy: 0.9082\n",
            "Epoch 8/20\n",
            "1500/1500 [==============================] - 21s 14ms/step - loss: 0.1467 - accuracy: 0.9454 - val_loss: 0.2562 - val_accuracy: 0.9152\n",
            "Epoch 9/20\n",
            "1500/1500 [==============================] - 21s 14ms/step - loss: 0.1310 - accuracy: 0.9525 - val_loss: 0.2696 - val_accuracy: 0.9133\n",
            "Epoch 10/20\n",
            "1500/1500 [==============================] - 21s 14ms/step - loss: 0.1168 - accuracy: 0.9575 - val_loss: 0.2693 - val_accuracy: 0.9187\n",
            "Epoch 11/20\n",
            "1500/1500 [==============================] - 21s 14ms/step - loss: 0.1042 - accuracy: 0.9626 - val_loss: 0.2786 - val_accuracy: 0.9154\n",
            "Epoch 12/20\n",
            "1500/1500 [==============================] - 21s 14ms/step - loss: 0.0933 - accuracy: 0.9663 - val_loss: 0.2979 - val_accuracy: 0.9153\n",
            "Epoch 13/20\n",
            "1500/1500 [==============================] - 21s 14ms/step - loss: 0.0808 - accuracy: 0.9701 - val_loss: 0.2962 - val_accuracy: 0.9166\n",
            "Epoch 14/20\n",
            "1500/1500 [==============================] - 21s 14ms/step - loss: 0.0716 - accuracy: 0.9739 - val_loss: 0.3041 - val_accuracy: 0.9155\n",
            "Epoch 15/20\n",
            "1500/1500 [==============================] - 21s 14ms/step - loss: 0.0655 - accuracy: 0.9766 - val_loss: 0.3422 - val_accuracy: 0.9137\n",
            "Epoch 16/20\n",
            "1500/1500 [==============================] - 21s 14ms/step - loss: 0.0584 - accuracy: 0.9791 - val_loss: 0.3493 - val_accuracy: 0.9131\n",
            "Epoch 17/20\n",
            "1500/1500 [==============================] - 21s 14ms/step - loss: 0.0544 - accuracy: 0.9801 - val_loss: 0.3581 - val_accuracy: 0.9183\n",
            "Epoch 18/20\n",
            "1500/1500 [==============================] - 21s 14ms/step - loss: 0.0460 - accuracy: 0.9836 - val_loss: 0.3888 - val_accuracy: 0.9151\n",
            "Epoch 19/20\n",
            "1500/1500 [==============================] - 21s 14ms/step - loss: 0.0422 - accuracy: 0.9853 - val_loss: 0.4070 - val_accuracy: 0.9122\n",
            "Epoch 20/20\n",
            "1500/1500 [==============================] - 20s 14ms/step - loss: 0.0405 - accuracy: 0.9858 - val_loss: 0.4193 - val_accuracy: 0.9106\n"
          ],
          "name": "stdout"
        }
      ]
    },
    {
      "cell_type": "code",
      "metadata": {
        "id": "Xnolnblti0Uz",
        "colab_type": "code",
        "colab": {
          "base_uri": "https://localhost:8080/",
          "height": 265
        },
        "outputId": "77ccc8c0-56e8-4c09-ecfb-891baae75202"
      },
      "source": [
        "plt.plot(history2.history['loss'])\n",
        "plt.plot(history2.history['val_loss'])\n",
        "plt.legend(['train_loss', 'val_loss'])\n",
        "plt.show()"
      ],
      "execution_count": 16,
      "outputs": [
        {
          "output_type": "display_data",
          "data": {
            "image/png": "[encoded data removed]",
            "text/plain": [
              "<Figure size 432x288 with 1 Axes>"
            ]
          },
          "metadata": {
            "tags": [],
            "needs_background": "light"
          }
        }
      ]
    }
  ]
}