{
  "nbformat": 4,
  "nbformat_minor": 0,
  "metadata": {
    "colab": {
      "name": "keras) rnn.ipynb",
      "provenance": [],
      "authorship_tag": "ABX9TyMbU4ZG0j+s6fCb6Tzi4DU7",
      "include_colab_link": true
    },
    "kernelspec": {
      "name": "python3",
      "display_name": "Python 3"
    }
  },
  "cells": [
    {
      "cell_type": "markdown",
      "metadata": {
        "id": "view-in-github",
        "colab_type": "text"
      },
      "source": [
        "<a href=\"https://colab.research.google.com/github/jiukeem/deeplearning_from_scratch/blob/master/keras)_rnn.ipynb\" target=\"_parent\"><img src=\"https://colab.research.google.com/assets/colab-badge.svg\" alt=\"Open In Colab\"/></a>"
      ]
    },
    {
      "cell_type": "code",
      "metadata": {
        "id": "t3O-ioPq7pOJ",
        "colab_type": "code",
        "colab": {}
      },
      "source": [
        "import numpy as np\n",
        "import tensorflow as tf"
      ],
      "execution_count": 5,
      "outputs": []
    },
    {
      "cell_type": "code",
      "metadata": {
        "id": "iTVH0ZPv7pLJ",
        "colab_type": "code",
        "colab": {}
      },
      "source": [
        "from tensorflow.keras.datasets import imdb"
      ],
      "execution_count": 8,
      "outputs": []
    },
    {
      "cell_type": "code",
      "metadata": {
        "id": "7qKSHgVB7pIF",
        "colab_type": "code",
        "colab": {}
      },
      "source": [
        "(x_train_all, y_train_all), (x_test, y_test) = imdb.load_data(skip_top=20, num_words=1000)\n",
        "\n",
        "for i in range(len(x_train_all)):\n",
        "  x_train_all[i] = [w for w in x_train_all[i] if w > 2]\n"
      ],
      "execution_count": 23,
      "outputs": []
    },
    {
      "cell_type": "code",
      "metadata": {
        "id": "WEcR7jR2A0dS",
        "colab_type": "code",
        "colab": {}
      },
      "source": [
        "np.random.seed(42)\n",
        "random_index = np.random.permutation(25000)\n",
        "\n",
        "x_train = x_train_all[random_index[:20000]]\n",
        "y_train = y_train_all[random_index[:20000]]\n",
        "x_val = x_train_all[random_index[20000:]]\n",
        "y_val = y_train_all[random_index[20000:]]"
      ],
      "execution_count": 24,
      "outputs": []
    },
    {
      "cell_type": "code",
      "metadata": {
        "id": "vZJYlkvX8iND",
        "colab_type": "code",
        "colab": {}
      },
      "source": [
        "from tensorflow.keras.preprocessing import sequence\n",
        "\n",
        "maxlen=100\n",
        "x_train_seq = sequence.pad_sequences(x_train, maxlen=maxlen)\n",
        "x_val_seq = sequence.pad_sequences(x_val, maxlen=maxlen)"
      ],
      "execution_count": 25,
      "outputs": []
    },
    {
      "cell_type": "code",
      "metadata": {
        "id": "lyAQr_an6SHz",
        "colab_type": "code",
        "colab": {}
      },
      "source": [
        "from tensorflow.keras.models import Sequential\n",
        "from tensorflow.keras.layers import Dense, SimpleRNN\n",
        "from tensorflow.keras.layers import Embedding"
      ],
      "execution_count": 26,
      "outputs": []
    },
    {
      "cell_type": "code",
      "metadata": {
        "id": "Du3IyYId6epf",
        "colab_type": "code",
        "colab": {
          "base_uri": "https://localhost:8080/",
          "height": 255
        },
        "outputId": "b1308719-9db7-4f88-b731-4cbb7169aaca"
      },
      "source": [
        "model = Sequential()\n",
        "\n",
        "model.add(Embedding(1000, 32)) \n",
        "# 원핫인코딩은 길이100이었지만 워드임베딩벡터 길이는 32면 충분~ 인풋데이터 크기는 왜 안넣지?\n",
        "model.add(SimpleRNN(8)) \n",
        "# 셀 개수도 8개로 팍 줄이자\n",
        "model.add(Dense(1, activation='sigmoid')) \n",
        "# 이진분류이므로 유닛1개\n",
        "\n",
        "model.summary()"
      ],
      "execution_count": 27,
      "outputs": [
        {
          "output_type": "stream",
          "text": [
            "Model: \"sequential_3\"\n",
            "_________________________________________________________________\n",
            "Layer (type)                 Output Shape              Param #   \n",
            "=================================================================\n",
            "embedding_1 (Embedding)      (None, None, 32)          32000     \n",
            "_________________________________________________________________\n",
            "simple_rnn_3 (SimpleRNN)     (None, 8)                 328       \n",
            "_________________________________________________________________\n",
            "dense_3 (Dense)              (None, 1)                 9         \n",
            "=================================================================\n",
            "Total params: 32,337\n",
            "Trainable params: 32,337\n",
            "Non-trainable params: 0\n",
            "_________________________________________________________________\n"
          ],
          "name": "stdout"
        }
      ]
    },
    {
      "cell_type": "code",
      "metadata": {
        "id": "53w_87yI64l2",
        "colab_type": "code",
        "colab": {
          "base_uri": "https://localhost:8080/",
          "height": 697
        },
        "outputId": "ee845062-191c-4ae6-bf1b-d03074f14a26"
      },
      "source": [
        "model.compile(optimizer='adam', loss='binary_crossentropy', metrics=['accuracy'])\n",
        "\n",
        "history = model.fit(x_train_seq, y_train, epochs=20, batch_size=32,\n",
        "                    validation_data=(x_val_seq, y_val))"
      ],
      "execution_count": 28,
      "outputs": [
        {
          "output_type": "stream",
          "text": [
            "Epoch 1/20\n",
            "625/625 [==============================] - 11s 18ms/step - loss: 0.5135 - accuracy: 0.7584 - val_loss: 0.4359 - val_accuracy: 0.8124\n",
            "Epoch 2/20\n",
            "625/625 [==============================] - 10s 17ms/step - loss: 0.3914 - accuracy: 0.8323 - val_loss: 0.4119 - val_accuracy: 0.8182\n",
            "Epoch 3/20\n",
            "625/625 [==============================] - 11s 17ms/step - loss: 0.3439 - accuracy: 0.8562 - val_loss: 0.4057 - val_accuracy: 0.8136\n",
            "Epoch 4/20\n",
            "625/625 [==============================] - 10s 16ms/step - loss: 0.3142 - accuracy: 0.8702 - val_loss: 0.4047 - val_accuracy: 0.8218\n",
            "Epoch 5/20\n",
            "625/625 [==============================] - 10s 17ms/step - loss: 0.2910 - accuracy: 0.8812 - val_loss: 0.4288 - val_accuracy: 0.8268\n",
            "Epoch 6/20\n",
            "625/625 [==============================] - 10s 17ms/step - loss: 0.2642 - accuracy: 0.8939 - val_loss: 0.4764 - val_accuracy: 0.7772\n",
            "Epoch 7/20\n",
            "625/625 [==============================] - 10s 17ms/step - loss: 0.2494 - accuracy: 0.9025 - val_loss: 0.4761 - val_accuracy: 0.8056\n",
            "Epoch 8/20\n",
            "625/625 [==============================] - 10s 17ms/step - loss: 0.2307 - accuracy: 0.9105 - val_loss: 0.4687 - val_accuracy: 0.8184\n",
            "Epoch 9/20\n",
            "625/625 [==============================] - 11s 17ms/step - loss: 0.2148 - accuracy: 0.9175 - val_loss: 0.5065 - val_accuracy: 0.7972\n",
            "Epoch 10/20\n",
            "625/625 [==============================] - 10s 16ms/step - loss: 0.2098 - accuracy: 0.9196 - val_loss: 0.5106 - val_accuracy: 0.8052\n",
            "Epoch 11/20\n",
            "625/625 [==============================] - 10s 17ms/step - loss: 0.2068 - accuracy: 0.9223 - val_loss: 0.5326 - val_accuracy: 0.8144\n",
            "Epoch 12/20\n",
            "625/625 [==============================] - 10s 17ms/step - loss: 0.1908 - accuracy: 0.9291 - val_loss: 0.5315 - val_accuracy: 0.8122\n",
            "Epoch 13/20\n",
            "625/625 [==============================] - 10s 16ms/step - loss: 0.1862 - accuracy: 0.9309 - val_loss: 0.5665 - val_accuracy: 0.8110\n",
            "Epoch 14/20\n",
            "625/625 [==============================] - 11s 17ms/step - loss: 0.1906 - accuracy: 0.9309 - val_loss: 0.5612 - val_accuracy: 0.7908\n",
            "Epoch 15/20\n",
            "625/625 [==============================] - 11s 17ms/step - loss: 0.1859 - accuracy: 0.9300 - val_loss: 0.5624 - val_accuracy: 0.7914\n",
            "Epoch 16/20\n",
            "625/625 [==============================] - 10s 17ms/step - loss: 0.1743 - accuracy: 0.9354 - val_loss: 0.5954 - val_accuracy: 0.8120\n",
            "Epoch 17/20\n",
            "625/625 [==============================] - 11s 17ms/step - loss: 0.1675 - accuracy: 0.9385 - val_loss: 0.5950 - val_accuracy: 0.8158\n",
            "Epoch 18/20\n",
            "625/625 [==============================] - 10s 17ms/step - loss: 0.1495 - accuracy: 0.9456 - val_loss: 0.6006 - val_accuracy: 0.8006\n",
            "Epoch 19/20\n",
            "625/625 [==============================] - 10s 17ms/step - loss: 0.1706 - accuracy: 0.9388 - val_loss: 0.6088 - val_accuracy: 0.8108\n",
            "Epoch 20/20\n",
            "625/625 [==============================] - 10s 17ms/step - loss: 0.1808 - accuracy: 0.9323 - val_loss: 0.6063 - val_accuracy: 0.8060\n"
          ],
          "name": "stdout"
        }
      ]
    },
    {
      "cell_type": "code",
      "metadata": {
        "id": "biPMR20u7hBb",
        "colab_type": "code",
        "colab": {
          "base_uri": "https://localhost:8080/",
          "height": 265
        },
        "outputId": "e741f319-b2d8-4ddd-f631-44ab7f532d2a"
      },
      "source": [
        "import matplotlib.pyplot as plt\n",
        "\n",
        "plt.plot(history.history['loss'])\n",
        "plt.plot(history.history['val_loss'])\n",
        "plt.show()"
      ],
      "execution_count": 29,
      "outputs": [
        {
          "output_type": "display_data",
          "data": {
            "image/png": "[encoded data removed]",
            "text/plain": [
              "<Figure size 432x288 with 1 Axes>"
            ]
          },
          "metadata": {
            "tags": [],
            "needs_background": "light"
          }
        }
      ]
    },
    {
      "cell_type": "code",
      "metadata": {
        "id": "9imkAsL2-uUO",
        "colab_type": "code",
        "colab": {
          "base_uri": "https://localhost:8080/",
          "height": 34
        },
        "outputId": "6eeb6cff-2b77-404f-c1a0-7b6069135744"
      },
      "source": [
        "_, accuracy = model.evaluate(x_val_seq, y_val, verbose=0)\n",
        "accuracy\n",
        "# 헉 epoch3부터 바로 오버피팅인듯. 엄청 빠르다잉"
      ],
      "execution_count": 31,
      "outputs": [
        {
          "output_type": "execute_result",
          "data": {
            "text/plain": [
              "0.8059999942779541"
            ]
          },
          "metadata": {
            "tags": []
          },
          "execution_count": 31
        }
      ]
    },
    {
      "cell_type": "code",
      "metadata": {
        "id": "7rRNQUB8_y7h",
        "colab_type": "code",
        "colab": {}
      },
      "source": [
        ""
      ],
      "execution_count": null,
      "outputs": []
    }
  ]
}