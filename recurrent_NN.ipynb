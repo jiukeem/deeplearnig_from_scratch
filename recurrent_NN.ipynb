{
  "nbformat": 4,
  "nbformat_minor": 0,
  "metadata": {
    "colab": {
      "name": "recurrent NN.ipynb",
      "provenance": [],
      "collapsed_sections": [],
      "authorship_tag": "ABX9TyPPkcN8ZDUvLWhy/Ho9lm7J",
      "include_colab_link": true
    },
    "kernelspec": {
      "name": "python3",
      "display_name": "Python 3"
    }
  },
  "cells": [
    {
      "cell_type": "markdown",
      "metadata": {
        "id": "view-in-github",
        "colab_type": "text"
      },
      "source": [
        "<a href=\"https://colab.research.google.com/github/jiukeem/deeplearning_from_scratch/blob/master/recurrent_NN.ipynb\" target=\"_parent\"><img src=\"https://colab.research.google.com/assets/colab-badge.svg\" alt=\"Open In Colab\"/></a>"
      ]
    },
    {
      "cell_type": "code",
      "metadata": {
        "id": "PmoD2f2s5wQP",
        "colab_type": "code",
        "colab": {}
      },
      "source": [
        "import numpy as np\n",
        "import tensorflow as tf"
      ],
      "execution_count": 1,
      "outputs": []
    },
    {
      "cell_type": "code",
      "metadata": {
        "id": "hcDAotrs54T5",
        "colab_type": "code",
        "colab": {}
      },
      "source": [
        "from tensorflow.keras.datasets import imdb"
      ],
      "execution_count": 2,
      "outputs": []
    },
    {
      "cell_type": "code",
      "metadata": {
        "id": "-vajyZ5581o1",
        "colab_type": "code",
        "colab": {}
      },
      "source": [
        "(x_train_all, y_train_all), (x_test, y_test) = imdb.load_data(skip_top=20, num_words=100)\n",
        "# skip_top 은 가장 많이 등장한 단어순으로 몇개를 제외할지\n",
        "# num_words 는 훈련에 사용할 단어의 개수\n",
        "# 이 데이터셋은 정수 인코딩된 상태"
      ],
      "execution_count": 3,
      "outputs": []
    },
    {
      "cell_type": "code",
      "metadata": {
        "id": "a0r_w4Ox8_G0",
        "colab_type": "code",
        "colab": {
          "base_uri": "https://localhost:8080/",
          "height": 34
        },
        "outputId": "e588f7ad-eefe-4803-eee6-2e3e46b2586d"
      },
      "source": [
        "x_train_all.shape"
      ],
      "execution_count": 4,
      "outputs": [
        {
          "output_type": "execute_result",
          "data": {
            "text/plain": [
              "(25000,)"
            ]
          },
          "metadata": {
            "tags": []
          },
          "execution_count": 4
        }
      ]
    },
    {
      "cell_type": "code",
      "metadata": {
        "id": "Go2ortYE9Wz5",
        "colab_type": "code",
        "colab": {
          "base_uri": "https://localhost:8080/",
          "height": 34
        },
        "outputId": "8a464df8-c002-4778-d9a4-352399fb0192"
      },
      "source": [
        "y_train_all.shape"
      ],
      "execution_count": 5,
      "outputs": [
        {
          "output_type": "execute_result",
          "data": {
            "text/plain": [
              "(25000,)"
            ]
          },
          "metadata": {
            "tags": []
          },
          "execution_count": 5
        }
      ]
    },
    {
      "cell_type": "code",
      "metadata": {
        "id": "MhvMA8YP96IP",
        "colab_type": "code",
        "colab": {}
      },
      "source": [
        "# 0은 패딩, 1은 글의 시작, 2는 사전에 없는 단어이기 때문에 얘네를 제외시키자\n",
        "for i in range(len(x_train_all)):\n",
        "  x_train_all[i] = [w for w in x_train_all[i] if w > 2]"
      ],
      "execution_count": 6,
      "outputs": []
    },
    {
      "cell_type": "code",
      "metadata": {
        "id": "o0Zuzm_c-zOr",
        "colab_type": "code",
        "colab": {
          "base_uri": "https://localhost:8080/",
          "height": 34
        },
        "outputId": "beffd2ea-3c3c-4169-b7b2-84f57b80fc90"
      },
      "source": [
        "len(x_train_all[0]), len(x_train_all[1])"
      ],
      "execution_count": 7,
      "outputs": [
        {
          "output_type": "execute_result",
          "data": {
            "text/plain": [
              "(59, 32)"
            ]
          },
          "metadata": {
            "tags": []
          },
          "execution_count": 7
        }
      ]
    },
    {
      "cell_type": "code",
      "metadata": {
        "id": "sxAZ2o6TyshM",
        "colab_type": "code",
        "colab": {
          "base_uri": "https://localhost:8080/",
          "height": 34
        },
        "outputId": "163f6712-14d6-4a7e-a3ae-ccea55592645"
      },
      "source": [
        "np.random.seed(42)\n",
        "random_index = np.random.permutation(25000)\n",
        "x_train = x_train_all[random_index[:20000]]\n",
        "y_train = y_train_all[random_index[:20000]]\n",
        "x_val = x_train_all[random_index[20000:]]\n",
        "y_val = y_train_all[random_index[20000:]]\n",
        "\n",
        "x_train.shape, y_train.shape, x_val.shape, y_val.shape"
      ],
      "execution_count": 12,
      "outputs": [
        {
          "output_type": "execute_result",
          "data": {
            "text/plain": [
              "((20000,), (20000,), (5000,), (5000,))"
            ]
          },
          "metadata": {
            "tags": []
          },
          "execution_count": 12
        }
      ]
    },
    {
      "cell_type": "code",
      "metadata": {
        "id": "MtXbRwFfBg-e",
        "colab_type": "code",
        "colab": {}
      },
      "source": [
        "from tensorflow.keras.preprocessing import sequence\n",
        "\n",
        "maxlen=100\n",
        "x_train_seq = sequence.pad_sequences(x_train, maxlen=maxlen)\n",
        "x_val_seq = sequence.pad_sequences(x_val, maxlen=maxlen)\n",
        "# 얘는 제로 패딩을 앞에 해준다. 0이 뒤쪽에 들어가는게 성능이 더 떨어진다고 함"
      ],
      "execution_count": 13,
      "outputs": []
    },
    {
      "cell_type": "code",
      "metadata": {
        "id": "WUr5rbTxBc60",
        "colab_type": "code",
        "colab": {
          "base_uri": "https://localhost:8080/",
          "height": 34
        },
        "outputId": "b7ea6fc3-6c53-4d49-a299-7a6b77a33c17"
      },
      "source": [
        "len(x_train_seq[0]), len(x_train_seq[1])"
      ],
      "execution_count": 14,
      "outputs": [
        {
          "output_type": "execute_result",
          "data": {
            "text/plain": [
              "(100, 100)"
            ]
          },
          "metadata": {
            "tags": []
          },
          "execution_count": 14
        }
      ]
    },
    {
      "cell_type": "code",
      "metadata": {
        "id": "_fx91jR3B5zd",
        "colab_type": "code",
        "colab": {}
      },
      "source": [
        "from tensorflow.keras.utils import to_categorical\n",
        "\n",
        "x_train_onehot = to_categorical(x_train_seq)\n",
        "x_val_onehot = to_categorical(x_val_seq)"
      ],
      "execution_count": 15,
      "outputs": []
    },
    {
      "cell_type": "code",
      "metadata": {
        "id": "4mcmie1SDCkm",
        "colab_type": "code",
        "colab": {
          "base_uri": "https://localhost:8080/",
          "height": 34
        },
        "outputId": "dcd8214d-0435-4c54-a516-0113c221485c"
      },
      "source": [
        "x_train_onehot.shape\n",
        "# 100 한개는 패딩을 붙인 각 샘플의 길이고, 한개는 원핫인코딩된 벡터의 크기이다. 즉 단어 보카를 현재 100개로 제한한거임"
      ],
      "execution_count": 16,
      "outputs": [
        {
          "output_type": "execute_result",
          "data": {
            "text/plain": [
              "(20000, 100, 100)"
            ]
          },
          "metadata": {
            "tags": []
          },
          "execution_count": 16
        }
      ]
    },
    {
      "cell_type": "code",
      "metadata": {
        "id": "jGQo8MGwxs_4",
        "colab_type": "code",
        "colab": {
          "base_uri": "https://localhost:8080/",
          "height": 34
        },
        "outputId": "5ab73e13-b85b-4378-c510-58a3a01ca2f3"
      },
      "source": [
        "x_val_onehot.shape"
      ],
      "execution_count": 17,
      "outputs": [
        {
          "output_type": "execute_result",
          "data": {
            "text/plain": [
              "(5000, 100, 100)"
            ]
          },
          "metadata": {
            "tags": []
          },
          "execution_count": 17
        }
      ]
    },
    {
      "cell_type": "code",
      "metadata": {
        "id": "3bxWU8AQDKzb",
        "colab_type": "code",
        "colab": {}
      },
      "source": [
        "class RecurrentNetwork:\n",
        "  def __init__(self, learning_rate=0.1, n_cells=10, batch_size=32):\n",
        "    self.n_cells = n_cells\n",
        "    # 셀 개수가 조금 이해가 안되는데.. 단어 단위로 한개의 샘플에 100개 피쳐가 들어있고 얘네를 타입스텝으로 계산하려면 셀도 딱 100개여야만 하는거 아닌가?\n",
        "    # 뒤에 fit하는거 보면 (20000, 100, 100) 형태의 X를 32개의 셀로 돌린다 요기가 이해가 쫌 안됨\n",
        "    # 아~ 내가 생각한거 맞음. 근데 그 셀은 한번의 타입스텝마다 32번을 반복하겠다고! 하는거임. 그 갯수를 설정하는 것이었따!! \n",
        "    # 책에서 히든레이어 개수 대신 셀 개수를 입력한다고 하는 걸 보니 맞는 것 같다.\n",
        "    self.batch_size = batch_size\n",
        "    self.w1x = None\n",
        "    self.w1h = None\n",
        "    self.b1 = None\n",
        "    self.w2 = None\n",
        "    self.b2 = None\n",
        "    self.h = None\n",
        "    # 셀의 활성화 값 h는 계속 다음 타입스텝에서 h의 계산에 입력되므로 그레디언트 계산을 위해서는 전단계의 h 정보가 있어야 한다.\n",
        "    # 모든 h를 기록해놔야하는거 아닌감?\n",
        "    # 아 기록하는거 맞다. 매번 h를 업데이트 하는게 아니라 np 어레이를 계속 append 한다\n",
        "    self.cost_history = []\n",
        "    self.val_cost_history = []\n",
        "    self.lr = learning_rate\n",
        "\n",
        "  def random_init(self, x, y):\n",
        "    orth_init = tf.initializers.Orthogonal()\n",
        "    # 직교 행렬 방식 초기화인 Orthgonal은 순환셀에서 웨이트가 계속 반복되면서 곱해질 때 너무 커지거나 작아지지 않게 하는 방식\n",
        "    # 수식을 몰라서 자비에하고 정확한 차이점은 모르겠음. 찾아보기\n",
        "    glorot_init = tf.initializers.GlorotUniform()\n",
        "    # 글로럿은 cnn에서 다뤘었음\n",
        "\n",
        "    self.w1x = glorot_init((x.shape[1], self.n_cells)).numpy()\n",
        "    self.w1h = orth_init((self.n_cells, self.n_cells)).numpy()\n",
        "    self.b1 = np.zeros(self.n_cells)\n",
        "    self.w2 = glorot_init((self.n_cells, y.shape[1])).numpy()\n",
        "    self.b2 = np.zeros(y.shape[1])\n",
        "    # 전부 넘파이어레이 형식으로 통일되게 맞춰줌\n",
        "\n",
        "  def forward_prop(self, x):\n",
        "    self.h = [np.zeros((x.shape[0], self.n_cells))]\n",
        "    # 리스트 타입으로 만듬. 첫번째 타입스텝에는 참고할 h가 없으므로 그 때는 0을 집어넣을 수 있게 np.zeros로 init\n",
        "    seq = np.swapaxes(x, 0, 1)\n",
        "    # x의 0차원과 1차원을 바꾸는 명령\n",
        "    # 현재 x.shape은 (샘플개수, 타임스텝차원, 인코딩벡터차원) 인데 얘는 recurrent인만큼 \n",
        "    # 모든샘플의첫번째타임스텝 -> 모든샘플의두번째타임스텝 - .. 순으로 진행된다. 앞으로의 벡터라이제이션 진행을 용이하게 하기 위해 바꾼 것\n",
        "    \n",
        "    for x_row in seq: #즉 row x는 모든샘플의i번째타임스텝임\n",
        "      z1 = np.dot(x_row, self.w1x) + np.dot(self.h[-1], self.w1h) + self.b1\n",
        "      # self.h는 np 어레이로 이루어진 리스트이기 때문에 가장 최근의 어레이를 쓰라고 -1 인덱싱\n",
        "      h = np.tanh(z1)\n",
        "      self.h.append(h)\n",
        "      z2 = np.dot(h, self.w2) + self.b2\n",
        "    return z2\n",
        "\n",
        "  def backward_prop(self, x, y, a):\n",
        "    m = x.shape[0]\n",
        "    dw2 = np.dot(self.h[-1].T, a - y) / m\n",
        "    db2 = np.sum(a - y) / m\n",
        "\n",
        "    seq = np.swapaxes(x, 0, 1)\n",
        "    dw1x = dw1h = db1 = 0\n",
        "    dz1 = np.dot(a - y, self.w2.T) * (1 - self.h[-1] ** 2)\n",
        "    for x, h in zip(seq[::-1][:10], self.h[:-1][::-1][:10]):\n",
        "      # seq 슬라이싱을 보자. 첫번째 ::-1은 타입스텝 차원을 가장 최근 것부터 거꾸로 거슬러 올라가겠다는 얘기, 10은 뭐지??? 샘플을 왜 10개만 자르는거징?\n",
        "      # self.h의 경우 :-1은 가장 최근의 h를 선택, h.shape은 m, n_cells 이므로 잉 뭐지ㅜㅜㅜ 이 부분 잘 이해가 안간다ㅜㅜ\n",
        "      # 일단 for문을 돌리면서 계속 타임스텝을 거슬러 올라가는 건 이해함. 근데 저 슬라이싱이 헷갈리네\n",
        "      dw1h += np.dot(h.T, dz1)\n",
        "      dw1x += np.dot(x.T, dz1)\n",
        "      db1 += np.sum(dz1, axis=0)\n",
        "      dz1 = np.dot(dz1, self.w1h) * (1 - h ** 2)\n",
        "      # dz1 도 매번 업데이트 해줘야한다. 그 뭐더라 등비급수 개념처럼\n",
        "\n",
        "    dw1h = dw1h / m\n",
        "    dw1x = dw1x / m\n",
        "    db1 = db1 / m\n",
        "\n",
        "    return dw1x, dw1h, db1, dw2, db2\n",
        "\n",
        "  def sigmoid(self, z):\n",
        "    a = 1 / (1 + np.exp(-z))\n",
        "    return a\n",
        "\n",
        "  def training(self, x, y):\n",
        "    z = self.forward_prop(x)\n",
        "    a = self.sigmoid(z)\n",
        "    dw1x, dw1h, db1, dw2, db2 = self.backward_prop(x, y, a)\n",
        "    self.w1x -= self.lr * dw1x\n",
        "    self.w1h -= self.lr * dw1h\n",
        "    self.b1 -= self.lr * db1\n",
        "    self.w2 -= self.lr * dw2\n",
        "    self.b2 -= self.lr * db2\n",
        "    return a\n",
        "\n",
        "  def fit(self, x, y, epochs=100, x_val=None, y_val=None):\n",
        "    y = y.reshape(-1, 1)\n",
        "    y_val = y_val.reshape(-1, 1)\n",
        "    np.random.seed(42)\n",
        "    self.random_init(x, y)\n",
        "\n",
        "    for i in range(epochs):\n",
        "      print('epoch', i+1)\n",
        "      batch_losses = []\n",
        "      for x_batch, y_batch in self.gen_batch(x, y):\n",
        "        a = self.training(x_batch, y_batch)\n",
        "        a = np.clip(a, 1e-10, 1-1e-10)\n",
        "        loss = np.mean(-(y_batch*np.log(a) + (1-y_batch)*np.log(1-a)))\n",
        "        batch_losses.append(loss)\n",
        "\n",
        "      cost = np.mean(batch_losses)\n",
        "      self.cost_history.append(cost)\n",
        "      self.update_val_cost(x_val, y_val)\n",
        "\n",
        "  def calcul_loss(self, y, a):\n",
        "    loss = -y * np.log(a) + (1 - y) * np.log(1 - a)\n",
        "    return loss\n",
        "\n",
        "  def update_val_cost(self, x_val, y_val):\n",
        "    z2 = self.forward_prop(x_val)\n",
        "    a = self.sigmoid(z2)\n",
        "    a = np.clip(a, 1e-10, 1-1e-10)\n",
        "    loss = np.mean(-(y_val*np.log(a) + (1-y_val)*np.log(1-a)))\n",
        "    self.val_cost_history.append(loss)\n",
        "\n",
        "  def gen_batch(self, x, y):\n",
        "    bins = x.shape[0] // self.batch_size\n",
        "    if x.shape[0] % self.batch_size:\n",
        "      bins += 1\n",
        "    index = np.random.permutation(np.arange(len(x)))\n",
        "    x = x[index]\n",
        "    y = y[index]\n",
        "    for i in range(bins):\n",
        "      start = self.batch_size * i\n",
        "      end = self.batch_size * (i + 1)\n",
        "      yield x[start : end], y[start: end]\n",
        "\n",
        "  def predict(self, x):\n",
        "    z = self.forward_prop(x)\n",
        "    a = self.sigmoid(z)\n",
        "    return a > 0.5\n",
        "\n",
        "  def score(self, x, y):\n",
        "    score = np.mean(self.predict(x) == y.reshape(-1, 1))\n",
        "    return score"
      ],
      "execution_count": 32,
      "outputs": []
    },
    {
      "cell_type": "code",
      "metadata": {
        "id": "ipCIvIP4q-T8",
        "colab_type": "code",
        "colab": {
          "base_uri": "https://localhost:8080/",
          "height": 357
        },
        "outputId": "d0303e1b-bf68-405e-fc67-9faa544b828b"
      },
      "source": [
        "rn = RecurrentNetwork(n_cells=32, batch_size=32, learning_rate=0.01)\n",
        "rn.fit(x_train_onehot, y_train, epochs=20, x_val=x_val_onehot, y_val=y_val)"
      ],
      "execution_count": 36,
      "outputs": [
        {
          "output_type": "stream",
          "text": [
            "epoch 1\n",
            "epoch 2\n",
            "epoch 3\n",
            "epoch 4\n",
            "epoch 5\n",
            "epoch 6\n",
            "epoch 7\n",
            "epoch 8\n",
            "epoch 9\n",
            "epoch 10\n",
            "epoch 11\n",
            "epoch 12\n",
            "epoch 13\n",
            "epoch 14\n",
            "epoch 15\n",
            "epoch 16\n",
            "epoch 17\n",
            "epoch 18\n",
            "epoch 19\n",
            "epoch 20\n"
          ],
          "name": "stdout"
        }
      ]
    },
    {
      "cell_type": "code",
      "metadata": {
        "id": "S1PjVP0drZWe",
        "colab_type": "code",
        "colab": {
          "base_uri": "https://localhost:8080/",
          "height": 265
        },
        "outputId": "ef04bec7-ba37-4599-fa52-7bc506c39e98"
      },
      "source": [
        "import matplotlib.pyplot as plt\n",
        "\n",
        "plt.plot(rn.cost_history)\n",
        "plt.plot(rn.val_cost_history)\n",
        "plt.legend(['train cost', 'val cost'])\n",
        "plt.show()"
      ],
      "execution_count": 37,
      "outputs": [
        {
          "output_type": "display_data",
          "data": {
            "image/png": "[encoded data removed]",
            "text/plain": [
              "<Figure size 432x288 with 1 Axes>"
            ]
          },
          "metadata": {
            "tags": [],
            "needs_background": "light"
          }
        }
      ]
    },
    {
      "cell_type": "code",
      "metadata": {
        "id": "lGhOgTNayZGK",
        "colab_type": "code",
        "colab": {
          "base_uri": "https://localhost:8080/",
          "height": 34
        },
        "outputId": "5b8b5b5d-cf89-4f9b-caa6-97b3a9c12868"
      },
      "source": [
        "rn.score(x_val_onehot, y_val)"
      ],
      "execution_count": 38,
      "outputs": [
        {
          "output_type": "execute_result",
          "data": {
            "text/plain": [
              "0.6848"
            ]
          },
          "metadata": {
            "tags": []
          },
          "execution_count": 38
        }
      ]
    },
    {
      "cell_type": "code",
      "metadata": {
        "id": "BQmZUPsi6Gkv",
        "colab_type": "code",
        "colab": {}
      },
      "source": [
        ""
      ],
      "execution_count": null,
      "outputs": []
    }
  ]
}