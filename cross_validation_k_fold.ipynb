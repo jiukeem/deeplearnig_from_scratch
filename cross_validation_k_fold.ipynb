{
  "nbformat": 4,
  "nbformat_minor": 0,
  "metadata": {
    "colab": {
      "name": "cross validation k-fold.ipynb",
      "provenance": [],
      "collapsed_sections": [],
      "authorship_tag": "ABX9TyMnH9J3numEMPWOptwTdVmz",
      "include_colab_link": true
    },
    "kernelspec": {
      "name": "python3",
      "display_name": "Python 3"
    }
  },
  "cells": [
    {
      "cell_type": "markdown",
      "metadata": {
        "id": "view-in-github",
        "colab_type": "text"
      },
      "source": [
        "<a href=\"https://colab.research.google.com/github/jiukeem/deeplearning_from_scratch/blob/master/cross_validation_k_fold.ipynb\" target=\"_parent\"><img src=\"https://colab.research.google.com/assets/colab-badge.svg\" alt=\"Open In Colab\"/></a>"
      ]
    },
    {
      "cell_type": "code",
      "metadata": {
        "id": "rs-xwHuIh9yu",
        "colab_type": "code",
        "colab": {}
      },
      "source": [
        "import numpy as np\n",
        "from sklearn.datasets import load_breast_cancer\n",
        "from sklearn.model_selection import train_test_split\n",
        "import matplotlib.pyplot as plt"
      ],
      "execution_count": 1,
      "outputs": []
    },
    {
      "cell_type": "code",
      "metadata": {
        "id": "KYaCU4a3iADx",
        "colab_type": "code",
        "colab": {}
      },
      "source": [
        "cancer = load_breast_cancer()\n",
        "x = cancer.data\n",
        "y = cancer.target\n",
        "x_train_all, x_test, y_train_all, y_test = train_test_split(x, y, stratify=y, test_size=0.2, random_state=42)"
      ],
      "execution_count": 2,
      "outputs": []
    },
    {
      "cell_type": "code",
      "metadata": {
        "id": "azV0XysfmOOW",
        "colab_type": "code",
        "colab": {}
      },
      "source": [
        "class SingleLayer:\n",
        "  def __init__(self, learning_rate=0.1, l2=0):\n",
        "    self.w = None\n",
        "    self.b = None\n",
        "    self.cost_history = []\n",
        "    self.lr = learning_rate\n",
        "    self.val_cost_history = [] # 러닝커브를 보기 위함\n",
        "    self.l2_lambda = l2\n",
        "        \n",
        "  def initialization(self, x):\n",
        "    self.w = np.ones(x.shape[1]) # 이렇게 설정하면 (1, nx) 일지 (nx, 1) 일지 어떻게 알지?\n",
        "    self.b = 0\n",
        "    return self.w, self.b\n",
        "\n",
        "  def sigmoid(self, z):\n",
        "    a = 1 / (1 + np.exp(-z))\n",
        "    return a\n",
        "\n",
        "  def forward_prop(self, x):\n",
        "    z = np.sum(x * self.w) + self.b\n",
        "    a = self.sigmoid(z)\n",
        "    return a\n",
        "\n",
        "  def calcul_loss(self, a, y):\n",
        "    a = np.clip(a, 1e-10, 1-1e-10)\n",
        "    loss = -(y * np.log(a) + (1 - y) * np.log(1 - a)) + self.l2_lambda * np.sum(self.w **2) / 2\n",
        "    return loss\n",
        "\n",
        "  def backward_prop(self, x, y, a):\n",
        "    dw = (a - y) * x + self.l2_lambda * self.w\n",
        "    db = (a - y) * 1 \n",
        "    return dw, db\n",
        "\n",
        "  def fit(self, x, y, epoches=100, x_val=None, y_val=None):\n",
        "    self.w, self.b = self.initialization(x)\n",
        "    for i in range(epoches):\n",
        "      loss = 0\n",
        "      index = np.random.permutation(np.arange(len(x)))\n",
        "      for i in index:\n",
        "        a = self.forward_prop(x[i])\n",
        "        dw, db = self.backward_prop(x[i], y[i], a)\n",
        "        self.w -= dw * self.lr\n",
        "        self.b -= db * self.lr\n",
        "        loss += self.calcul_loss(a, y[i])        \n",
        "      self.cost_history.append(loss / x.shape[0])\n",
        "      self.update_val_loss(x_val, y_val)\n",
        "\n",
        "  def update_val_loss(self, x_val, y_val):\n",
        "    if x_val is None:\n",
        "      return\n",
        "    val_loss = 0\n",
        "    for i in range(x_val.shape[0]):\n",
        "      a_val = self.forward_prop(x_val[i])\n",
        "      val_loss += self.calcul_loss(a_val, y_val[i])\n",
        "    self.val_cost_history.append(val_loss / x_val.shape[0])\n",
        "\n",
        "  def predict(self, x): # 여기 x는 2차원 행렬로 들어온다\n",
        "    a = [self.forward_prop(x_row) for x_row in x] # 이렇게 하면 각 row가 요소가 되는 듯?\n",
        "    y_hat = [i > 0.5 for i in a]\n",
        "    return y_hat\n",
        "      \n",
        "  def score(self, x, y):\n",
        "    y_hat = self.predict(x)\n",
        "    score = np.mean(y_hat == y)\n",
        "    return score      "
      ],
      "execution_count": 3,
      "outputs": []
    },
    {
      "cell_type": "code",
      "metadata": {
        "id": "_gxpe_3TVHot",
        "colab_type": "code",
        "colab": {
          "base_uri": "https://localhost:8080/",
          "height": 34
        },
        "outputId": "9b1ad276-3587-4ecc-8a7f-0457e4653331"
      },
      "source": [
        "k = 10\n",
        "bins = x_train_all.shape[0] // k\n",
        "validation_scores = []\n",
        "\n",
        "for i in range(k):\n",
        "  start = bins * i\n",
        "  end = bins * (i + 1)\n",
        "  val_fold = x_train_all[start:end]\n",
        "  val_target = y_train_all[start:end]\n",
        "\n",
        "  train_index = list(range(0, start)) + list(range(end, x_train_all.shape[0]))\n",
        "  train_fold = x_train_all[train_index]\n",
        "  train_target = y_train_all[train_index] # 처음에 y_train_all[:start], y_train_all[end:] 식으로 했는데 안돌아간다\n",
        "\n",
        "  # 꼭 폴드를 나눈 다음에 normalization 을 해줘야 한다. validation fold 의 정보를 미리 누설하지 않기위해\n",
        "  train_mean = np.mean(x_train_all, axis=0)\n",
        "  train_std = np.std(x_train_all, axis=0)\n",
        "  train_fold_scaled = (train_fold - train_mean) / train_std\n",
        "  val_fold_scaled = (val_fold - train_mean) / train_std\n",
        "\n",
        "  layer = SingleLayer(l2=0.01)\n",
        "  layer.fit(train_fold_scaled, train_target, epoches=50)\n",
        "  score = layer.score(val_fold_scaled, val_target)\n",
        "  validation_scores.append(score)\n",
        "\n",
        "np.mean(validation_scores)"
      ],
      "execution_count": 11,
      "outputs": [
        {
          "output_type": "execute_result",
          "data": {
            "text/plain": [
              "0.968888888888889"
            ]
          },
          "metadata": {
            "tags": []
          },
          "execution_count": 11
        }
      ]
    },
    {
      "cell_type": "code",
      "metadata": {
        "id": "PrsFhKTBXP3o",
        "colab_type": "code",
        "colab": {
          "base_uri": "https://localhost:8080/",
          "height": 34
        },
        "outputId": "b44847d7-2fff-4d94-df1b-915a7430291c"
      },
      "source": [
        "# 사이킷런으로 하고싶다면\n",
        "from sklearn.linear_model import SGDClassifier\n",
        "from sklearn.model_selection import cross_validate\n",
        "sgd = SGDClassifier(loss='log', penalty='l2', alpha=0.001, random_state=42)\n",
        "scores = cross_validate(sgd, x_train_all, y_train_all, cv=10)\n",
        "np.mean(scores['test_score'])"
      ],
      "execution_count": 12,
      "outputs": [
        {
          "output_type": "execute_result",
          "data": {
            "text/plain": [
              "0.850096618357488"
            ]
          },
          "metadata": {
            "tags": []
          },
          "execution_count": 12
        }
      ]
    },
    {
      "cell_type": "code",
      "metadata": {
        "id": "-eDvyAsCbKS7",
        "colab_type": "code",
        "colab": {}
      },
      "source": [
        "# normalization 을 안해서 낮게 나왔다. cross_validate 의 x_train_all, y_train_all 자리에 scaled를 넣어주어야 하는데 그러면 폴드를 분리하기 전에 스케일 처리 정보를 넘겨주게 되는 문제가 생긴다.\n",
        "# pipeline 이라는 걸 이용해서 해결해보자"
      ],
      "execution_count": 13,
      "outputs": []
    },
    {
      "cell_type": "code",
      "metadata": {
        "id": "iTXBFcHhcPVs",
        "colab_type": "code",
        "colab": {}
      },
      "source": [
        "from sklearn.pipeline import make_pipeline\n",
        "from sklearn.preprocessing import StandardScaler"
      ],
      "execution_count": 14,
      "outputs": []
    },
    {
      "cell_type": "code",
      "metadata": {
        "id": "hBn2ad3AcXCp",
        "colab_type": "code",
        "colab": {
          "base_uri": "https://localhost:8080/",
          "height": 34
        },
        "outputId": "baa9476e-99db-4bf5-a669-2f2fcec7da4b"
      },
      "source": [
        "pipe = make_pipeline(StandardScaler(), sgd)\n",
        "scores = cross_validate(pipe, x_train_all, y_train_all, cv=10)\n",
        "np.mean(scores['test_score'])"
      ],
      "execution_count": 15,
      "outputs": [
        {
          "output_type": "execute_result",
          "data": {
            "text/plain": [
              "0.9694202898550724"
            ]
          },
          "metadata": {
            "tags": []
          },
          "execution_count": 15
        }
      ]
    },
    {
      "cell_type": "code",
      "metadata": {
        "id": "PJSadkS7cnT-",
        "colab_type": "code",
        "colab": {}
      },
      "source": [
        "# cross validate 의 파라미터에 sgd 대신 pipe를 넣은 걸 확인할 수 있다. (pipe 를 보면 pipe 안에 sgd가 이미 들어있다.) 즉 pipe 라는 매개체를 중간에 삽입한 것 \n",
        "# StandardScaler 이 우리가 했던 normalization 처리다. \n",
        "# 즉 cross validate 에서는 폴드로 나눠주기만 하고 그 다음에 normalization이 실행된다."
      ],
      "execution_count": null,
      "outputs": []
    }
  ]
}