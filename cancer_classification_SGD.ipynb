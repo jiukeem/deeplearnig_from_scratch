{
  "nbformat": 4,
  "nbformat_minor": 0,
  "metadata": {
    "colab": {
      "name": "cancer_classification_SGD.ipynb",
      "provenance": [],
      "collapsed_sections": [],
      "authorship_tag": "ABX9TyNB+tYunK77XHLPSxsUOMYH",
      "include_colab_link": true
    },
    "kernelspec": {
      "name": "python3",
      "display_name": "Python 3"
    }
  },
  "cells": [
    {
      "cell_type": "markdown",
      "metadata": {
        "id": "view-in-github",
        "colab_type": "text"
      },
      "source": [
        "<a href=\"https://colab.research.google.com/github/jiukeem/deeplearning_from_scratch/blob/master/cancer_classification_SGD.ipynb\" target=\"_parent\"><img src=\"https://colab.research.google.com/assets/colab-badge.svg\" alt=\"Open In Colab\"/></a>"
      ]
    },
    {
      "cell_type": "code",
      "metadata": {
        "id": "fsylj3gbuj1D",
        "colab_type": "code",
        "colab": {}
      },
      "source": [
        "import numpy as np\n",
        "import matplotlib.pyplot as plt\n",
        "from sklearn.datasets import load_breast_cancer\n",
        "from sklearn.model_selection import train_test_split"
      ],
      "execution_count": 1,
      "outputs": []
    },
    {
      "cell_type": "code",
      "metadata": {
        "id": "CS3V92rTvAHr",
        "colab_type": "code",
        "colab": {}
      },
      "source": [
        "cancer = load_breast_cancer()"
      ],
      "execution_count": 2,
      "outputs": []
    },
    {
      "cell_type": "code",
      "metadata": {
        "id": "y0-mbxE8vFDM",
        "colab_type": "code",
        "colab": {
          "base_uri": "https://localhost:8080/",
          "height": 51
        },
        "outputId": "6135526f-ba7c-48cf-a911-747de2a81589"
      },
      "source": [
        "X = cancer.data\n",
        "Y = cancer.target\n",
        "\n",
        "print('shape of X:', X.shape)\n",
        "print('shape of Y:', Y.shape)"
      ],
      "execution_count": 3,
      "outputs": [
        {
          "output_type": "stream",
          "text": [
            "shape of X: (569, 30)\n",
            "shape of Y: (569,)\n"
          ],
          "name": "stdout"
        }
      ]
    },
    {
      "cell_type": "code",
      "metadata": {
        "id": "3DPygk6OvWdf",
        "colab_type": "code",
        "colab": {
          "base_uri": "https://localhost:8080/",
          "height": 51
        },
        "outputId": "4c8ceae6-bf6f-4bd6-9e66-7c390f71b559"
      },
      "source": [
        "print('num of feature:', X.shape[1])\n",
        "print('num of examples:', X.shape[0])"
      ],
      "execution_count": 4,
      "outputs": [
        {
          "output_type": "stream",
          "text": [
            "num of feature: 30\n",
            "num of examples: 569\n"
          ],
          "name": "stdout"
        }
      ]
    },
    {
      "cell_type": "code",
      "metadata": {
        "id": "1MZJXHOfvhr0",
        "colab_type": "code",
        "colab": {}
      },
      "source": [
        "X_train, X_test, Y_train, Y_test = train_test_split(X, Y, test_size=0.2)"
      ],
      "execution_count": 5,
      "outputs": []
    },
    {
      "cell_type": "code",
      "metadata": {
        "id": "K0_N1fYywBgJ",
        "colab_type": "code",
        "colab": {
          "base_uri": "https://localhost:8080/",
          "height": 85
        },
        "outputId": "513f44d2-0377-410a-a1e5-c23e4fcdde36"
      },
      "source": [
        "print('shape of X_train:', X_train.shape)\n",
        "print('shape of Y_train:', Y_train.shape)\n",
        "print('shape of X_test:', X_test.shape)\n",
        "print('shape of Y_test:', Y_test.shape)"
      ],
      "execution_count": 6,
      "outputs": [
        {
          "output_type": "stream",
          "text": [
            "shape of X_train: (455, 30)\n",
            "shape of Y_train: (455,)\n",
            "shape of X_test: (114, 30)\n",
            "shape of Y_test: (114,)\n"
          ],
          "name": "stdout"
        }
      ]
    },
    {
      "cell_type": "code",
      "metadata": {
        "id": "L8xO4rsPwTVH",
        "colab_type": "code",
        "colab": {}
      },
      "source": [
        "class LogisticUnit:\n",
        "  def __init__(self):\n",
        "    self.w = None\n",
        "    self.b = None\n",
        "    self.cost_change = []\n",
        "\n",
        "  def initialize_para(self, x):\n",
        "    self.w = np.ones((1, x.shape[1]))\n",
        "    self.b = 0\n",
        "    return self.w, self.b\n",
        "\n",
        "  def forward_prop(self, x):\n",
        "    z = np.sum(x * self.w) + self.b # x.shape = (1, nx), w.shape = (1, nx), b.shape = (1, 1) 아니면 float 이라고 쓰는게 맞나?\n",
        "    a = self.sigmoid(z) # z와 a, y 모두 실수\n",
        "    return a\n",
        "\n",
        "  def sigmoid(self, z):\n",
        "    a = 1 / (1 + np.exp(-z))\n",
        "    return a\n",
        "\n",
        "  def back_prop(self, x, y, a):\n",
        "    dw = x * (a - y)\n",
        "    db = 1 * (a - y)\n",
        "    return dw, db\n",
        "\n",
        "  def fit(self, x, y, epoch=100):\n",
        "    self.w, self.b = self.initialize_para(x)\n",
        "    for i in range(epoch):\n",
        "      cost = 0\n",
        "      for x_i, y_i in zip(x, y):        \n",
        "        a = self.forward_prop(x_i)\n",
        "        dw, db = self.back_prop(x_i, y_i, a)\n",
        "        self.w = self.w - dw\n",
        "        self.b = self.b - db\n",
        "        a = np.clip(a, 1e-10, 1-1e-10)\n",
        "        loss = -(y_i * np.log(a) + (1 - y_i) * np.log(1 - a))\n",
        "        cost += loss\n",
        "      cost = cost / x.shape[0]\n",
        "      self.cost_change.append(cost)\n",
        "\n",
        "\n",
        "  def predict(self, x, y):\n",
        "    a = [self.forward_prop(x_i) for x_i in x]\n",
        "    y_hat = [i > 0.5 for i in a]\n",
        "    accuracy = np.mean([y_hat == y])\n",
        "    return accuracy"
      ],
      "execution_count": 7,
      "outputs": []
    },
    {
      "cell_type": "code",
      "metadata": {
        "id": "9NX4LllyWdH9",
        "colab_type": "code",
        "colab": {}
      },
      "source": [
        "unit = LogisticUnit()"
      ],
      "execution_count": 8,
      "outputs": []
    },
    {
      "cell_type": "code",
      "metadata": {
        "id": "xgBhmQzhWk4f",
        "colab_type": "code",
        "colab": {
          "base_uri": "https://localhost:8080/",
          "height": 34
        },
        "outputId": "c78ab427-a1b4-41b6-c447-011df7ea9e8e"
      },
      "source": [
        "unit.fit(X_train, Y_train)"
      ],
      "execution_count": 9,
      "outputs": [
        {
          "output_type": "stream",
          "text": [
            "/usr/local/lib/python3.6/dist-packages/ipykernel_launcher.py:18: RuntimeWarning: overflow encountered in exp\n"
          ],
          "name": "stderr"
        }
      ]
    },
    {
      "cell_type": "code",
      "metadata": {
        "id": "W6Qo8SqFWo54",
        "colab_type": "code",
        "colab": {
          "base_uri": "https://localhost:8080/",
          "height": 51
        },
        "outputId": "cb12b2be-e06d-4773-dfe8-3c60d8db401b"
      },
      "source": [
        "unit.predict(X_test, Y_test)\n",
        "# 실행할 때마다 랜덤으로 바뀌는 부분이 없는데도 accuracy가 매번 다르게 나온다. overflow 때문인가?\n",
        "# 오버플로는 계산 중에 어떤 값이 너무 크게 나오는 문제인 것 같은데 그런부분이 없는거 같은데 요상하다"
      ],
      "execution_count": 10,
      "outputs": [
        {
          "output_type": "stream",
          "text": [
            "/usr/local/lib/python3.6/dist-packages/ipykernel_launcher.py:18: RuntimeWarning: overflow encountered in exp\n"
          ],
          "name": "stderr"
        },
        {
          "output_type": "execute_result",
          "data": {
            "text/plain": [
              "0.868421052631579"
            ]
          },
          "metadata": {
            "tags": []
          },
          "execution_count": 10
        }
      ]
    },
    {
      "cell_type": "code",
      "metadata": {
        "id": "0HVEKfLM3L9j",
        "colab_type": "code",
        "colab": {
          "base_uri": "https://localhost:8080/",
          "height": 279
        },
        "outputId": "03097ae2-92d0-40e6-a94e-589899d87d7f"
      },
      "source": [
        "plt.plot(unit.cost_change)\n",
        "plt.xlabel('iteration')\n",
        "plt.ylabel('cost')\n",
        "plt.show()"
      ],
      "execution_count": 11,
      "outputs": [
        {
          "output_type": "display_data",
          "data": {
            "image/png": "[encoded data removed]",
            "text/plain": [
              "<Figure size 432x288 with 1 Axes>"
            ]
          },
          "metadata": {
            "tags": [],
            "needs_background": "light"
          }
        }
      ]
    },
    {
      "cell_type": "code",
      "metadata": {
        "id": "sjmh9PSX9rve",
        "colab_type": "code",
        "colab": {}
      },
      "source": [
        ""
      ],
      "execution_count": 11,
      "outputs": []
    }
  ]
}