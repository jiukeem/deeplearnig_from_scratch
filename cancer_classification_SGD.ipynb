{
  "nbformat": 4,
  "nbformat_minor": 0,
  "metadata": {
    "colab": {
      "name": "cancer_classification_SGD.ipynb",
      "provenance": [],
      "collapsed_sections": [],
      "authorship_tag": "ABX9TyN/wS//8KIFOz+q+m+OnaQC",
      "include_colab_link": true
    },
    "kernelspec": {
      "name": "python3",
      "display_name": "Python 3"
    }
  },
  "cells": [
    {
      "cell_type": "markdown",
      "metadata": {
        "id": "view-in-github",
        "colab_type": "text"
      },
      "source": [
        "<a href=\"https://colab.research.google.com/github/jiukeem/deeplearning_from_scratch/blob/master/cancer_classification_SGD.ipynb\" target=\"_parent\"><img src=\"https://colab.research.google.com/assets/colab-badge.svg\" alt=\"Open In Colab\"/></a>"
      ]
    },
    {
      "cell_type": "code",
      "metadata": {
        "id": "fsylj3gbuj1D",
        "colab_type": "code",
        "colab": {}
      },
      "source": [
        "import numpy as np\n",
        "import matplotlib.pyplot as plt\n",
        "from sklearn.datasets import load_breast_cancer\n",
        "from sklearn.model_selection import train_test_split"
      ],
      "execution_count": 2,
      "outputs": []
    },
    {
      "cell_type": "code",
      "metadata": {
        "id": "CS3V92rTvAHr",
        "colab_type": "code",
        "colab": {}
      },
      "source": [
        "cancer = load_breast_cancer()"
      ],
      "execution_count": 3,
      "outputs": []
    },
    {
      "cell_type": "code",
      "metadata": {
        "id": "y0-mbxE8vFDM",
        "colab_type": "code",
        "colab": {
          "base_uri": "https://localhost:8080/",
          "height": 51
        },
        "outputId": "5b2f8f3c-8413-4099-84ac-6782c494cb68"
      },
      "source": [
        "X = cancer.data\n",
        "Y = cancer.target\n",
        "\n",
        "print('shape of X:', X.shape)\n",
        "print('shape of Y:', Y.shape)"
      ],
      "execution_count": 4,
      "outputs": [
        {
          "output_type": "stream",
          "text": [
            "shape of X: (569, 30)\n",
            "shape of Y: (569,)\n"
          ],
          "name": "stdout"
        }
      ]
    },
    {
      "cell_type": "code",
      "metadata": {
        "id": "3DPygk6OvWdf",
        "colab_type": "code",
        "colab": {
          "base_uri": "https://localhost:8080/",
          "height": 51
        },
        "outputId": "65224142-78e0-43b0-fc3a-f60d3da898e0"
      },
      "source": [
        "print('num of feature:', X.shape[1])\n",
        "print('num of examples:', X.shape[0])"
      ],
      "execution_count": 5,
      "outputs": [
        {
          "output_type": "stream",
          "text": [
            "num of feature: 30\n",
            "num of examples: 569\n"
          ],
          "name": "stdout"
        }
      ]
    },
    {
      "cell_type": "code",
      "metadata": {
        "id": "1MZJXHOfvhr0",
        "colab_type": "code",
        "colab": {}
      },
      "source": [
        "X_train, X_test, Y_train, Y_test = train_test_split(X, Y, test_size=0.2)"
      ],
      "execution_count": 6,
      "outputs": []
    },
    {
      "cell_type": "code",
      "metadata": {
        "id": "K0_N1fYywBgJ",
        "colab_type": "code",
        "colab": {
          "base_uri": "https://localhost:8080/",
          "height": 85
        },
        "outputId": "9ba04836-07ad-4b1d-ce0f-031fa38d5b5d"
      },
      "source": [
        "print('shape of X_train:', X_train.shape)\n",
        "print('shape of Y_train:', Y_train.shape)\n",
        "print('shape of X_test:', X_test.shape)\n",
        "print('shape of Y_test:', Y_test.shape)"
      ],
      "execution_count": 7,
      "outputs": [
        {
          "output_type": "stream",
          "text": [
            "shape of X_train: (455, 30)\n",
            "shape of Y_train: (455,)\n",
            "shape of X_test: (114, 30)\n",
            "shape of Y_test: (114,)\n"
          ],
          "name": "stdout"
        }
      ]
    },
    {
      "cell_type": "code",
      "metadata": {
        "id": "L8xO4rsPwTVH",
        "colab_type": "code",
        "colab": {}
      },
      "source": [
        "class LogisticUnit:\n",
        "  def __init__(self):\n",
        "    self.w = None\n",
        "    self.b = None\n",
        "    self.cost_change = []\n",
        "\n",
        "  def initialize_para(self, x):\n",
        "    self.w = np.ones((1, x.shape[1]))\n",
        "    self.b = 0\n",
        "    return self.w, self.b\n",
        "\n",
        "  def forward_prop(self, x):\n",
        "    z = np.sum(x * self.w) + self.b # x.shape = (1, nx), w.shape = (1, nx), b.shape = (1, 1) 아니면 float 이라고 쓰는게 맞나?\n",
        "    a = self.sigmoid(z) # z와 a, y 모두 실수\n",
        "    return a\n",
        "\n",
        "  def sigmoid(self, z):\n",
        "    a = 1 / (1 + np.exp(-z))\n",
        "    return a\n",
        "\n",
        "  def back_prop(self, x, y, a):\n",
        "    dw = x * (a - y)\n",
        "    db = 1 * (a - y)\n",
        "    return dw, db\n",
        "\n",
        "  def fit(self, x, y, epoch=100):\n",
        "    self.w, self.b = self.initialize_para(x)\n",
        "    for i in range(epoch):\n",
        "      cost = 0\n",
        "      for x_i, y_i in zip(x, y):        \n",
        "        a = self.forward_prop(x_i)\n",
        "        dw, db = self.back_prop(x_i, y_i, a)\n",
        "        self.w = self.w - dw\n",
        "        self.b = self.b - db\n",
        "        a = np.clip(a, 1e-10, 1-1e-10)\n",
        "        loss = -(y_i * np.log(a) + (1 - y_i) * np.log(1 - a))\n",
        "        cost += loss\n",
        "      cost = cost / x.shape[0]\n",
        "      self.cost_change.append(cost)\n",
        "\n",
        "\n",
        "  def predict(self, x, y):\n",
        "    a = [self.forward_prop(x_i) for x_i in x]\n",
        "    y_hat = [i > 0.5 for i in a]\n",
        "    accuracy = np.mean([y_hat == y])\n",
        "    return accuracy"
      ],
      "execution_count": 8,
      "outputs": []
    },
    {
      "cell_type": "code",
      "metadata": {
        "id": "9NX4LllyWdH9",
        "colab_type": "code",
        "colab": {}
      },
      "source": [
        "unit = LogisticUnit()"
      ],
      "execution_count": 9,
      "outputs": []
    },
    {
      "cell_type": "code",
      "metadata": {
        "id": "xgBhmQzhWk4f",
        "colab_type": "code",
        "colab": {
          "base_uri": "https://localhost:8080/",
          "height": 34
        },
        "outputId": "8976f704-7c6b-4922-b5bb-f9e2dfdf2ccc"
      },
      "source": [
        "unit.fit(X_train, Y_train)"
      ],
      "execution_count": 10,
      "outputs": [
        {
          "output_type": "stream",
          "text": [
            "/usr/local/lib/python3.6/dist-packages/ipykernel_launcher.py:18: RuntimeWarning: overflow encountered in exp\n"
          ],
          "name": "stderr"
        }
      ]
    },
    {
      "cell_type": "code",
      "metadata": {
        "id": "W6Qo8SqFWo54",
        "colab_type": "code",
        "colab": {
          "base_uri": "https://localhost:8080/",
          "height": 51
        },
        "outputId": "78888a59-ad60-475a-c73a-fffd05f0890e"
      },
      "source": [
        "unit.predict(X_test, Y_test)\n",
        "# 실행할 때마다 랜덤으로 바뀌는 부분이 없는데도 accuracy가 매번 다르게 나온다. overflow 때문인가?\n",
        "# 오버플로는 계산 중에 어떤 값이 너무 크게 나오는 문제인 것 같은데 그런부분이 없는거 같은데 요상하다"
      ],
      "execution_count": 11,
      "outputs": [
        {
          "output_type": "stream",
          "text": [
            "/usr/local/lib/python3.6/dist-packages/ipykernel_launcher.py:18: RuntimeWarning: overflow encountered in exp\n"
          ],
          "name": "stderr"
        },
        {
          "output_type": "execute_result",
          "data": {
            "text/plain": [
              "0.9298245614035088"
            ]
          },
          "metadata": {
            "tags": []
          },
          "execution_count": 11
        }
      ]
    },
    {
      "cell_type": "code",
      "metadata": {
        "id": "0HVEKfLM3L9j",
        "colab_type": "code",
        "colab": {
          "base_uri": "https://localhost:8080/",
          "height": 279
        },
        "outputId": "dddc417d-2890-414e-8ab5-157219616949"
      },
      "source": [
        "plt.plot(unit.cost_change)\n",
        "plt.xlabel('iteration')\n",
        "plt.ylabel('cost')\n",
        "plt.show()"
      ],
      "execution_count": 12,
      "outputs": [
        {
          "output_type": "display_data",
          "data": {
            "image/png": "[encoded data removed]",
            "text/plain": [
              "<Figure size 432x288 with 1 Axes>"
            ]
          },
          "metadata": {
            "tags": [],
            "needs_background": "light"
          }
        }
      ]
    },
    {
      "cell_type": "code",
      "metadata": {
        "id": "sjmh9PSX9rve",
        "colab_type": "code",
        "colab": {}
      },
      "source": [
        "from sklearn.linear_model import SGDClassifier"
      ],
      "execution_count": 1,
      "outputs": []
    },
    {
      "cell_type": "code",
      "metadata": {
        "id": "Dctg46YtqsAj",
        "colab_type": "code",
        "colab": {}
      },
      "source": [
        "sgd = SGDClassifier(loss='log', max_iter=200, tol=1e-3, random_state=42)\n",
        "# logistic regression 을 돌릴거니까 loss는 log\n",
        "# 한번의 iteration에 코스트 감소량이 tol에 못미칠 경우 iteration을 중단한다. 즉 max iteration 전에 converge 하면 멈추도록 설정할 수 있다."
      ],
      "execution_count": 13,
      "outputs": []
    },
    {
      "cell_type": "code",
      "metadata": {
        "id": "hDFNYRcorkjr",
        "colab_type": "code",
        "colab": {
          "base_uri": "https://localhost:8080/",
          "height": 119
        },
        "outputId": "52d085b7-ba55-4240-98e9-60fe1c42ec16"
      },
      "source": [
        "sgd.fit(X_train, Y_train)"
      ],
      "execution_count": 14,
      "outputs": [
        {
          "output_type": "execute_result",
          "data": {
            "text/plain": [
              "SGDClassifier(alpha=0.0001, average=False, class_weight=None,\n",
              "              early_stopping=False, epsilon=0.1, eta0=0.0, fit_intercept=True,\n",
              "              l1_ratio=0.15, learning_rate='optimal', loss='log', max_iter=200,\n",
              "              n_iter_no_change=5, n_jobs=None, penalty='l2', power_t=0.5,\n",
              "              random_state=42, shuffle=True, tol=0.001, validation_fraction=0.1,\n",
              "              verbose=0, warm_start=False)"
            ]
          },
          "metadata": {
            "tags": []
          },
          "execution_count": 14
        }
      ]
    },
    {
      "cell_type": "code",
      "metadata": {
        "id": "wgbNxA5Frosg",
        "colab_type": "code",
        "colab": {
          "base_uri": "https://localhost:8080/",
          "height": 34
        },
        "outputId": "f8ae0fee-764e-402d-acec-9f51507bc45f"
      },
      "source": [
        "sgd.score(X_test, Y_test)"
      ],
      "execution_count": 15,
      "outputs": [
        {
          "output_type": "execute_result",
          "data": {
            "text/plain": [
              "0.8245614035087719"
            ]
          },
          "metadata": {
            "tags": []
          },
          "execution_count": 15
        }
      ]
    },
    {
      "cell_type": "code",
      "metadata": {
        "id": "b-IYGCR-ruRe",
        "colab_type": "code",
        "colab": {
          "base_uri": "https://localhost:8080/",
          "height": 34
        },
        "outputId": "f0f6d2b3-c415-43d7-b97e-dca2db8eeb5b"
      },
      "source": [
        "sgd.predict(X_test[:10])\n",
        "# predict 메서드 사용시 2-디멘션 배열만 받아들이는 것에 유의"
      ],
      "execution_count": 16,
      "outputs": [
        {
          "output_type": "execute_result",
          "data": {
            "text/plain": [
              "array([1, 0, 1, 1, 1, 1, 1, 1, 1, 1])"
            ]
          },
          "metadata": {
            "tags": []
          },
          "execution_count": 16
        }
      ]
    },
    {
      "cell_type": "code",
      "metadata": {
        "id": "2VSOFlFSsAhh",
        "colab_type": "code",
        "colab": {}
      },
      "source": [
        ""
      ],
      "execution_count": null,
      "outputs": []
    }
  ]
}