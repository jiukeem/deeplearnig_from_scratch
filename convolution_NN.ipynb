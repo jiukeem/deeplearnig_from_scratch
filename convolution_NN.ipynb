{
  "nbformat": 4,
  "nbformat_minor": 0,
  "metadata": {
    "colab": {
      "name": "convolution NN.ipynb",
      "provenance": [],
      "collapsed_sections": [],
      "authorship_tag": "ABX9TyN6mPckkB9VyCxL/S9Nc4TM",
      "include_colab_link": true
    },
    "kernelspec": {
      "name": "python3",
      "display_name": "Python 3"
    }
  },
  "cells": [
    {
      "cell_type": "markdown",
      "metadata": {
        "id": "view-in-github",
        "colab_type": "text"
      },
      "source": [
        "<a href=\"https://colab.research.google.com/github/jiukeem/deeplearning_from_scratch/blob/master/convolution_NN.ipynb\" target=\"_parent\"><img src=\"https://colab.research.google.com/assets/colab-badge.svg\" alt=\"Open In Colab\"/></a>"
      ]
    },
    {
      "cell_type": "code",
      "metadata": {
        "id": "jNHDQY040X1c",
        "colab_type": "code",
        "colab": {}
      },
      "source": [
        "import numpy as np\n",
        "import matplotlib.pyplot as plt\n",
        "import tensorflow as tf"
      ],
      "execution_count": null,
      "outputs": []
    },
    {
      "cell_type": "code",
      "metadata": {
        "id": "31KQdVea0f34",
        "colab_type": "code",
        "colab": {}
      },
      "source": [
        "from sklearn.model_selection import train_test_split"
      ],
      "execution_count": null,
      "outputs": []
    },
    {
      "cell_type": "code",
      "metadata": {
        "id": "vwot32UZ05GF",
        "colab_type": "code",
        "colab": {}
      },
      "source": [
        "(x_train_all, y_train_all), (x_test, y_test) = tf.keras.datasets.fashion_mnist.load_data()"
      ],
      "execution_count": null,
      "outputs": []
    },
    {
      "cell_type": "code",
      "metadata": {
        "id": "v2rvMAkI1CJ8",
        "colab_type": "code",
        "colab": {
          "base_uri": "https://localhost:8080/",
          "height": 34
        },
        "outputId": "1ce9c21c-ca8c-4433-edb8-afb543e8eff1"
      },
      "source": [
        "x_train_all.shape, y_train_all.shape"
      ],
      "execution_count": null,
      "outputs": [
        {
          "output_type": "execute_result",
          "data": {
            "text/plain": [
              "((60000, 28, 28), (60000,))"
            ]
          },
          "metadata": {
            "tags": []
          },
          "execution_count": 4
        }
      ]
    },
    {
      "cell_type": "code",
      "metadata": {
        "id": "E4giuduj1G44",
        "colab_type": "code",
        "colab": {
          "base_uri": "https://localhost:8080/",
          "height": 282
        },
        "outputId": "769a7cd5-789d-4db5-8a30-3d87b80c5d1f"
      },
      "source": [
        "plt.imshow(x_train_all[3045], cmap='gray')"
      ],
      "execution_count": null,
      "outputs": [
        {
          "output_type": "execute_result",
          "data": {
            "text/plain": [
              "<matplotlib.image.AxesImage at 0x7fa8dbbb4358>"
            ]
          },
          "metadata": {
            "tags": []
          },
          "execution_count": 12
        },
        {
          "output_type": "display_data",
          "data": {
            "image/png": "[encoded data removed]",
            "text/plain": [
              "<Figure size 432x288 with 1 Axes>"
            ]
          },
          "metadata": {
            "tags": [],
            "needs_background": "light"
          }
        }
      ]
    },
    {
      "cell_type": "code",
      "metadata": {
        "id": "Y5riZyOq1Na1",
        "colab_type": "code",
        "colab": {}
      },
      "source": [
        "x_train, x_val, y_train, y_val = train_test_split(x_train_all, y_train_all, stratify=y_train_all, test_size=0.2, random_state=42)"
      ],
      "execution_count": null,
      "outputs": []
    },
    {
      "cell_type": "code",
      "metadata": {
        "id": "Lv_ZX5fp1a7X",
        "colab_type": "code",
        "colab": {}
      },
      "source": [
        "x_train = x_train / 255\n",
        "x_val = x_val / 255"
      ],
      "execution_count": null,
      "outputs": []
    },
    {
      "cell_type": "code",
      "metadata": {
        "id": "XSetDoNm1iHW",
        "colab_type": "code",
        "colab": {}
      },
      "source": [
        "class ConvolutionNetwork:\n",
        "  def __init__(self):\n",
        "    self.conv_w = None\n",
        "    self.W1 = None\n",
        "    self.b1 = None\n",
        "    self.W2 = None\n",
        "    self.b2 = None\n",
        "\n",
        "  def forward_prop(self, X):\n",
        "    c_out = tf.nn.conv2d(X, self.conv_w, strides=1, padding='SAME')\n",
        "    r_out = tf.nn.relu(c_out)\n",
        "    p_out = tf.nn.max_pool2d(r_out, ksize=2, strides=2, padding='VALID')\n",
        "    f_out = tf.reshape(p_out, [X.shape[0]], -1)\n",
        "    Z1 = tf.matmul(f_out, self.W1) + self.b1 \n",
        "    # 위의 연산들은 tensor 형태로 결과를 return함\n",
        "    # 미분까지 계속 텐서 형태로 연산하기 위해 numpy()로 바꾸지 않고  np.dot대신 tf.matmul을 사용하는듯?\n",
        "    # f_out을 2d로 바꿨으니 np.dot이 3d 이상을 못다뤄서 그러는 건 아닌 것 같다.\n",
        "    A1 = self.sigmoid(Z1)\n",
        "    Z2 = tf.matmul(A1, self.W2) + self.b2\n",
        "    return Z2\n",
        "    # 텐서플로 로스계산은 softmax와 cross entropy가 합쳐져 있다. 그래서 A2는 계산하지 않음\n",
        "    # Z가 전체적으로 증감하는 것이 A2에 영향을 주지 않기 때문(A2는 z들 간의 비율이니까)\n",
        "\n",
        "  def training(self, X, Y):\n",
        "    with tf.GradientTape() as tape:\n",
        "      # tape 객체는 with 로 감싸진 연산을 기록하고 텐서플로 변수를 추적한다.\n",
        "      Z2 = self.forward_prop(X)\n",
        "      loss = tf.nn.softmax_cross_entropy_with_logits(Y, Z2)\n",
        "      loss = tf.reduce_mean(loss)\n",
        "      # tf.reduce_mean 은 평균을 계산한다. 각 샘플 별로 로스가 뜨기 때문에 평균낸거임\n",
        "    weights_list = [self.conv_w, self.conv_b, self.W1, self.b1, self.W2, self.b2]\n",
        "    grads = tape.gradient(loss, weights_list)\n",
        "    self.optimizer.apply_gradients(zip(grads, weights_list))\n",
        "\n",
        "\n"
      ],
      "execution_count": null,
      "outputs": []
    }
  ]
}