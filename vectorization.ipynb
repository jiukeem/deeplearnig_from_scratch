{
  "nbformat": 4,
  "nbformat_minor": 0,
  "metadata": {
    "colab": {
      "name": "vectorization.ipynb",
      "provenance": [],
      "collapsed_sections": [],
      "authorship_tag": "ABX9TyOksxTIiKn1GFlv/6EJiNY/",
      "include_colab_link": true
    },
    "kernelspec": {
      "name": "python3",
      "display_name": "Python 3"
    }
  },
  "cells": [
    {
      "cell_type": "markdown",
      "metadata": {
        "id": "view-in-github",
        "colab_type": "text"
      },
      "source": [
        "<a href=\"https://colab.research.google.com/github/jiukeem/deeplearning_from_scratch/blob/master/vectorization.ipynb\" target=\"_parent\"><img src=\"https://colab.research.google.com/assets/colab-badge.svg\" alt=\"Open In Colab\"/></a>"
      ]
    },
    {
      "cell_type": "code",
      "metadata": {
        "id": "niMpef_JhMdx",
        "colab_type": "code",
        "colab": {}
      },
      "source": [
        "import numpy as np\n",
        "import matplotlib.pyplot as plt"
      ],
      "execution_count": 1,
      "outputs": []
    },
    {
      "cell_type": "code",
      "metadata": {
        "id": "j7oLceLChgZD",
        "colab_type": "code",
        "colab": {}
      },
      "source": [
        "from sklearn.datasets import load_breast_cancer\n",
        "from sklearn.model_selection import train_test_split"
      ],
      "execution_count": 2,
      "outputs": []
    },
    {
      "cell_type": "code",
      "metadata": {
        "id": "DABNqfbphqW9",
        "colab_type": "code",
        "colab": {}
      },
      "source": [
        "cancer = load_breast_cancer()\n",
        "x = cancer.data\n",
        "y = cancer.target"
      ],
      "execution_count": 3,
      "outputs": []
    },
    {
      "cell_type": "code",
      "metadata": {
        "id": "dxdol3Hhhxhm",
        "colab_type": "code",
        "colab": {}
      },
      "source": [
        "x_train_all, x_test, y_train_all, y_test = train_test_split(x, y, test_size=0.2, random_state=42, stratify=y)\n",
        "x_train, x_val, y_train, y_val = train_test_split(x_train_all, y_train_all, test_size=0.2, random_state=42, stratify=y_train_all)"
      ],
      "execution_count": 4,
      "outputs": []
    },
    {
      "cell_type": "code",
      "metadata": {
        "id": "nka-TNyOiMQo",
        "colab_type": "code",
        "colab": {
          "base_uri": "https://localhost:8080/",
          "height": 85
        },
        "outputId": "854cefbf-b8dc-4dc8-c01e-bc7b0dc962c9"
      },
      "source": [
        "print('shape of x_train: {}'.format(x_train.shape))\n",
        "print('shape of y_train: {}'.format(y_train.shape))\n",
        "print('shape of x_val: {}'.format(x_val.shape))\n",
        "print('shape of x_test: {}'.format(x_test.shape))"
      ],
      "execution_count": 5,
      "outputs": [
        {
          "output_type": "stream",
          "text": [
            "shape of x_train: (364, 30)\n",
            "shape of y_train: (364,)\n",
            "shape of x_val: (91, 30)\n",
            "shape of x_test: (114, 30)\n"
          ],
          "name": "stdout"
        }
      ]
    },
    {
      "cell_type": "code",
      "metadata": {
        "id": "pCLIVDBfiY12",
        "colab_type": "code",
        "colab": {}
      },
      "source": [
        "class SingleLayer:\n",
        "  def __init__(self, learning_rate=0.1, l2=0):\n",
        "    self.w = None # hidden layer의 노드가 한개인 셈이므로 벡터라이제이션해도 w는 아직 (1, nx)\n",
        "    self.b = None\n",
        "    self.lr = learning_rate\n",
        "    self.w_history = []\n",
        "    self.l2_lambda = l2\n",
        "    self.cost_history = []\n",
        "    self.val_cost_history = []\n",
        "\n",
        "  def initialization(self, X):\n",
        "    self.w = np.ones(X.shape[1]) # 여기는 np.ones(x.shape[1]) 가 아니다! 즉 두개는 서로 다른 shape의 ndarray다\n",
        "    # 나는 왜 ((1, X.shape[1])) 로 하니까 에러가 나지? 브로드캐스트가 안된다는데 왜 안되는건디\n",
        "    self.b = 0\n",
        "    return self.w, self.b\n",
        "\n",
        "  def forward_prop(self, X):\n",
        "    Z = np.dot(X, self.w.T) + self.b\n",
        "    A = self.sigmoid(Z)\n",
        "    return A\n",
        "  \n",
        "  def sigmoid(self, Z):\n",
        "    A = 1 / (1 + np.exp(-Z))\n",
        "    return A\n",
        "\n",
        "  def backward_prop(self, X, Y, A):\n",
        "    dw = np.dot((A - Y).T, X) / X.shape[0] + self.l2_lambda * self.w\n",
        "    db = np.sum(A - Y) / X.shape[0]\n",
        "    return dw, db\n",
        "\n",
        "  def calcul_cost(self, Y, A):\n",
        "    A = np.clip(A, 1e-10, 1-1e-10)\n",
        "    L = -(Y * np.log(A) + (1 - Y) * np.log(1 - A)) + self.l2_lambda * np.sum(self.w **2) / 2\n",
        "    cost = np.sum(L) / Y.shape[0]\n",
        "    return cost\n",
        "\n",
        "  def fit(self, X, Y, epoches=100, X_val=None, Y_val=None):\n",
        "    self.w, self.b = self.initialization(X)\n",
        "    for i in range(epoches):\n",
        "      A = self.forward_prop(X)\n",
        "      dw, db = self.backward_prop(X, Y, A)\n",
        "      self.w -= self.lr * dw\n",
        "      self.b -= self.lr * db\n",
        "      self.w_history.append(self.w.copy())\n",
        "      cost = self.calcul_cost(Y, A)\n",
        "      self.cost_history.append(cost)\n",
        "      self.update_val(X_val, Y_val)\n",
        "      if i%1000 == 0:\n",
        "        print('processing.... epoches: {}'.format(i))\n",
        "\n",
        "  def update_val(self, X_val, Y_val):\n",
        "    A = self.forward_prop(X_val)\n",
        "    cost = self.calcul_cost(Y_val, A)\n",
        "    self.val_cost_history.append(cost)\n",
        "\n",
        "  def predict(self, X, Y):\n",
        "    A = self.forward_prop(X)\n",
        "    return A > 0.5\n",
        "\n",
        "  def score(self, X, Y):\n",
        "    Y_hat = self.predict(X, Y)\n",
        "    score = np.mean(Y_hat == Y)\n",
        "    return score"
      ],
      "execution_count": 26,
      "outputs": []
    },
    {
      "cell_type": "code",
      "metadata": {
        "id": "Faad-HhOvOgd",
        "colab_type": "code",
        "colab": {}
      },
      "source": [
        "from sklearn.preprocessing import StandardScaler\n",
        "# StandarScaler 는 평균0, 표준편차1이 되도록 normalization 해준다.\n",
        "scaler = StandardScaler()\n",
        "scaler.fit(x_train)\n",
        "x_train_scaled = scaler.transform(x_train)\n",
        "x_val_scaled = scaler.transform(x_val)"
      ],
      "execution_count": 27,
      "outputs": []
    },
    {
      "cell_type": "code",
      "metadata": {
        "id": "ta98xaZpvv6X",
        "colab_type": "code",
        "colab": {
          "base_uri": "https://localhost:8080/",
          "height": 204
        },
        "outputId": "f78da9af-5e2c-4252-a99c-0d68b0b1ff43"
      },
      "source": [
        "layer = SingleLayer(l2=0.001)\n",
        "layer.fit(x_train_scaled, y_train, X_val=x_val_scaled, Y_val=y_val, epoches=10000)\n",
        "layer.score(x_val_scaled, y_val)"
      ],
      "execution_count": 28,
      "outputs": [
        {
          "output_type": "stream",
          "text": [
            "processing.... epoches: 0\n",
            "processing.... epoches: 1000\n",
            "processing.... epoches: 2000\n",
            "processing.... epoches: 3000\n",
            "processing.... epoches: 4000\n",
            "processing.... epoches: 5000\n",
            "processing.... epoches: 6000\n",
            "processing.... epoches: 7000\n",
            "processing.... epoches: 8000\n",
            "processing.... epoches: 9000\n"
          ],
          "name": "stdout"
        },
        {
          "output_type": "execute_result",
          "data": {
            "text/plain": [
              "0.978021978021978"
            ]
          },
          "metadata": {
            "tags": []
          },
          "execution_count": 28
        }
      ]
    },
    {
      "cell_type": "code",
      "metadata": {
        "id": "Odinco1uwV3o",
        "colab_type": "code",
        "colab": {
          "base_uri": "https://localhost:8080/",
          "height": 269
        },
        "outputId": "0bd8af16-b9ea-4190-fe9b-2af15b1e5293"
      },
      "source": [
        "plt.ylim(0, 0.3)\n",
        "plt.plot(layer.cost_history)\n",
        "plt.plot(layer.val_cost_history)\n",
        "plt.legend(['train cost', 'val cost'])\n",
        "plt.show()"
      ],
      "execution_count": 34,
      "outputs": [
        {
          "output_type": "display_data",
          "data": {
            "image/png": "[encoded data removed]",
            "text/plain": [
              "<Figure size 432x288 with 1 Axes>"
            ]
          },
          "metadata": {
            "tags": [],
            "needs_background": "light"
          }
        }
      ]
    },
    {
      "cell_type": "code",
      "metadata": {
        "id": "UgwUcFcD8g3z",
        "colab_type": "code",
        "colab": {
          "base_uri": "https://localhost:8080/",
          "height": 34
        },
        "outputId": "1f1c4749-9be3-49a2-f74a-1a8be8b8dbc8"
      },
      "source": [
        "x_test_scaled = scaler.transform(x_test)\n",
        "layer.score(x_test_scaled, y_test)"
      ],
      "execution_count": 33,
      "outputs": [
        {
          "output_type": "execute_result",
          "data": {
            "text/plain": [
              "0.9649122807017544"
            ]
          },
          "metadata": {
            "tags": []
          },
          "execution_count": 33
        }
      ]
    },
    {
      "cell_type": "code",
      "metadata": {
        "id": "_QbSo7UW9f1e",
        "colab_type": "code",
        "colab": {
          "base_uri": "https://localhost:8080/",
          "height": 282
        },
        "outputId": "8fb2edb8-651e-40a7-ece1-ecd3a68878ca"
      },
      "source": [
        "w2 = []\n",
        "w3 = []\n",
        "for w in layer.w_history:\n",
        "  w2.append(w[2])\n",
        "  w3.append(w[3])\n",
        "plt.plot(w2, w3)\n",
        "plt.xlabel('w2')\n",
        "plt.ylabel('w3')\n",
        "plt.show()"
      ],
      "execution_count": 35,
      "outputs": [
        {
          "output_type": "display_data",
          "data": {
            "image/png": "[encoded data removed]",
            "text/plain": [
              "<Figure size 432x288 with 1 Axes>"
            ]
          },
          "metadata": {
            "tags": [],
            "needs_background": "light"
          }
        }
      ]
    },
    {
      "cell_type": "code",
      "metadata": {
        "id": "tc5upwr9-PAX",
        "colab_type": "code",
        "colab": {}
      },
      "source": [
        ""
      ],
      "execution_count": null,
      "outputs": []
    }
  ]
}