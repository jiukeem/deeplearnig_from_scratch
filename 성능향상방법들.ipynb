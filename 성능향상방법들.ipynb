{
  "nbformat": 4,
  "nbformat_minor": 0,
  "metadata": {
    "colab": {
      "name": "성능향상방법들.ipynb",
      "provenance": [],
      "collapsed_sections": [],
      "authorship_tag": "ABX9TyM4a3zihmiRcYizKsIAH/r0",
      "include_colab_link": true
    },
    "kernelspec": {
      "name": "python3",
      "display_name": "Python 3"
    }
  },
  "cells": [
    {
      "cell_type": "markdown",
      "metadata": {
        "id": "view-in-github",
        "colab_type": "text"
      },
      "source": [
        "<a href=\"https://colab.research.google.com/github/jiukeem/deeplearning_from_scratch/blob/master/%EC%84%B1%EB%8A%A5%ED%96%A5%EC%83%81%EB%B0%A9%EB%B2%95%EB%93%A4.ipynb\" target=\"_parent\"><img src=\"https://colab.research.google.com/assets/colab-badge.svg\" alt=\"Open In Colab\"/></a>"
      ]
    },
    {
      "cell_type": "code",
      "metadata": {
        "id": "h4CCgbIgsNMd",
        "colab_type": "code",
        "colab": {}
      },
      "source": [
        "from sklearn.datasets import load_breast_cancer\n",
        "from sklearn.model_selection import train_test_split\n",
        "from sklearn.linear_model import SGDClassifier\n",
        "import numpy as np"
      ],
      "execution_count": 1,
      "outputs": []
    },
    {
      "cell_type": "code",
      "metadata": {
        "id": "fdIpaM8csSMa",
        "colab_type": "code",
        "colab": {}
      },
      "source": [
        "cancer = load_breast_cancer()\n",
        "x = cancer.data\n",
        "y = cancer.target"
      ],
      "execution_count": 2,
      "outputs": []
    },
    {
      "cell_type": "code",
      "metadata": {
        "id": "pXsABrqfslGE",
        "colab_type": "code",
        "colab": {}
      },
      "source": [
        "x_train, x_test, y_train, y_test = train_test_split(x, y, test_size=0.2, stratify=y, random_state=42)"
      ],
      "execution_count": 3,
      "outputs": []
    },
    {
      "cell_type": "code",
      "metadata": {
        "id": "Nzetc_5as0lz",
        "colab_type": "code",
        "colab": {}
      },
      "source": [
        "sgd = SGDClassifier(loss='log', max_iter=200, tol=1e-3, random_state=42)"
      ],
      "execution_count": 4,
      "outputs": []
    },
    {
      "cell_type": "code",
      "metadata": {
        "id": "sN-TcRh8tHA8",
        "colab_type": "code",
        "colab": {
          "base_uri": "https://localhost:8080/",
          "height": 34
        },
        "outputId": "6ff8b00c-1b56-4ad4-c07c-acaa69a0e3aa"
      },
      "source": [
        "sgd.fit(x_train, y_train)\n",
        "sgd.score(x_test, y_test)\n",
        "# 83프로에서 향상시키고 싶다면? 첫번째로 loss 파라미터를 바꿔보자"
      ],
      "execution_count": 5,
      "outputs": [
        {
          "output_type": "execute_result",
          "data": {
            "text/plain": [
              "0.8333333333333334"
            ]
          },
          "metadata": {
            "tags": []
          },
          "execution_count": 5
        }
      ]
    },
    {
      "cell_type": "code",
      "metadata": {
        "id": "fnNM4fEvtNL-",
        "colab_type": "code",
        "colab": {}
      },
      "source": [
        "sgd2 = SGDClassifier(loss='hinge', max_iter=200, tol=1e-3, random_state=42)"
      ],
      "execution_count": 6,
      "outputs": []
    },
    {
      "cell_type": "code",
      "metadata": {
        "id": "PCDMU2i3zuS0",
        "colab_type": "code",
        "colab": {
          "base_uri": "https://localhost:8080/",
          "height": 34
        },
        "outputId": "aa1251a6-a191-425a-d39c-4cfa1dcb9242"
      },
      "source": [
        "sgd2.fit(x_train, y_train)\n",
        "sgd2.score(x_test, y_test)\n",
        "# 퍼포먼스를 더 늘리고 싶으면? 이제 하이퍼파라미터를 조정해보자"
      ],
      "execution_count": 7,
      "outputs": [
        {
          "output_type": "execute_result",
          "data": {
            "text/plain": [
              "0.9385964912280702"
            ]
          },
          "metadata": {
            "tags": []
          },
          "execution_count": 7
        }
      ]
    },
    {
      "cell_type": "code",
      "metadata": {
        "id": "6ixwIjCXzz2E",
        "colab_type": "code",
        "colab": {}
      },
      "source": [
        "# 기존의 Logistic Unit에서 learning rate 추가\n",
        "class LogisticUnit:\n",
        "  def __init__(self, learning_rate = 0.1):\n",
        "    self.w = None\n",
        "    self.b = None\n",
        "    self.cost_change = []\n",
        "    self.w_history = []\n",
        "    self.lr = learning_rate\n",
        "\n",
        "  def initialize_para(self, x):\n",
        "    self.w = np.ones(x.shape[1])\n",
        "    self.b = 0\n",
        "    return self.w, self.b\n",
        "\n",
        "  def forward_prop(self, x):\n",
        "    z = np.sum(x * self.w) + self.b # x.shape = (1, nx), w.shape = (1, nx), b.shape = (1, 1) 아니면 float 이라고 쓰는게 맞나?\n",
        "    a = self.sigmoid(z) # z와 a, y 모두 실수\n",
        "    return a\n",
        "\n",
        "  def sigmoid(self, z):\n",
        "    a = 1 / (1 + np.exp(-z))\n",
        "    return a\n",
        "\n",
        "  def back_prop(self, x, y, a):\n",
        "    dw = x * (a - y)\n",
        "    db = 1 * (a - y)\n",
        "    return dw, db\n",
        "\n",
        "  def fit(self, x, y, epoch=100):\n",
        "    self.w, self.b = self.initialize_para(x)\n",
        "    for i in range(epoch):\n",
        "      cost = 0\n",
        "      for x_i, y_i in zip(x, y):        \n",
        "        a = self.forward_prop(x_i)\n",
        "        dw, db = self.back_prop(x_i, y_i, a)\n",
        "        self.w = self.w - self.lr * dw\n",
        "        self.b = self.b - self.lr * db\n",
        "        a = np.clip(a, 1e-10, 1-1e-10)\n",
        "        loss = -(y_i * np.log(a) + (1 - y_i) * np.log(1 - a))\n",
        "        cost += loss\n",
        "        self.w_history.append(self.w.copy()) # 넘파이 배열을 리스트에 추가하면 실제 값이 복사되는게 아니라 배열을 참조하기 때문에 복사해서 추가\n",
        "      cost = cost / x.shape[0]\n",
        "      self.cost_change.append(cost)\n",
        "\n",
        "\n",
        "  def predict(self, x, y):\n",
        "    a = [self.forward_prop(x_i) for x_i in x]\n",
        "    y_hat = [i > 0.5 for i in a]\n",
        "    accuracy = np.mean([y_hat == y])\n",
        "    return accuracy"
      ],
      "execution_count": 8,
      "outputs": []
    },
    {
      "cell_type": "code",
      "metadata": {
        "id": "v9UgRrLX1e7K",
        "colab_type": "code",
        "colab": {}
      },
      "source": [
        "unit = LogisticUnit()"
      ],
      "execution_count": 9,
      "outputs": []
    },
    {
      "cell_type": "code",
      "metadata": {
        "id": "J04OWJae1ju5",
        "colab_type": "code",
        "colab": {
          "base_uri": "https://localhost:8080/",
          "height": 34
        },
        "outputId": "f9b54895-c607-4832-cfd8-ba314df57753"
      },
      "source": [
        "unit.fit(x_train, y_train)"
      ],
      "execution_count": 10,
      "outputs": [
        {
          "output_type": "stream",
          "text": [
            "/usr/local/lib/python3.6/dist-packages/ipykernel_launcher.py:21: RuntimeWarning: overflow encountered in exp\n"
          ],
          "name": "stderr"
        }
      ]
    },
    {
      "cell_type": "code",
      "metadata": {
        "id": "dTfHnKng1mSQ",
        "colab_type": "code",
        "colab": {
          "base_uri": "https://localhost:8080/",
          "height": 51
        },
        "outputId": "ab512bc4-a5d0-4665-dd82-d46abe59d983"
      },
      "source": [
        "unit.predict(x_test, y_test)"
      ],
      "execution_count": 11,
      "outputs": [
        {
          "output_type": "stream",
          "text": [
            "/usr/local/lib/python3.6/dist-packages/ipykernel_launcher.py:21: RuntimeWarning: overflow encountered in exp\n"
          ],
          "name": "stderr"
        },
        {
          "output_type": "execute_result",
          "data": {
            "text/plain": [
              "0.8157894736842105"
            ]
          },
          "metadata": {
            "tags": []
          },
          "execution_count": 11
        }
      ]
    },
    {
      "cell_type": "code",
      "metadata": {
        "id": "mbzH68Rh14ec",
        "colab_type": "code",
        "colab": {}
      },
      "source": [
        "w2 = [w[2] for w in unit.w_history]\n",
        "w3 = [w[3] for w in unit.w_history]"
      ],
      "execution_count": 12,
      "outputs": []
    },
    {
      "cell_type": "code",
      "metadata": {
        "id": "s5kA5idK2FKC",
        "colab_type": "code",
        "colab": {
          "base_uri": "https://localhost:8080/",
          "height": 279
        },
        "outputId": "7d23ccb2-fd20-428c-a3ab-a155b6e3466d"
      },
      "source": [
        "import matplotlib.pyplot as plt\n",
        "\n",
        "plt.plot(w2, w3)\n",
        "plt.xlabel('w[2]')\n",
        "plt.ylabel('w[3]')\n",
        "plt.show()\n",
        "# converge 하면서 w3이 너무 많이 왔다갔다하는게 눈에 보인다 (w3의 벨류 범위가 굉장)\n",
        "# input normalization 을 해줍시다"
      ],
      "execution_count": 13,
      "outputs": [
        {
          "output_type": "display_data",
          "data": {
            "image/png": "[encoded data removed]",
            "text/plain": [
              "<Figure size 432x288 with 1 Axes>"
            ]
          },
          "metadata": {
            "tags": [],
            "needs_background": "light"
          }
        }
      ]
    },
    {
      "cell_type": "code",
      "metadata": {
        "id": "_3tP1JKR3Nfi",
        "colab_type": "code",
        "colab": {
          "base_uri": "https://localhost:8080/",
          "height": 35
        },
        "outputId": "71267e5c-9440-4b99-8399-20314ca55c99"
      },
      "source": [
        "cancer.feature_names[2]"
      ],
      "execution_count": 14,
      "outputs": [
        {
          "output_type": "execute_result",
          "data": {
            "application/vnd.google.colaboratory.intrinsic": {
              "type": "string"
            },
            "text/plain": [
              "'mean perimeter'"
            ]
          },
          "metadata": {
            "tags": []
          },
          "execution_count": 14
        }
      ]
    },
    {
      "cell_type": "code",
      "metadata": {
        "id": "lZ5nQtVX4IUa",
        "colab_type": "code",
        "colab": {}
      },
      "source": [
        "x_mean = np.mean(x, axis=0) # 열끼리 더하고 싶으니까 axis=0\n",
        "x_std = np.std(x, axis=0)"
      ],
      "execution_count": 15,
      "outputs": []
    },
    {
      "cell_type": "code",
      "metadata": {
        "id": "VqsZAgKq5ojv",
        "colab_type": "code",
        "colab": {}
      },
      "source": [
        "x_scaled = (x - x_mean) / x_std"
      ],
      "execution_count": 16,
      "outputs": []
    },
    {
      "cell_type": "code",
      "metadata": {
        "id": "OcHFp2LE5-8R",
        "colab_type": "code",
        "colab": {}
      },
      "source": [
        "x_train, x_test, y_train, y_test = train_test_split(x_scaled, y, test_size=0.2)"
      ],
      "execution_count": 17,
      "outputs": []
    },
    {
      "cell_type": "code",
      "metadata": {
        "id": "PZJxWXof6M2h",
        "colab_type": "code",
        "colab": {}
      },
      "source": [
        "unit.fit(x_train, y_train)"
      ],
      "execution_count": 18,
      "outputs": []
    },
    {
      "cell_type": "code",
      "metadata": {
        "id": "uB_K602c6VXy",
        "colab_type": "code",
        "colab": {
          "base_uri": "https://localhost:8080/",
          "height": 34
        },
        "outputId": "befc9c9a-f2ff-4592-e5ac-dd93594fb7f8"
      },
      "source": [
        "unit.predict(x_test, y_test)\n",
        "# 와우 성능이 어마무시하게 좋아졌네요"
      ],
      "execution_count": 19,
      "outputs": [
        {
          "output_type": "execute_result",
          "data": {
            "text/plain": [
              "0.9824561403508771"
            ]
          },
          "metadata": {
            "tags": []
          },
          "execution_count": 19
        }
      ]
    },
    {
      "cell_type": "code",
      "metadata": {
        "id": "7T4DU5Fz6YQX",
        "colab_type": "code",
        "colab": {}
      },
      "source": [
        "# 러닝커브를 그려보자\n",
        "class LogisticUnit2:\n",
        "  def __init__(self, learning_rate = 0.1):\n",
        "    self.w = None\n",
        "    self.b = None\n",
        "    self.cost_change = []\n",
        "    self.w_history = []\n",
        "    self.lr = learning_rate\n",
        "    self.val_cost_change = []\n",
        "\n",
        "  def initialize_para(self, x):\n",
        "    self.w = np.ones(x.shape[1])\n",
        "    self.b = 0\n",
        "    return self.w, self.b\n",
        "\n",
        "  def forward_prop(self, x):\n",
        "    z = np.sum(x * self.w) + self.b # x.shape = (1, nx), w.shape = (1, nx), b.shape = (1, 1) 아니면 float 이라고 쓰는게 맞나?\n",
        "    a = self.sigmoid(z) # z와 a, y 모두 실수\n",
        "    return a\n",
        "\n",
        "  def sigmoid(self, z):\n",
        "    a = 1 / (1 + np.exp(-z))\n",
        "    return a\n",
        "\n",
        "  def back_prop(self, x, y, a):\n",
        "    dw = x * (a - y)\n",
        "    db = 1 * (a - y)\n",
        "    return dw, db\n",
        "\n",
        "  def fit(self, x, y, epoch=100, x_val=None, y_val=None):\n",
        "    self.w, self.b = self.initialize_para(x)\n",
        "    for i in range(epoch):\n",
        "      cost = 0\n",
        "      for x_i, y_i in zip(x, y):        \n",
        "        a = self.forward_prop(x_i)\n",
        "        dw, db = self.back_prop(x_i, y_i, a)\n",
        "        self.w = self.w - self.lr * dw\n",
        "        self.b = self.b - self.lr * db\n",
        "        a = np.clip(a, 1e-10, 1-1e-10)\n",
        "        loss = -(y_i * np.log(a) + (1 - y_i) * np.log(1 - a))\n",
        "        cost += loss\n",
        "        self.w_history.append(self.w.copy()) # 넘파이 배열을 리스트에 추가하면 실제 값이 복사되는게 아니라 배열을 참조하기 때문에 복사해서 추가\n",
        "      cost = cost / x.shape[0]\n",
        "      self.cost_change.append(cost)\n",
        "      self.update_val(x_val, y_val)\n",
        "\n",
        "  def update_val(self, x_val, y_val):\n",
        "    if x_val is None:\n",
        "      return\n",
        "    val_cost = 0\n",
        "    for x_i, y_i in zip(x_val, y_val):\n",
        "      a = self.forward_prop(x_i)\n",
        "      a = np.clip(a, 1e-10, 1-1e-10)\n",
        "      loss = -(y_i * np.log(a) + (1 - y_i) * np.log(1 - a))\n",
        "      val_cost += loss\n",
        "    val_cost /= x_val.shape[0]\n",
        "    self.val_cost_change.append(val_cost)\n",
        "\n",
        "  def predict(self, x, y):\n",
        "    a = [self.forward_prop(x_i) for x_i in x]\n",
        "    y_hat = [i > 0.5 for i in a]\n",
        "    accuracy = np.mean([y_hat == y])\n",
        "    return accuracy"
      ],
      "execution_count": 38,
      "outputs": []
    },
    {
      "cell_type": "code",
      "metadata": {
        "id": "vMCXTv4rOQmp",
        "colab_type": "code",
        "colab": {}
      },
      "source": [
        "unit2 = LogisticUnit2()"
      ],
      "execution_count": 32,
      "outputs": []
    },
    {
      "cell_type": "code",
      "metadata": {
        "id": "aRFqITHDOWMd",
        "colab_type": "code",
        "colab": {}
      },
      "source": [
        "unit2.fit(x_train, y_train, x_val = x_test, y_val = y_test)"
      ],
      "execution_count": 33,
      "outputs": []
    },
    {
      "cell_type": "code",
      "metadata": {
        "id": "udW4ENmUOdod",
        "colab_type": "code",
        "colab": {
          "base_uri": "https://localhost:8080/",
          "height": 279
        },
        "outputId": "6cbd72e7-321c-4f69-dfff-d85b1af78fad"
      },
      "source": [
        "plt.plot(unit2.cost_change)\n",
        "plt.plot(unit2.val_cost_change)\n",
        "plt.xlabel('epoch')\n",
        "plt.ylabel('cost')\n",
        "plt.show()\n",
        "# 10에포크 이후로는 오버피팅된다고 보면 되는건가?"
      ],
      "execution_count": 35,
      "outputs": [
        {
          "output_type": "display_data",
          "data": {
            "image/png": "[encoded data removed]",
            "text/plain": [
              "<Figure size 432x288 with 1 Axes>"
            ]
          },
          "metadata": {
            "tags": [],
            "needs_background": "light"
          }
        }
      ]
    },
    {
      "cell_type": "code",
      "metadata": {
        "id": "M_dK9ZdRO9Ml",
        "colab_type": "code",
        "colab": {
          "base_uri": "https://localhost:8080/",
          "height": 187
        },
        "outputId": "688e3ab0-887a-4b57-e394-8dd1f3a7b6cb"
      },
      "source": [
        "unit2.val_cost_change[:10]"
      ],
      "execution_count": 36,
      "outputs": [
        {
          "output_type": "execute_result",
          "data": {
            "text/plain": [
              "[0.09252584277225315,\n",
              " 0.09247829408071478,\n",
              " 0.0908992423710259,\n",
              " 0.09064110317892186,\n",
              " 0.09040794815067298,\n",
              " 0.09038434422061147,\n",
              " 0.09071608379844065,\n",
              " 0.09107186378823803,\n",
              " 0.09173241724728246,\n",
              " 0.09252316890629833]"
            ]
          },
          "metadata": {
            "tags": []
          },
          "execution_count": 36
        }
      ]
    },
    {
      "cell_type": "code",
      "metadata": {
        "id": "WmY7R0POPEsy",
        "colab_type": "code",
        "colab": {}
      },
      "source": [
        "unit3 = LogisticUnit2()\n",
        "unit3.fit(x_train, y_train, epoch=10)"
      ],
      "execution_count": 43,
      "outputs": []
    },
    {
      "cell_type": "code",
      "metadata": {
        "id": "b1f9x7BKSVni",
        "colab_type": "code",
        "colab": {
          "base_uri": "https://localhost:8080/",
          "height": 34
        },
        "outputId": "a962b11e-9e38-47c8-d26c-a094be31abaf"
      },
      "source": [
        "unit3.predict(x_test, y_test) # 오 진짜 향상됐잖아???! 짱이다"
      ],
      "execution_count": 44,
      "outputs": [
        {
          "output_type": "execute_result",
          "data": {
            "text/plain": [
              "0.9912280701754386"
            ]
          },
          "metadata": {
            "tags": []
          },
          "execution_count": 44
        }
      ]
    },
    {
      "cell_type": "code",
      "metadata": {
        "id": "BxiU7njwSgP9",
        "colab_type": "code",
        "colab": {}
      },
      "source": [
        ""
      ],
      "execution_count": null,
      "outputs": []
    }
  ]
}