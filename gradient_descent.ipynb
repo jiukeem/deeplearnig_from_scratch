{
  "nbformat": 4,
  "nbformat_minor": 0,
  "metadata": {
    "colab": {
      "name": "gradient descent.ipynb",
      "provenance": [],
      "collapsed_sections": [],
      "authorship_tag": "ABX9TyPE8aIKDpoc4hy7CaHqkhMD",
      "include_colab_link": true
    },
    "kernelspec": {
      "name": "python3",
      "display_name": "Python 3"
    }
  },
  "cells": [
    {
      "cell_type": "markdown",
      "metadata": {
        "id": "view-in-github",
        "colab_type": "text"
      },
      "source": [
        "<a href=\"https://colab.research.google.com/github/jiukeem/deeplearning_from_scratch/blob/master/gradient_descent.ipynb\" target=\"_parent\"><img src=\"https://colab.research.google.com/assets/colab-badge.svg\" alt=\"Open In Colab\"/></a>"
      ]
    },
    {
      "cell_type": "code",
      "metadata": {
        "id": "-UBmiUqYTi4u",
        "colab_type": "code",
        "colab": {}
      },
      "source": [
        "import numpy as np\n",
        "import random\n",
        "from sklearn.datasets import load_diabetes\n",
        "import matplotlib.pyplot as plt"
      ],
      "execution_count": null,
      "outputs": []
    },
    {
      "cell_type": "code",
      "metadata": {
        "id": "NiDu135bZSBc",
        "colab_type": "code",
        "colab": {}
      },
      "source": [
        "diabetes = load_diabetes()"
      ],
      "execution_count": null,
      "outputs": []
    },
    {
      "cell_type": "code",
      "metadata": {
        "id": "RC9MX0NlZjWJ",
        "colab_type": "code",
        "colab": {
          "base_uri": "https://localhost:8080/",
          "height": 34
        },
        "outputId": "3340802a-359b-4a6a-eec8-25d53ef7346b"
      },
      "source": [
        "x = diabetes.data[:, 2]\n",
        "y = diabetes.target\n",
        "x.shape, y.shape"
      ],
      "execution_count": null,
      "outputs": [
        {
          "output_type": "execute_result",
          "data": {
            "text/plain": [
              "((442,), (442,))"
            ]
          },
          "metadata": {
            "tags": []
          },
          "execution_count": 4
        }
      ]
    },
    {
      "cell_type": "code",
      "metadata": {
        "id": "cV2rLLUQTAaT",
        "colab_type": "code",
        "colab": {}
      },
      "source": [
        "# gradient descent 를 클래스로 만들어보자\n",
        "class Unit:\n",
        "  def __init__(self):\n",
        "    self.w = random.random() + 0.5\n",
        "    self.b = random.random() + 0.5\n",
        "\n",
        "  def forward_prop(self, x):\n",
        "    y_hat = x * self.w + self.b\n",
        "    return y_hat  \n",
        "\n",
        "  def backprop(self, x, y, y_hat):\n",
        "    # 미분 계산을 빼려고 그냥 바로 집어넣음\n",
        "    err = -(y - y_hat)\n",
        "    w_grad = x * err\n",
        "    b_grad = 1 * err\n",
        "    return w_grad, b_grad\n",
        "\n",
        "  def fit(self, x, y, epoch = 100):\n",
        "    for i in range(epoch):\n",
        "      for x_i, y_i in zip(x, y):\n",
        "        y_hat = self.forward_prop(x_i)\n",
        "        w_grad, b_grad = self.backprop(x_i, y_i, y_hat)\n",
        "        self.w -= w_grad\n",
        "        self.b -= b_grad\n",
        "        # 뭘 return 하지? 애매"
      ],
      "execution_count": null,
      "outputs": []
    },
    {
      "cell_type": "code",
      "metadata": {
        "id": "rAF5gWTxTLRG",
        "colab_type": "code",
        "colab": {}
      },
      "source": [
        "unit = Unit()"
      ],
      "execution_count": null,
      "outputs": []
    },
    {
      "cell_type": "code",
      "metadata": {
        "id": "-rQNlAnuZKBF",
        "colab_type": "code",
        "colab": {}
      },
      "source": [
        "unit.fit(x, y)\n",
        "# unit.w와 unit.b에 저장된다"
      ],
      "execution_count": null,
      "outputs": []
    },
    {
      "cell_type": "code",
      "metadata": {
        "id": "CeGKDZ3lZNi3",
        "colab_type": "code",
        "colab": {
          "base_uri": "https://localhost:8080/",
          "height": 265
        },
        "outputId": "1418c4ea-fa2d-4ccd-bf15-f21caaec0a0d"
      },
      "source": [
        "plt.scatter(x, y)\n",
        "pt1 = (-0.1, unit.w * -0.1 + unit.b)\n",
        "pt2 = (0.16, unit.w * 0.16 + unit.b)\n",
        "plt.plot([pt1[0], pt2[0]],[pt1[1], pt2[1]])\n",
        "plt.show()"
      ],
      "execution_count": null,
      "outputs": [
        {
          "output_type": "display_data",
          "data": {
            "image/png": "[encoded data removed]",
            "text/plain": [
              "<Figure size 432x288 with 1 Axes>"
            ]
          },
          "metadata": {
            "tags": [],
            "needs_background": "light"
          }
        }
      ]
    },
    {
      "cell_type": "code",
      "metadata": {
        "id": "lZIuvGyRasZQ",
        "colab_type": "code",
        "colab": {}
      },
      "source": [
        ""
      ],
      "execution_count": null,
      "outputs": []
    }
  ]
}