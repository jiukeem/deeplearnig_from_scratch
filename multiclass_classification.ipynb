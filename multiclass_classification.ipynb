{
  "nbformat": 4,
  "nbformat_minor": 0,
  "metadata": {
    "colab": {
      "name": "multiclass classification.ipynb",
      "provenance": [],
      "collapsed_sections": [],
      "authorship_tag": "ABX9TyNWwZKfCvl3ZkowhuTZ8hEr",
      "include_colab_link": true
    },
    "kernelspec": {
      "name": "python3",
      "display_name": "Python 3"
    }
  },
  "cells": [
    {
      "cell_type": "markdown",
      "metadata": {
        "id": "view-in-github",
        "colab_type": "text"
      },
      "source": [
        "<a href=\"https://colab.research.google.com/github/jiukeem/deeplearning_from_scratch/blob/master/multiclass_classification.ipynb\" target=\"_parent\"><img src=\"https://colab.research.google.com/assets/colab-badge.svg\" alt=\"Open In Colab\"/></a>"
      ]
    },
    {
      "cell_type": "code",
      "metadata": {
        "id": "I1KvO7fh-qfA",
        "colab_type": "code",
        "colab": {}
      },
      "source": [
        "import numpy as np\n",
        "import matplotlib.pyplot as plt"
      ],
      "execution_count": 1,
      "outputs": []
    },
    {
      "cell_type": "code",
      "metadata": {
        "id": "uTao-3J0-xEF",
        "colab_type": "code",
        "colab": {}
      },
      "source": [
        "!pip install tensorflow_gpu==2.0.0"
      ],
      "execution_count": null,
      "outputs": []
    },
    {
      "cell_type": "code",
      "metadata": {
        "id": "AedbpjAZCkuf",
        "colab_type": "code",
        "colab": {}
      },
      "source": [
        "import tensorflow as tf"
      ],
      "execution_count": 3,
      "outputs": []
    },
    {
      "cell_type": "code",
      "metadata": {
        "id": "7Nsah1drCu7a",
        "colab_type": "code",
        "colab": {
          "base_uri": "https://localhost:8080/",
          "height": 35
        },
        "outputId": "6aa9eeab-c6e0-4b50-c773-c1940e319503"
      },
      "source": [
        "tf.__version__"
      ],
      "execution_count": 4,
      "outputs": [
        {
          "output_type": "execute_result",
          "data": {
            "application/vnd.google.colaboratory.intrinsic": {
              "type": "string"
            },
            "text/plain": [
              "'2.0.0'"
            ]
          },
          "metadata": {
            "tags": []
          },
          "execution_count": 4
        }
      ]
    },
    {
      "cell_type": "code",
      "metadata": {
        "id": "S6zxVgIlCyAk",
        "colab_type": "code",
        "colab": {}
      },
      "source": [
        "(x_train_all, y_train_all), (x_test, y_test) = tf.keras.datasets.fashion_mnist.load_data()"
      ],
      "execution_count": 5,
      "outputs": []
    },
    {
      "cell_type": "code",
      "metadata": {
        "id": "5RIzEDmdDEFY",
        "colab_type": "code",
        "colab": {
          "base_uri": "https://localhost:8080/",
          "height": 34
        },
        "outputId": "a94ed73b-618f-426b-f1d7-2ce01150caf0"
      },
      "source": [
        "x_train_all.shape, y_train_all.shape"
      ],
      "execution_count": 6,
      "outputs": [
        {
          "output_type": "execute_result",
          "data": {
            "text/plain": [
              "((60000, 28, 28), (60000,))"
            ]
          },
          "metadata": {
            "tags": []
          },
          "execution_count": 6
        }
      ]
    },
    {
      "cell_type": "code",
      "metadata": {
        "id": "jjdBUowpDSoX",
        "colab_type": "code",
        "colab": {
          "base_uri": "https://localhost:8080/",
          "height": 265
        },
        "outputId": "54498cbe-b2e2-4157-9813-485705696301"
      },
      "source": [
        "plt.imshow(x_train_all[115], cmap='gray') # imshow는 넘파이배열을 입력받아 이미지를 그림\n",
        "plt.show()"
      ],
      "execution_count": 7,
      "outputs": [
        {
          "output_type": "display_data",
          "data": {
            "image/png": "[encoded data removed]",
            "text/plain": [
              "<Figure size 432x288 with 1 Axes>"
            ]
          },
          "metadata": {
            "tags": [],
            "needs_background": "light"
          }
        }
      ]
    },
    {
      "cell_type": "code",
      "metadata": {
        "id": "XeeOD-vkDtMo",
        "colab_type": "code",
        "colab": {
          "base_uri": "https://localhost:8080/",
          "height": 34
        },
        "outputId": "11ac5264-9258-4c5c-aee3-b6e0969ccfb3"
      },
      "source": [
        "y_train_all[:10]"
      ],
      "execution_count": 8,
      "outputs": [
        {
          "output_type": "execute_result",
          "data": {
            "text/plain": [
              "array([9, 0, 0, 3, 0, 2, 7, 2, 5, 5], dtype=uint8)"
            ]
          },
          "metadata": {
            "tags": []
          },
          "execution_count": 8
        }
      ]
    },
    {
      "cell_type": "code",
      "metadata": {
        "id": "flBkTq9hD-cG",
        "colab_type": "code",
        "colab": {
          "base_uri": "https://localhost:8080/",
          "height": 34
        },
        "outputId": "d96adfb6-2e0b-42a7-910d-85d8ab31fbe2"
      },
      "source": [
        "np.bincount(y_train_all)"
      ],
      "execution_count": 9,
      "outputs": [
        {
          "output_type": "execute_result",
          "data": {
            "text/plain": [
              "array([6000, 6000, 6000, 6000, 6000, 6000, 6000, 6000, 6000, 6000])"
            ]
          },
          "metadata": {
            "tags": []
          },
          "execution_count": 9
        }
      ]
    },
    {
      "cell_type": "code",
      "metadata": {
        "id": "R6RUrB3NEKMx",
        "colab_type": "code",
        "colab": {}
      },
      "source": [
        "from sklearn.model_selection import train_test_split\n",
        "x_train, x_val, y_train, y_val = train_test_split(x_train_all, y_train_all, stratify=y_train_all, test_size=0.2, random_state=42)"
      ],
      "execution_count": 10,
      "outputs": []
    },
    {
      "cell_type": "code",
      "metadata": {
        "id": "mhBh6JVBEZPO",
        "colab_type": "code",
        "colab": {
          "base_uri": "https://localhost:8080/",
          "height": 51
        },
        "outputId": "711afc23-b86b-4ef0-ad93-eb4ddc76e764"
      },
      "source": [
        "np.bincount(y_train), np.bincount(y_val)"
      ],
      "execution_count": 11,
      "outputs": [
        {
          "output_type": "execute_result",
          "data": {
            "text/plain": [
              "(array([4800, 4800, 4800, 4800, 4800, 4800, 4800, 4800, 4800, 4800]),\n",
              " array([1200, 1200, 1200, 1200, 1200, 1200, 1200, 1200, 1200, 1200]))"
            ]
          },
          "metadata": {
            "tags": []
          },
          "execution_count": 11
        }
      ]
    },
    {
      "cell_type": "code",
      "metadata": {
        "id": "eYJj_ZtGEk8A",
        "colab_type": "code",
        "colab": {}
      },
      "source": [
        "x_train = x_train / 255\n",
        "x_val = x_val / 255\n",
        "# 픽셀 이미지는 보통 이렇게 normalization 한다고 함. 엄밀히 말하면 다른거지만 이정도로도 충분히 잘 작동함"
      ],
      "execution_count": 12,
      "outputs": []
    },
    {
      "cell_type": "code",
      "metadata": {
        "id": "N41WpYX9E-D5",
        "colab_type": "code",
        "colab": {
          "base_uri": "https://localhost:8080/",
          "height": 34
        },
        "outputId": "c2ff830e-14ba-4191-8d30-da96a88c999e"
      },
      "source": [
        "x_train = x_train.reshape(-1, 784) # 784 = 28 * 28\n",
        "x_val = x_val.reshape(-1, 784)\n",
        "x_train.shape, x_val.shape"
      ],
      "execution_count": 13,
      "outputs": [
        {
          "output_type": "execute_result",
          "data": {
            "text/plain": [
              "((48000, 784), (12000, 784))"
            ]
          },
          "metadata": {
            "tags": []
          },
          "execution_count": 13
        }
      ]
    },
    {
      "cell_type": "code",
      "metadata": {
        "id": "CSKcZZyjN3m4",
        "colab_type": "code",
        "colab": {
          "base_uri": "https://localhost:8080/",
          "height": 68
        },
        "outputId": "fc80cd2f-0fc8-44d9-8128-f5b22ed60763"
      },
      "source": [
        "tf.keras.utils.to_categorical([0, 1, 3]) # 원핫인코딩 해주는 케라스 모듈"
      ],
      "execution_count": 14,
      "outputs": [
        {
          "output_type": "execute_result",
          "data": {
            "text/plain": [
              "array([[1., 0., 0., 0.],\n",
              "       [0., 1., 0., 0.],\n",
              "       [0., 0., 0., 1.]], dtype=float32)"
            ]
          },
          "metadata": {
            "tags": []
          },
          "execution_count": 14
        }
      ]
    },
    {
      "cell_type": "code",
      "metadata": {
        "id": "yMX8M3yBR5Cy",
        "colab_type": "code",
        "colab": {
          "base_uri": "https://localhost:8080/",
          "height": 34
        },
        "outputId": "e1f2050f-a04e-4165-edc3-55ee36d3791a"
      },
      "source": [
        "y_train[:5], y_val[:5]"
      ],
      "execution_count": 15,
      "outputs": [
        {
          "output_type": "execute_result",
          "data": {
            "text/plain": [
              "(array([6, 6, 3, 3, 0], dtype=uint8), array([5, 4, 5, 2, 1], dtype=uint8))"
            ]
          },
          "metadata": {
            "tags": []
          },
          "execution_count": 15
        }
      ]
    },
    {
      "cell_type": "code",
      "metadata": {
        "id": "ic8oNmRcFuQS",
        "colab_type": "code",
        "colab": {
          "base_uri": "https://localhost:8080/",
          "height": 34
        },
        "outputId": "39511883-f414-4f52-f6ec-948469659a04"
      },
      "source": [
        "y_train_encoded = tf.keras.utils.to_categorical(y_train)\n",
        "y_val_encoded = tf.keras.utils.to_categorical(y_val)\n",
        "y_train_encoded.shape, y_val_encoded.shape"
      ],
      "execution_count": 16,
      "outputs": [
        {
          "output_type": "execute_result",
          "data": {
            "text/plain": [
              "((48000, 10), (12000, 10))"
            ]
          },
          "metadata": {
            "tags": []
          },
          "execution_count": 16
        }
      ]
    },
    {
      "cell_type": "code",
      "metadata": {
        "id": "HV60Qg6ISS61",
        "colab_type": "code",
        "colab": {
          "base_uri": "https://localhost:8080/",
          "height": 34
        },
        "outputId": "2effc4a0-ce43-4274-f7c3-34d17b8c3b73"
      },
      "source": [
        "y_train[0], y_train_encoded[0]"
      ],
      "execution_count": 17,
      "outputs": [
        {
          "output_type": "execute_result",
          "data": {
            "text/plain": [
              "(6, array([0., 0., 0., 0., 0., 0., 1., 0., 0., 0.], dtype=float32))"
            ]
          },
          "metadata": {
            "tags": []
          },
          "execution_count": 17
        }
      ]
    },
    {
      "cell_type": "code",
      "metadata": {
        "id": "2Y3OwNOpgLNe",
        "colab_type": "code",
        "colab": {}
      },
      "source": [
        "x_train = x_train[:500]\n",
        "x_val = x_val[:200]\n",
        "y_train_encoded = y_train_encoded[:500]\n",
        "y_val_encoded = y_val_encoded[:200]"
      ],
      "execution_count": 43,
      "outputs": []
    },
    {
      "cell_type": "code",
      "metadata": {
        "id": "ylMcULnWA6zC",
        "colab_type": "code",
        "colab": {}
      },
      "source": [
        "class MultiClassNetwork:\n",
        "  def __init__(self, learning_rate=0.1, num_of_node=10, l2_lambda=0, batch_size=32):\n",
        "    self.W1 = None\n",
        "    self.b1 = None\n",
        "    self.W2 = None\n",
        "    self.b2 = None\n",
        "    self.lr = learning_rate\n",
        "    self.node = num_of_node\n",
        "    self.cost_history = []\n",
        "    self.l2 = l2_lambda\n",
        "    self.val_cost_history = []\n",
        "    self.batch = batch_size\n",
        "\n",
        "  def initialization(self, X, Y):\n",
        "    np.random.seed(42) # 실전에서는 필요없따\n",
        "    self.W1 = np.random.normal(0, 1, (X.shape[1], self.node))\n",
        "    self.b1 = np.zeros((1, self.node))\n",
        "    self.W2 = np.random.normal(0, 1, (self.node, Y.shape[1]))\n",
        "    self.b2 = np.zeros((1, Y.shape[1]))\n",
        "    return self.W1, self.b1, self.W2, self.b2 \n",
        "\n",
        "  def gen_batch(self, X, Y):\n",
        "    num = X.shape[0] // self.batch\n",
        "    if X.shape[0] % self.batch:\n",
        "      num += 1\n",
        "    index = np.random.permutation(np.arange(X.shape[0]))\n",
        "    X = X[index]\n",
        "    Y = Y[index]\n",
        "    for i in range(num):\n",
        "      start = i * self.batch\n",
        "      end = (i + 1) * self.batch \n",
        "      yield X[start: end], Y[start: end] # 명시적으로 리스트를 만들지 않고 이터러블 가능한 무언가를 돌려줌\n",
        "      # 아마도 메모리를 덜 잡아먹나? O\n",
        "      # 리스트를 만들지 않으면서 필요한만큼 데이터를 추출할 수 있다.\n",
        "            \n",
        "  def sigmoid(self, Z1):\n",
        "    A1 = 1 / (1 + np.exp(-Z1))\n",
        "    return A1\n",
        "\n",
        "  def softmax(self, Z2):\n",
        "    A2 = np.exp(Z2) / (np.sum(np.exp(Z2), axis=1)).reshape(-1, 1)\n",
        "    return A2\n",
        "\n",
        "  def forward_prop(self, X):\n",
        "    Z1 = np.dot(X, self.W1) + self.b1\n",
        "    A1 = self.sigmoid(Z1)\n",
        "    Z2 = np.dot(A1, self.W2) + self.b2\n",
        "    A2 = self.softmax(Z2)\n",
        "    cache = (Z1, A1, Z2)\n",
        "    return A2, cache\n",
        "\n",
        "  def backward_prop(self, X, Y, A2, cache):\n",
        "    Z1, A1, Z2 = cache\n",
        "    m = X.shape[0]\n",
        "    dW2 = np.dot(A1.T, A2 - Y) / m + self.l2 * self.W2\n",
        "    db2 = np.sum(A2 - Y) / m\n",
        "    temp = np.dot(A2 - Y, self.W2.T) * A1 * (1 - A1)\n",
        "    dW1 = np.dot(X.T, temp) / m + self.l2 * self.W1\n",
        "    db1 = np.sum(temp, axis=0) / m\n",
        "    gradient = (dW2, db2, dW1, db1)\n",
        "    return gradient\n",
        "\n",
        "  def undate_parameter(self, gradient):\n",
        "    dW2, db2, dW1, db1 = gradient\n",
        "    self.W2 -= dW2\n",
        "    self.b2 -= db2\n",
        "    self.W1 -= dW1\n",
        "    self.b1 -= db1\n",
        "\n",
        "  def calcul_cost(self, Y, A2):\n",
        "    A2 = np.clip(A2, 1e-10, 1-1e-10)\n",
        "    L = np.sum(-Y * np.log(A2))\n",
        "    regul = self.l2 / 2 * (np.sum(self.W1 ** 2) + np.sum(self.W2 ** 2))\n",
        "    L += regul\n",
        "    cost = np.sum(L) / Y.shape[0]\n",
        "    return cost\n",
        "\n",
        "  def fit(self, X, Y, epoch=100, X_val=None, Y_val=None):\n",
        "    self.W1, self.b1, self.W2, self.b2 = self.initialization(X, Y)\n",
        "    for i in range(epoch):\n",
        "      for X_batch, Y_batch in self.gen_batch(X, Y):\n",
        "        A2, cache = self.forward_prop(X_batch)\n",
        "        gradient = self.backward_prop(X_batch, Y_batch, A2, cache)\n",
        "        self.undate_parameter(gradient)\n",
        "        cost = self.calcul_cost(Y_batch, A2)\n",
        "        self.cost_history.append(cost)\n",
        "        self.update_val(X_val, Y_val)\n",
        "      print(i, end='') # 데이터양도 많고 히든유닛노드를 100개로 설정했으므로 에포크 한개가 굉장히 오래걸린다. 진행되고 있는지 알수있도록 .표시\n",
        "\n",
        "  def update_val(self, X_val, Y_val):\n",
        "    A2, _ = self.forward_prop(X_val)\n",
        "    cost = self.calcul_cost(Y_val, A2)\n",
        "    self.val_cost_history.append(cost)\n",
        "\n",
        "  def predict(self, X, Y):\n",
        "    A2, _ = self.forward_prop(X)\n",
        "    return np.argmax(A2, axis=1)\n",
        "\n",
        "  def score(self, X, Y):\n",
        "    Y_hat = self.predict(X, Y)\n",
        "    score = np.mean(Y_hat == np.argmax(Y, axis=1))\n",
        "    return score"
      ],
      "execution_count": 21,
      "outputs": []
    },
    {
      "cell_type": "code",
      "metadata": {
        "id": "xEY_EkzHCj6O",
        "colab_type": "code",
        "colab": {
          "base_uri": "https://localhost:8080/",
          "height": 34
        },
        "outputId": "8e8b29f3-a934-4d8c-ff7f-daab78e0a8cd"
      },
      "source": [
        "fc = MultiClassNetwork(num_of_node=100, batch_size=256)\n",
        "fc.fit(x_train, y_train_encoded, X_val=x_val, Y_val=y_val_encoded, epoch=40)"
      ],
      "execution_count": 22,
      "outputs": [
        {
          "output_type": "stream",
          "text": [
            "0123456789101112131415161718192021222324252627282930313233343536373839"
          ],
          "name": "stdout"
        }
      ]
    },
    {
      "cell_type": "code",
      "metadata": {
        "id": "xFph2J2i2lgJ",
        "colab_type": "code",
        "colab": {
          "base_uri": "https://localhost:8080/",
          "height": 265
        },
        "outputId": "1bb12a3a-bb51-4662-e875-945ad41852a1"
      },
      "source": [
        "plt.plot(fc.cost_history)\n",
        "plt.plot(fc.val_cost_history)\n",
        "plt.legend(['train cost', 'val cost'])\n",
        "plt.show()"
      ],
      "execution_count": 23,
      "outputs": [
        {
          "output_type": "display_data",
          "data": {
            "image/png": "[encoded data removed]",
            "text/plain": [
              "<Figure size 432x288 with 1 Axes>"
            ]
          },
          "metadata": {
            "tags": [],
            "needs_background": "light"
          }
        }
      ]
    },
    {
      "cell_type": "code",
      "metadata": {
        "id": "muJXlNQLX9OD",
        "colab_type": "code",
        "colab": {
          "base_uri": "https://localhost:8080/",
          "height": 34
        },
        "outputId": "81f32c16-fa4e-49f7-c6c6-8950041eab03"
      },
      "source": [
        "fc.score(x_val, y_val_encoded)"
      ],
      "execution_count": 24,
      "outputs": [
        {
          "output_type": "execute_result",
          "data": {
            "text/plain": [
              "0.8563333333333333"
            ]
          },
          "metadata": {
            "tags": []
          },
          "execution_count": 24
        }
      ]
    },
    {
      "cell_type": "code",
      "metadata": {
        "id": "OVUa6-S1YE4U",
        "colab_type": "code",
        "colab": {}
      },
      "source": [
        ""
      ],
      "execution_count": null,
      "outputs": []
    }
  ]
}